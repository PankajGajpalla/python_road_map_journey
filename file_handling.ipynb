{
 "cells": [
  {
   "cell_type": "code",
   "execution_count": 8,
   "metadata": {},
   "outputs": [
    {
     "name": "stdout",
     "output_type": "stream",
     "text": [
      "hello\n"
     ]
    }
   ],
   "source": [
    "import os\n",
    "file = open(\"C:/Users/hp.1/Desktop/web_dev course/hi.txt\", 'r')\n",
    "print(file.read(5))\n",
    "file.close()\n"
   ]
  },
  {
   "cell_type": "code",
   "execution_count": 7,
   "metadata": {},
   "outputs": [],
   "source": [
    "# import os\n",
    "# file = open(\"C:/Users/hp.1/Documents/BitLocker Recovery Key 5FCF6220-BD8B-470F-B9A5-18A6E39E48FA.TXT\", 'r')\n",
    "# print(file.read())\n",
    "# file.close()"
   ]
  },
  {
   "cell_type": "code",
   "execution_count": 5,
   "metadata": {},
   "outputs": [
    {
     "name": "stdout",
     "output_type": "stream",
     "text": [
      "c:\\Users\\hp.1\\Desktop\\py_files\n"
     ]
    }
   ],
   "source": [
    "import os\n",
    "print(os.getcwd())\n"
   ]
  },
  {
   "cell_type": "code",
   "execution_count": 10,
   "metadata": {},
   "outputs": [
    {
     "name": "stdout",
     "output_type": "stream",
     "text": [
      "helloooo warld!\n",
      "\n"
     ]
    }
   ],
   "source": [
    "import os\n",
    "file = open(\"C:/Users/hp.1/Desktop/web_dev course/hi.txt\", 'r')\n",
    "print(file.readline())\n",
    "file.close()"
   ]
  },
  {
   "cell_type": "code",
   "execution_count": 17,
   "metadata": {},
   "outputs": [
    {
     "name": "stdout",
     "output_type": "stream",
     "text": [
      "['helloooo warld!\\n', 'i love python\\n', 'i am gay\\n', ':)']\n"
     ]
    }
   ],
   "source": [
    "import os\n",
    "file = open(\"C:/Users/hp.1/Desktop/web_dev course/hi.txt\", 'r')\n",
    "print(file.readlines())\n",
    "file.close()"
   ]
  },
  {
   "cell_type": "code",
   "execution_count": 20,
   "metadata": {},
   "outputs": [
    {
     "name": "stdout",
     "output_type": "stream",
     "text": [
      "helloooo warld!\n",
      "\n",
      "i love python\n",
      "\n",
      "i am gay\n",
      "\n",
      ":)\n"
     ]
    }
   ],
   "source": [
    "file = open(\"C:/Users/hp.1/Desktop/web_dev course/hi.txt\", 'r')\n",
    "for line in file.readlines():\n",
    "    print(line)\n",
    "file.close()"
   ]
  },
  {
   "cell_type": "code",
   "execution_count": 27,
   "metadata": {},
   "outputs": [],
   "source": [
    "file = open(\"C:/Users/hp.1/Desktop/web_dev course/hi.txt\", 'w')\n",
    "file.write(\"motherboard\")\n",
    "file.close()\n",
    "\n"
   ]
  },
  {
   "cell_type": "code",
   "execution_count": 30,
   "metadata": {},
   "outputs": [],
   "source": [
    "file = open(\"C:/Users/hp.1/Desktop/web_dev course/hm.txt\", 'x')\n",
    "\n",
    "file.write(\"margaya maderchod ....\")\n",
    "file.close()"
   ]
  },
  {
   "cell_type": "code",
   "execution_count": 36,
   "metadata": {},
   "outputs": [
    {
     "ename": "PermissionError",
     "evalue": "[WinError 32] The process cannot access the file because it is being used by another process: 'C:/Users/hp.1/Desktop/web_dev course/hmm.txt'",
     "output_type": "error",
     "traceback": [
      "\u001b[1;31m---------------------------------------------------------------------------\u001b[0m",
      "\u001b[1;31mPermissionError\u001b[0m                           Traceback (most recent call last)",
      "Cell \u001b[1;32mIn[36], line 2\u001b[0m\n\u001b[0;32m      1\u001b[0m \u001b[38;5;28;01mimport\u001b[39;00m \u001b[38;5;21;01mos\u001b[39;00m\n\u001b[1;32m----> 2\u001b[0m \u001b[43mos\u001b[49m\u001b[38;5;241;43m.\u001b[39;49m\u001b[43mremove\u001b[49m\u001b[43m(\u001b[49m\u001b[38;5;124;43m\"\u001b[39;49m\u001b[38;5;124;43mC:/Users/hp.1/Desktop/web_dev course/hmm.txt\u001b[39;49m\u001b[38;5;124;43m\"\u001b[39;49m\u001b[43m)\u001b[49m\n",
      "\u001b[1;31mPermissionError\u001b[0m: [WinError 32] The process cannot access the file because it is being used by another process: 'C:/Users/hp.1/Desktop/web_dev course/hmm.txt'"
     ]
    }
   ],
   "source": [
    "import os\n",
    "os.remove(\"C:/Users/hp.1/Desktop/web_dev course/hmm.txt\")\n"
   ]
  },
  {
   "cell_type": "code",
   "execution_count": 1,
   "metadata": {},
   "outputs": [],
   "source": [
    "import os\n",
    "if os.path.exists(\"C:/Users/hp.1/Desktop/web_dev course/hmm.txt\"):\n",
    "    os.remove(\"C:/Users/hp.1/Desktop/web_dev course/hmm.txt\")\n",
    "else:\n",
    "    print(\"file not Found:\")"
   ]
  },
  {
   "cell_type": "code",
   "execution_count": 7,
   "metadata": {},
   "outputs": [
    {
     "name": "stdout",
     "output_type": "stream",
     "text": [
      "Sorry! file not found\n"
     ]
    }
   ],
   "source": [
    "import os\n",
    "# f = open(\"hi.tnxt\")\n",
    "try:\n",
    "    f = open(\"hi.tnxt\")\n",
    "except Exception: #for more general\n",
    "    print(\"Sorry! file not found\")\n"
   ]
  },
  {
   "cell_type": "code",
   "execution_count": 9,
   "metadata": {},
   "outputs": [
    {
     "name": "stdout",
     "output_type": "stream",
     "text": [
      "Sorry! file not found\n"
     ]
    }
   ],
   "source": [
    "import os\n",
    "try:\n",
    "    f = open(\"hi.tnxt\")\n",
    "    var = bad_var\n",
    "except Exception: #for more general so its not specific\n",
    "    print(\"Sorry! file not found\")\n"
   ]
  },
  {
   "cell_type": "code",
   "execution_count": 12,
   "metadata": {},
   "outputs": [
    {
     "name": "stdout",
     "output_type": "stream",
     "text": [
      "name 'bad_var' is not defined\n"
     ]
    }
   ],
   "source": [
    "import os\n",
    "try:\n",
    "    f = open(\"hi.txt\")\n",
    "    var = bad_var\n",
    "except FileNotFoundError as e: \n",
    "    print(e)\n",
    "except Exception as e:\n",
    "    print(e)"
   ]
  },
  {
   "cell_type": "code",
   "execution_count": 16,
   "metadata": {},
   "outputs": [
    {
     "name": "stdout",
     "output_type": "stream",
     "text": [
      "problem\n",
      "chal bdk!\n"
     ]
    }
   ],
   "source": [
    "import os\n",
    "try:\n",
    "    f = open(\"hi.txt\")\n",
    "    # var = bad_var\n",
    "    raise Exception\n",
    "except FileNotFoundError as e: \n",
    "    print(e)\n",
    "except Exception as e:\n",
    "    print(\"problem\")\n",
    "else:\n",
    "    print(f.read())\n",
    "    f.close()\n",
    "finally:\n",
    "    print(\"chal bdk!\")"
   ]
  },
  {
   "cell_type": "code",
   "execution_count": null,
   "metadata": {},
   "outputs": [],
   "source": []
  },
  {
   "cell_type": "code",
   "execution_count": null,
   "metadata": {},
   "outputs": [],
   "source": []
  }
 ],
 "metadata": {
  "kernelspec": {
   "display_name": "Python 3",
   "language": "python",
   "name": "python3"
  },
  "language_info": {
   "codemirror_mode": {
    "name": "ipython",
    "version": 3
   },
   "file_extension": ".py",
   "mimetype": "text/x-python",
   "name": "python",
   "nbconvert_exporter": "python",
   "pygments_lexer": "ipython3",
   "version": "3.12.1"
  }
 },
 "nbformat": 4,
 "nbformat_minor": 2
}
