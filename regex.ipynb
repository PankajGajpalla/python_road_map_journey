{
 "cells": [
  {
   "cell_type": "code",
   "execution_count": 4,
   "metadata": {},
   "outputs": [
    {
     "name": "stdout",
     "output_type": "stream",
     "text": [
      "Tab\n",
      "\tTab\n",
      "\\tTab\n"
     ]
    }
   ],
   "source": [
    "import re\n",
    "sentence = 'Start a sentence and then bring it to an end'\n",
    "print('Tab')\n",
    "print('\\tTab')\n",
    "print(r'\\tTab')"
   ]
  },
  {
   "cell_type": "code",
   "execution_count": 20,
   "metadata": {},
   "outputs": [
    {
     "name": "stdout",
     "output_type": "stream",
     "text": [
      "<re.Match object; span=(1, 2), match='a'>\n",
      "<re.Match object; span=(2, 3), match='b'>\n",
      "<re.Match object; span=(3, 4), match='c'>\n",
      "<re.Match object; span=(4, 5), match='d'>\n",
      "<re.Match object; span=(5, 6), match='e'>\n",
      "<re.Match object; span=(6, 7), match='f'>\n",
      "<re.Match object; span=(7, 8), match='g'>\n",
      "<re.Match object; span=(8, 9), match='h'>\n",
      "<re.Match object; span=(9, 10), match='i'>\n",
      "<re.Match object; span=(10, 11), match='j'>\n",
      "<re.Match object; span=(11, 12), match='k'>\n",
      "<re.Match object; span=(12, 13), match='l'>\n",
      "<re.Match object; span=(13, 14), match='m'>\n",
      "<re.Match object; span=(14, 15), match='n'>\n",
      "<re.Match object; span=(15, 16), match='o'>\n",
      "<re.Match object; span=(16, 17), match='p'>\n",
      "<re.Match object; span=(17, 18), match='q'>\n",
      "<re.Match object; span=(18, 19), match='r'>\n",
      "<re.Match object; span=(19, 20), match='s'>\n",
      "<re.Match object; span=(20, 21), match='t'>\n",
      "<re.Match object; span=(21, 22), match='u'>\n",
      "<re.Match object; span=(22, 23), match='v'>\n",
      "<re.Match object; span=(23, 24), match='w'>\n",
      "<re.Match object; span=(24, 25), match='x'>\n",
      "<re.Match object; span=(25, 26), match='y'>\n",
      "<re.Match object; span=(26, 27), match='z'>\n",
      "<re.Match object; span=(28, 29), match='A'>\n",
      "<re.Match object; span=(29, 30), match='B'>\n",
      "<re.Match object; span=(30, 31), match='C'>\n",
      "<re.Match object; span=(31, 32), match='D'>\n",
      "<re.Match object; span=(32, 33), match='E'>\n",
      "<re.Match object; span=(33, 34), match='F'>\n",
      "<re.Match object; span=(34, 35), match='G'>\n",
      "<re.Match object; span=(35, 36), match='H'>\n",
      "<re.Match object; span=(36, 37), match='I'>\n",
      "<re.Match object; span=(37, 38), match='J'>\n",
      "<re.Match object; span=(38, 39), match='K'>\n",
      "<re.Match object; span=(39, 40), match='L'>\n",
      "<re.Match object; span=(40, 41), match='M'>\n",
      "<re.Match object; span=(41, 42), match='N'>\n",
      "<re.Match object; span=(42, 43), match='O'>\n",
      "<re.Match object; span=(43, 44), match='P'>\n",
      "<re.Match object; span=(44, 45), match='Q'>\n",
      "<re.Match object; span=(45, 46), match='R'>\n",
      "<re.Match object; span=(46, 47), match='S'>\n",
      "<re.Match object; span=(47, 48), match='T'>\n",
      "<re.Match object; span=(48, 49), match='U'>\n",
      "<re.Match object; span=(49, 50), match='V'>\n",
      "<re.Match object; span=(50, 51), match='W'>\n",
      "<re.Match object; span=(51, 52), match='X'>\n",
      "<re.Match object; span=(52, 53), match='Y'>\n",
      "<re.Match object; span=(53, 54), match='Z'>\n",
      "<re.Match object; span=(55, 56), match='1'>\n",
      "<re.Match object; span=(56, 57), match='2'>\n",
      "<re.Match object; span=(57, 58), match='3'>\n",
      "<re.Match object; span=(58, 59), match='4'>\n",
      "<re.Match object; span=(59, 60), match='5'>\n",
      "<re.Match object; span=(60, 61), match='6'>\n",
      "<re.Match object; span=(61, 62), match='7'>\n",
      "<re.Match object; span=(62, 63), match='8'>\n",
      "<re.Match object; span=(63, 64), match='9'>\n",
      "<re.Match object; span=(64, 65), match='0'>\n",
      "<re.Match object; span=(67, 68), match='H'>\n",
      "<re.Match object; span=(68, 69), match='a'>\n",
      "<re.Match object; span=(70, 71), match='H'>\n",
      "<re.Match object; span=(71, 72), match='a'>\n",
      "<re.Match object; span=(72, 73), match='H'>\n",
      "<re.Match object; span=(73, 74), match='a'>\n",
      "<re.Match object; span=(76, 77), match='M'>\n",
      "<re.Match object; span=(77, 78), match='e'>\n",
      "<re.Match object; span=(78, 79), match='t'>\n",
      "<re.Match object; span=(79, 80), match='a'>\n",
      "<re.Match object; span=(80, 81), match='C'>\n",
      "<re.Match object; span=(81, 82), match='h'>\n",
      "<re.Match object; span=(82, 83), match='a'>\n",
      "<re.Match object; span=(83, 84), match='r'>\n",
      "<re.Match object; span=(84, 85), match='a'>\n",
      "<re.Match object; span=(85, 86), match='c'>\n",
      "<re.Match object; span=(86, 87), match='t'>\n",
      "<re.Match object; span=(87, 88), match='e'>\n",
      "<re.Match object; span=(88, 89), match='r'>\n",
      "<re.Match object; span=(89, 90), match='s'>\n",
      "<re.Match object; span=(91, 92), match='('>\n",
      "<re.Match object; span=(92, 93), match='N'>\n",
      "<re.Match object; span=(93, 94), match='e'>\n",
      "<re.Match object; span=(94, 95), match='e'>\n",
      "<re.Match object; span=(95, 96), match='d'>\n",
      "<re.Match object; span=(97, 98), match='t'>\n",
      "<re.Match object; span=(98, 99), match='o'>\n",
      "<re.Match object; span=(100, 101), match='b'>\n",
      "<re.Match object; span=(101, 102), match='e'>\n",
      "<re.Match object; span=(103, 104), match='e'>\n",
      "<re.Match object; span=(104, 105), match='s'>\n",
      "<re.Match object; span=(105, 106), match='c'>\n",
      "<re.Match object; span=(106, 107), match='a'>\n",
      "<re.Match object; span=(107, 108), match='p'>\n",
      "<re.Match object; span=(108, 109), match='e'>\n",
      "<re.Match object; span=(109, 110), match='d'>\n",
      "<re.Match object; span=(110, 111), match=')'>\n",
      "<re.Match object; span=(111, 112), match=':'>\n",
      "<re.Match object; span=(113, 114), match='.'>\n",
      "<re.Match object; span=(115, 116), match='^'>\n",
      "<re.Match object; span=(117, 118), match='$'>\n",
      "<re.Match object; span=(119, 120), match='*'>\n",
      "<re.Match object; span=(121, 122), match='+'>\n",
      "<re.Match object; span=(123, 124), match='?'>\n",
      "<re.Match object; span=(125, 126), match='{'>\n",
      "<re.Match object; span=(126, 127), match='}'>\n",
      "<re.Match object; span=(128, 129), match='['>\n",
      "<re.Match object; span=(130, 131), match=']'>\n",
      "<re.Match object; span=(132, 133), match='\\\\'>\n",
      "<re.Match object; span=(134, 135), match='|'>\n",
      "<re.Match object; span=(136, 137), match='('>\n",
      "<re.Match object; span=(138, 139), match=')'>\n",
      "<re.Match object; span=(141, 142), match='c'>\n",
      "<re.Match object; span=(142, 143), match='o'>\n",
      "<re.Match object; span=(143, 144), match='r'>\n",
      "<re.Match object; span=(144, 145), match='e'>\n",
      "<re.Match object; span=(145, 146), match='y'>\n",
      "<re.Match object; span=(146, 147), match='m'>\n",
      "<re.Match object; span=(147, 148), match='s'>\n",
      "<re.Match object; span=(148, 149), match='.'>\n",
      "<re.Match object; span=(149, 150), match='c'>\n",
      "<re.Match object; span=(150, 151), match='o'>\n",
      "<re.Match object; span=(151, 152), match='m'>\n",
      "<re.Match object; span=(154, 155), match='3'>\n",
      "<re.Match object; span=(155, 156), match='2'>\n",
      "<re.Match object; span=(156, 157), match='1'>\n",
      "<re.Match object; span=(157, 158), match='-'>\n",
      "<re.Match object; span=(158, 159), match='5'>\n",
      "<re.Match object; span=(159, 160), match='5'>\n",
      "<re.Match object; span=(160, 161), match='5'>\n",
      "<re.Match object; span=(161, 162), match='-'>\n",
      "<re.Match object; span=(162, 163), match='4'>\n",
      "<re.Match object; span=(163, 164), match='3'>\n",
      "<re.Match object; span=(164, 165), match='2'>\n",
      "<re.Match object; span=(165, 166), match='1'>\n",
      "<re.Match object; span=(167, 168), match='1'>\n",
      "<re.Match object; span=(168, 169), match='2'>\n",
      "<re.Match object; span=(169, 170), match='3'>\n",
      "<re.Match object; span=(170, 171), match='.'>\n",
      "<re.Match object; span=(171, 172), match='5'>\n",
      "<re.Match object; span=(172, 173), match='5'>\n",
      "<re.Match object; span=(173, 174), match='5'>\n",
      "<re.Match object; span=(174, 175), match='.'>\n",
      "<re.Match object; span=(175, 176), match='1'>\n",
      "<re.Match object; span=(176, 177), match='2'>\n",
      "<re.Match object; span=(177, 178), match='3'>\n",
      "<re.Match object; span=(178, 179), match='4'>\n",
      "<re.Match object; span=(181, 182), match='M'>\n",
      "<re.Match object; span=(182, 183), match='r'>\n",
      "<re.Match object; span=(183, 184), match='.'>\n",
      "<re.Match object; span=(185, 186), match='S'>\n",
      "<re.Match object; span=(186, 187), match='c'>\n",
      "<re.Match object; span=(187, 188), match='h'>\n",
      "<re.Match object; span=(188, 189), match='a'>\n",
      "<re.Match object; span=(189, 190), match='f'>\n",
      "<re.Match object; span=(190, 191), match='e'>\n",
      "<re.Match object; span=(191, 192), match='r'>\n",
      "<re.Match object; span=(193, 194), match='M'>\n",
      "<re.Match object; span=(194, 195), match='r'>\n",
      "<re.Match object; span=(196, 197), match='S'>\n",
      "<re.Match object; span=(197, 198), match='m'>\n",
      "<re.Match object; span=(198, 199), match='i'>\n",
      "<re.Match object; span=(199, 200), match='t'>\n",
      "<re.Match object; span=(200, 201), match='h'>\n",
      "<re.Match object; span=(202, 203), match='M'>\n",
      "<re.Match object; span=(203, 204), match='r'>\n",
      "<re.Match object; span=(204, 205), match='.'>\n",
      "<re.Match object; span=(206, 207), match='D'>\n",
      "<re.Match object; span=(207, 208), match='a'>\n",
      "<re.Match object; span=(208, 209), match='v'>\n",
      "<re.Match object; span=(209, 210), match='i'>\n",
      "<re.Match object; span=(210, 211), match='s'>\n",
      "<re.Match object; span=(212, 213), match='M'>\n",
      "<re.Match object; span=(213, 214), match='r'>\n",
      "<re.Match object; span=(214, 215), match='s'>\n",
      "<re.Match object; span=(215, 216), match='.'>\n",
      "<re.Match object; span=(217, 218), match='R'>\n",
      "<re.Match object; span=(218, 219), match='o'>\n",
      "<re.Match object; span=(219, 220), match='b'>\n",
      "<re.Match object; span=(220, 221), match='i'>\n",
      "<re.Match object; span=(221, 222), match='n'>\n",
      "<re.Match object; span=(222, 223), match='s'>\n",
      "<re.Match object; span=(223, 224), match='o'>\n",
      "<re.Match object; span=(224, 225), match='n'>\n",
      "<re.Match object; span=(226, 227), match='M'>\n",
      "<re.Match object; span=(227, 228), match='r'>\n",
      "<re.Match object; span=(228, 229), match='.'>\n",
      "<re.Match object; span=(230, 231), match='T'>\n"
     ]
    },
    {
     "name": "stderr",
     "output_type": "stream",
     "text": [
      "<>:3: SyntaxWarning: invalid escape sequence '\\ '\n",
      "<>:29: SyntaxWarning: invalid escape sequence '\\d'\n",
      "<>:3: SyntaxWarning: invalid escape sequence '\\ '\n",
      "<>:29: SyntaxWarning: invalid escape sequence '\\d'\n",
      "C:\\Users\\hp.1\\AppData\\Local\\Temp\\ipykernel_10300\\626752959.py:3: SyntaxWarning: invalid escape sequence '\\ '\n",
      "  text_to_search = '''\n",
      "C:\\Users\\hp.1\\AppData\\Local\\Temp\\ipykernel_10300\\626752959.py:29: SyntaxWarning: invalid escape sequence '\\d'\n",
      "  '''\n"
     ]
    }
   ],
   "source": [
    "import re\n",
    "\n",
    "text_to_search = '''\n",
    "abcdefghijklmnopqrstuvwxyz\n",
    "ABCDEFGHIJKLMNOPQRSTUVWXYZ\n",
    "1234567890\n",
    "\n",
    "Ha HaHa\n",
    "\n",
    "MetaCharacters (Need to be escaped):\n",
    ". ^ $ * + ? {} [ ] \\ | ( )\n",
    "\n",
    "coreyms.com\n",
    "\n",
    "321-555-4321\n",
    "123.555.1234\n",
    "\n",
    "Mr. Schafer\n",
    "Mr Smith\n",
    "Mr. Davis\n",
    "Mrs. Robinson\n",
    "Mr. T\n",
    "'''\n",
    "\n",
    "sentence = 'Start a sentence and then bring it to an end'\n",
    "\n",
    "\n",
    "\n",
    "'''\n",
    ".       - Any Character Except New Line \n",
    "\\d      -Digit (0-9) \n",
    "\\D      -Not a Digit(-9)\n",
    "\\w      -word character (a-z, A-Z, 0-9, _)\n",
    "\\W      - not a word character\n",
    "\\s       - whitespace (space, tab, newline)\n",
    "\\S      -not whitespace (space, tab, newline)\n",
    "\n",
    "\\b      - word boundary\n",
    "\\B      - not a word boundary\n",
    "^       -   Beginning of a string\n",
    "$       - end of a string \n",
    "'''\n",
    "\n",
    "pattern = re.compile(r'\\S')\n",
    "matches = pattern.finditer(text_to_search)\n",
    "for match in matches:\n",
    "    print(match)  \n",
    "\n",
    "\n"
   ]
  },
  {
   "cell_type": "code",
   "execution_count": 23,
   "metadata": {},
   "outputs": [
    {
     "name": "stdout",
     "output_type": "stream",
     "text": [
      "<re.Match object; span=(72, 74), match='Ha'>\n"
     ]
    }
   ],
   "source": [
    "pattern = re.compile(r'\\BHa')\n",
    "matches = pattern.finditer(text_to_search)\n",
    "for match in matches:\n",
    "    print(match)"
   ]
  },
  {
   "cell_type": "code",
   "execution_count": 25,
   "metadata": {},
   "outputs": [
    {
     "name": "stdout",
     "output_type": "stream",
     "text": [
      "<re.Match object; span=(0, 5), match='Start'>\n"
     ]
    }
   ],
   "source": [
    "pattern = re.compile(r'^Start')\n",
    "matches = pattern.finditer(sentence)\n",
    "for match in matches:\n",
    "    print(match)"
   ]
  },
  {
   "cell_type": "code",
   "execution_count": 29,
   "metadata": {},
   "outputs": [],
   "source": [
    "pattern = re.compile(r'^a') #no match\n",
    "matches = pattern.finditer(sentence)\n",
    "for match in matches:\n",
    "    print(match)"
   ]
  },
  {
   "cell_type": "code",
   "execution_count": 30,
   "metadata": {},
   "outputs": [
    {
     "name": "stdout",
     "output_type": "stream",
     "text": [
      "<re.Match object; span=(41, 44), match='end'>\n"
     ]
    }
   ],
   "source": [
    "pattern = re.compile(r'\\S')\n",
    "matches = pattern.finditer(text_to_search)\n",
    "for match in matches:\n",
    "    print(match)"
   ]
  },
  {
   "cell_type": "code",
   "execution_count": 32,
   "metadata": {},
   "outputs": [],
   "source": [
    "pattern = re.compile(r'a$')\n",
    "matches = pattern.finditer(sentence)\n",
    "for match in matches:\n",
    "    print(match)"
   ]
  },
  {
   "cell_type": "code",
   "execution_count": 59,
   "metadata": {},
   "outputs": [
    {
     "name": "stdout",
     "output_type": "stream",
     "text": [
      "<re.Match object; span=(55, 58), match='123'>\n",
      "<re.Match object; span=(58, 61), match='456'>\n",
      "<re.Match object; span=(61, 64), match='789'>\n",
      "<re.Match object; span=(154, 157), match='321'>\n",
      "<re.Match object; span=(158, 161), match='555'>\n",
      "<re.Match object; span=(162, 165), match='432'>\n",
      "<re.Match object; span=(167, 170), match='123'>\n",
      "<re.Match object; span=(171, 174), match='555'>\n",
      "<re.Match object; span=(175, 178), match='123'>\n"
     ]
    }
   ],
   "source": [
    "pattern = re.compile(r'\\d\\d\\d')\n",
    "matches = pattern.finditer(text_to_search)\n",
    "for match in matches:\n",
    "    print(match)"
   ]
  },
  {
   "cell_type": "code",
   "execution_count": 36,
   "metadata": {},
   "outputs": [
    {
     "name": "stdout",
     "output_type": "stream",
     "text": [
      "<re.Match object; span=(154, 165), match='321-555-432'>\n",
      "<re.Match object; span=(167, 178), match='123.555.123'>\n"
     ]
    }
   ],
   "source": [
    "pattern = re.compile(r'\\d\\d\\d.\\d\\d\\d.\\d\\d\\d')\n",
    "matches = pattern.finditer(text_to_search)\n",
    "for match in matches:\n",
    "    print(match)"
   ]
  },
  {
   "cell_type": "code",
   "execution_count": 79,
   "metadata": {},
   "outputs": [
    {
     "name": "stdout",
     "output_type": "stream",
     "text": [
      "<re.Match object; span=(84, 94), match='123@123-12'>\n"
     ]
    }
   ],
   "source": [
    "# we extract phone number from a file:)\n",
    "pttrn = re.compile(r'\\d\\d\\d[@.]\\d\\d\\d[-]\\d\\d')\n",
    "with open('fake_detail.txt', 'r') as f:\n",
    "    contents = f.read()\n",
    "\n",
    "    matches = pttrn.finditer(contents)\n",
    "    for match in matches:\n",
    "        print(match)\n"
   ]
  },
  {
   "cell_type": "code",
   "execution_count": 81,
   "metadata": {},
   "outputs": [
    {
     "name": "stdout",
     "output_type": "stream",
     "text": [
      "<re.Match object; span=(97, 107), match='800-234-12'>\n",
      "<re.Match object; span=(109, 119), match='900-123-21'>\n"
     ]
    }
   ],
   "source": [
    "# we extract phone number from a file:)\n",
    "\n",
    "pttrn = re.compile(r'[89]00[-]\\d\\d\\d[-]\\d\\d')\n",
    "with open('fake_detail.txt', 'r') as f:\n",
    "    contents = f.read()\n",
    "\n",
    "    matches = pttrn.finditer(contents)\n",
    "    for match in matches:\n",
    "        print(match)\n"
   ]
  },
  {
   "cell_type": "code",
   "execution_count": 83,
   "metadata": {},
   "outputs": [
    {
     "name": "stdout",
     "output_type": "stream",
     "text": [
      "<re.Match object; span=(1, 2), match='a'>\n",
      "<re.Match object; span=(2, 3), match='b'>\n",
      "<re.Match object; span=(3, 4), match='c'>\n",
      "<re.Match object; span=(4, 5), match='d'>\n",
      "<re.Match object; span=(5, 6), match='e'>\n",
      "<re.Match object; span=(6, 7), match='f'>\n",
      "<re.Match object; span=(7, 8), match='g'>\n",
      "<re.Match object; span=(8, 9), match='h'>\n",
      "<re.Match object; span=(9, 10), match='i'>\n",
      "<re.Match object; span=(10, 11), match='j'>\n",
      "<re.Match object; span=(11, 12), match='k'>\n",
      "<re.Match object; span=(12, 13), match='l'>\n",
      "<re.Match object; span=(13, 14), match='m'>\n",
      "<re.Match object; span=(14, 15), match='n'>\n",
      "<re.Match object; span=(15, 16), match='o'>\n",
      "<re.Match object; span=(16, 17), match='p'>\n",
      "<re.Match object; span=(17, 18), match='q'>\n",
      "<re.Match object; span=(18, 19), match='r'>\n",
      "<re.Match object; span=(19, 20), match='s'>\n",
      "<re.Match object; span=(20, 21), match='t'>\n",
      "<re.Match object; span=(21, 22), match='u'>\n",
      "<re.Match object; span=(22, 23), match='v'>\n",
      "<re.Match object; span=(23, 24), match='w'>\n",
      "<re.Match object; span=(24, 25), match='x'>\n",
      "<re.Match object; span=(25, 26), match='y'>\n",
      "<re.Match object; span=(26, 27), match='z'>\n",
      "<re.Match object; span=(28, 29), match='A'>\n",
      "<re.Match object; span=(29, 30), match='B'>\n",
      "<re.Match object; span=(30, 31), match='C'>\n",
      "<re.Match object; span=(31, 32), match='D'>\n",
      "<re.Match object; span=(32, 33), match='E'>\n",
      "<re.Match object; span=(33, 34), match='F'>\n",
      "<re.Match object; span=(34, 35), match='G'>\n",
      "<re.Match object; span=(35, 36), match='H'>\n",
      "<re.Match object; span=(36, 37), match='I'>\n",
      "<re.Match object; span=(37, 38), match='J'>\n",
      "<re.Match object; span=(38, 39), match='K'>\n",
      "<re.Match object; span=(39, 40), match='L'>\n",
      "<re.Match object; span=(40, 41), match='M'>\n",
      "<re.Match object; span=(41, 42), match='N'>\n",
      "<re.Match object; span=(42, 43), match='O'>\n",
      "<re.Match object; span=(43, 44), match='P'>\n",
      "<re.Match object; span=(44, 45), match='Q'>\n",
      "<re.Match object; span=(45, 46), match='R'>\n",
      "<re.Match object; span=(46, 47), match='S'>\n",
      "<re.Match object; span=(47, 48), match='T'>\n",
      "<re.Match object; span=(48, 49), match='U'>\n",
      "<re.Match object; span=(49, 50), match='V'>\n",
      "<re.Match object; span=(50, 51), match='W'>\n",
      "<re.Match object; span=(51, 52), match='X'>\n",
      "<re.Match object; span=(52, 53), match='Y'>\n",
      "<re.Match object; span=(53, 54), match='Z'>\n",
      "<re.Match object; span=(67, 68), match='H'>\n",
      "<re.Match object; span=(68, 69), match='a'>\n",
      "<re.Match object; span=(69, 70), match=' '>\n",
      "<re.Match object; span=(70, 71), match='H'>\n",
      "<re.Match object; span=(71, 72), match='a'>\n",
      "<re.Match object; span=(72, 73), match='H'>\n",
      "<re.Match object; span=(73, 74), match='a'>\n",
      "<re.Match object; span=(76, 77), match='M'>\n",
      "<re.Match object; span=(77, 78), match='e'>\n",
      "<re.Match object; span=(78, 79), match='t'>\n",
      "<re.Match object; span=(79, 80), match='a'>\n",
      "<re.Match object; span=(80, 81), match='C'>\n",
      "<re.Match object; span=(81, 82), match='h'>\n",
      "<re.Match object; span=(82, 83), match='a'>\n",
      "<re.Match object; span=(83, 84), match='r'>\n",
      "<re.Match object; span=(84, 85), match='a'>\n",
      "<re.Match object; span=(85, 86), match='c'>\n",
      "<re.Match object; span=(86, 87), match='t'>\n",
      "<re.Match object; span=(87, 88), match='e'>\n",
      "<re.Match object; span=(88, 89), match='r'>\n",
      "<re.Match object; span=(89, 90), match='s'>\n",
      "<re.Match object; span=(90, 91), match=' '>\n",
      "<re.Match object; span=(92, 93), match='N'>\n",
      "<re.Match object; span=(93, 94), match='e'>\n",
      "<re.Match object; span=(94, 95), match='e'>\n",
      "<re.Match object; span=(95, 96), match='d'>\n",
      "<re.Match object; span=(96, 97), match=' '>\n",
      "<re.Match object; span=(97, 98), match='t'>\n",
      "<re.Match object; span=(98, 99), match='o'>\n",
      "<re.Match object; span=(99, 100), match=' '>\n",
      "<re.Match object; span=(100, 101), match='b'>\n",
      "<re.Match object; span=(101, 102), match='e'>\n",
      "<re.Match object; span=(102, 103), match=' '>\n",
      "<re.Match object; span=(103, 104), match='e'>\n",
      "<re.Match object; span=(104, 105), match='s'>\n",
      "<re.Match object; span=(105, 106), match='c'>\n",
      "<re.Match object; span=(106, 107), match='a'>\n",
      "<re.Match object; span=(107, 108), match='p'>\n",
      "<re.Match object; span=(108, 109), match='e'>\n",
      "<re.Match object; span=(109, 110), match='d'>\n",
      "<re.Match object; span=(114, 115), match=' '>\n",
      "<re.Match object; span=(116, 117), match=' '>\n",
      "<re.Match object; span=(118, 119), match=' '>\n",
      "<re.Match object; span=(120, 121), match=' '>\n",
      "<re.Match object; span=(122, 123), match=' '>\n",
      "<re.Match object; span=(124, 125), match=' '>\n",
      "<re.Match object; span=(127, 128), match=' '>\n",
      "<re.Match object; span=(129, 130), match=' '>\n",
      "<re.Match object; span=(131, 132), match=' '>\n",
      "<re.Match object; span=(133, 134), match=' '>\n",
      "<re.Match object; span=(135, 136), match=' '>\n",
      "<re.Match object; span=(137, 138), match=' '>\n",
      "<re.Match object; span=(141, 142), match='c'>\n",
      "<re.Match object; span=(142, 143), match='o'>\n",
      "<re.Match object; span=(143, 144), match='r'>\n",
      "<re.Match object; span=(144, 145), match='e'>\n",
      "<re.Match object; span=(145, 146), match='y'>\n",
      "<re.Match object; span=(146, 147), match='m'>\n",
      "<re.Match object; span=(147, 148), match='s'>\n",
      "<re.Match object; span=(149, 150), match='c'>\n",
      "<re.Match object; span=(150, 151), match='o'>\n",
      "<re.Match object; span=(151, 152), match='m'>\n",
      "<re.Match object; span=(181, 182), match='M'>\n",
      "<re.Match object; span=(182, 183), match='r'>\n",
      "<re.Match object; span=(184, 185), match=' '>\n",
      "<re.Match object; span=(185, 186), match='S'>\n",
      "<re.Match object; span=(186, 187), match='c'>\n",
      "<re.Match object; span=(187, 188), match='h'>\n",
      "<re.Match object; span=(188, 189), match='a'>\n",
      "<re.Match object; span=(189, 190), match='f'>\n",
      "<re.Match object; span=(190, 191), match='e'>\n",
      "<re.Match object; span=(191, 192), match='r'>\n",
      "<re.Match object; span=(193, 194), match='M'>\n",
      "<re.Match object; span=(194, 195), match='r'>\n",
      "<re.Match object; span=(195, 196), match=' '>\n",
      "<re.Match object; span=(196, 197), match='S'>\n",
      "<re.Match object; span=(197, 198), match='m'>\n",
      "<re.Match object; span=(198, 199), match='i'>\n",
      "<re.Match object; span=(199, 200), match='t'>\n",
      "<re.Match object; span=(200, 201), match='h'>\n",
      "<re.Match object; span=(202, 203), match='M'>\n",
      "<re.Match object; span=(203, 204), match='r'>\n",
      "<re.Match object; span=(205, 206), match=' '>\n",
      "<re.Match object; span=(206, 207), match='D'>\n",
      "<re.Match object; span=(207, 208), match='a'>\n",
      "<re.Match object; span=(208, 209), match='v'>\n",
      "<re.Match object; span=(209, 210), match='i'>\n",
      "<re.Match object; span=(210, 211), match='s'>\n",
      "<re.Match object; span=(212, 213), match='M'>\n",
      "<re.Match object; span=(213, 214), match='r'>\n",
      "<re.Match object; span=(214, 215), match='s'>\n",
      "<re.Match object; span=(216, 217), match=' '>\n",
      "<re.Match object; span=(217, 218), match='R'>\n",
      "<re.Match object; span=(218, 219), match='o'>\n",
      "<re.Match object; span=(219, 220), match='b'>\n",
      "<re.Match object; span=(220, 221), match='i'>\n",
      "<re.Match object; span=(221, 222), match='n'>\n",
      "<re.Match object; span=(222, 223), match='s'>\n",
      "<re.Match object; span=(223, 224), match='o'>\n",
      "<re.Match object; span=(224, 225), match='n'>\n",
      "<re.Match object; span=(226, 227), match='M'>\n",
      "<re.Match object; span=(227, 228), match='r'>\n",
      "<re.Match object; span=(229, 230), match=' '>\n",
      "<re.Match object; span=(230, 231), match='T'>\n"
     ]
    }
   ],
   "source": [
    "pattern = re.compile(r'[a-z A-Z]')\n",
    "matches = pattern.finditer(text_to_search)\n",
    "for match in matches:\n",
    "    print(match)"
   ]
  },
  {
   "cell_type": "code",
   "execution_count": 85,
   "metadata": {},
   "outputs": [
    {
     "name": "stdout",
     "output_type": "stream",
     "text": [
      "<re.Match object; span=(55, 56), match='1'>\n",
      "<re.Match object; span=(56, 57), match='2'>\n",
      "<re.Match object; span=(57, 58), match='3'>\n",
      "<re.Match object; span=(58, 59), match='4'>\n",
      "<re.Match object; span=(59, 60), match='5'>\n",
      "<re.Match object; span=(154, 155), match='3'>\n",
      "<re.Match object; span=(155, 156), match='2'>\n",
      "<re.Match object; span=(156, 157), match='1'>\n",
      "<re.Match object; span=(158, 159), match='5'>\n",
      "<re.Match object; span=(159, 160), match='5'>\n",
      "<re.Match object; span=(160, 161), match='5'>\n",
      "<re.Match object; span=(162, 163), match='4'>\n",
      "<re.Match object; span=(163, 164), match='3'>\n",
      "<re.Match object; span=(164, 165), match='2'>\n",
      "<re.Match object; span=(165, 166), match='1'>\n",
      "<re.Match object; span=(167, 168), match='1'>\n",
      "<re.Match object; span=(168, 169), match='2'>\n",
      "<re.Match object; span=(169, 170), match='3'>\n",
      "<re.Match object; span=(171, 172), match='5'>\n",
      "<re.Match object; span=(172, 173), match='5'>\n",
      "<re.Match object; span=(173, 174), match='5'>\n",
      "<re.Match object; span=(175, 176), match='1'>\n",
      "<re.Match object; span=(176, 177), match='2'>\n",
      "<re.Match object; span=(177, 178), match='3'>\n",
      "<re.Match object; span=(178, 179), match='4'>\n"
     ]
    }
   ],
   "source": [
    "pattern = re.compile(r'[1-5]')\n",
    "matches = pattern.finditer(text_to_search)\n",
    "for match in matches:\n",
    "    print(match)"
   ]
  },
  {
   "cell_type": "code",
   "execution_count": 86,
   "metadata": {},
   "outputs": [
    {
     "name": "stdout",
     "output_type": "stream",
     "text": [
      "<re.Match object; span=(0, 1), match='\\n'>\n",
      "<re.Match object; span=(27, 28), match='\\n'>\n",
      "<re.Match object; span=(54, 55), match='\\n'>\n",
      "<re.Match object; span=(55, 56), match='1'>\n",
      "<re.Match object; span=(56, 57), match='2'>\n",
      "<re.Match object; span=(57, 58), match='3'>\n",
      "<re.Match object; span=(58, 59), match='4'>\n",
      "<re.Match object; span=(59, 60), match='5'>\n",
      "<re.Match object; span=(60, 61), match='6'>\n",
      "<re.Match object; span=(61, 62), match='7'>\n",
      "<re.Match object; span=(62, 63), match='8'>\n",
      "<re.Match object; span=(63, 64), match='9'>\n",
      "<re.Match object; span=(64, 65), match='0'>\n",
      "<re.Match object; span=(65, 66), match='\\n'>\n",
      "<re.Match object; span=(66, 67), match='\\n'>\n",
      "<re.Match object; span=(74, 75), match='\\n'>\n",
      "<re.Match object; span=(75, 76), match='\\n'>\n",
      "<re.Match object; span=(91, 92), match='('>\n",
      "<re.Match object; span=(110, 111), match=')'>\n",
      "<re.Match object; span=(111, 112), match=':'>\n",
      "<re.Match object; span=(112, 113), match='\\n'>\n",
      "<re.Match object; span=(113, 114), match='.'>\n",
      "<re.Match object; span=(115, 116), match='^'>\n",
      "<re.Match object; span=(117, 118), match='$'>\n",
      "<re.Match object; span=(119, 120), match='*'>\n",
      "<re.Match object; span=(121, 122), match='+'>\n",
      "<re.Match object; span=(123, 124), match='?'>\n",
      "<re.Match object; span=(125, 126), match='{'>\n",
      "<re.Match object; span=(126, 127), match='}'>\n",
      "<re.Match object; span=(128, 129), match='['>\n",
      "<re.Match object; span=(130, 131), match=']'>\n",
      "<re.Match object; span=(132, 133), match='\\\\'>\n",
      "<re.Match object; span=(134, 135), match='|'>\n",
      "<re.Match object; span=(136, 137), match='('>\n",
      "<re.Match object; span=(138, 139), match=')'>\n",
      "<re.Match object; span=(139, 140), match='\\n'>\n",
      "<re.Match object; span=(140, 141), match='\\n'>\n",
      "<re.Match object; span=(148, 149), match='.'>\n",
      "<re.Match object; span=(152, 153), match='\\n'>\n",
      "<re.Match object; span=(153, 154), match='\\n'>\n",
      "<re.Match object; span=(154, 155), match='3'>\n",
      "<re.Match object; span=(155, 156), match='2'>\n",
      "<re.Match object; span=(156, 157), match='1'>\n",
      "<re.Match object; span=(157, 158), match='-'>\n",
      "<re.Match object; span=(158, 159), match='5'>\n",
      "<re.Match object; span=(159, 160), match='5'>\n",
      "<re.Match object; span=(160, 161), match='5'>\n",
      "<re.Match object; span=(161, 162), match='-'>\n",
      "<re.Match object; span=(162, 163), match='4'>\n",
      "<re.Match object; span=(163, 164), match='3'>\n",
      "<re.Match object; span=(164, 165), match='2'>\n",
      "<re.Match object; span=(165, 166), match='1'>\n",
      "<re.Match object; span=(166, 167), match='\\n'>\n",
      "<re.Match object; span=(167, 168), match='1'>\n",
      "<re.Match object; span=(168, 169), match='2'>\n",
      "<re.Match object; span=(169, 170), match='3'>\n",
      "<re.Match object; span=(170, 171), match='.'>\n",
      "<re.Match object; span=(171, 172), match='5'>\n",
      "<re.Match object; span=(172, 173), match='5'>\n",
      "<re.Match object; span=(173, 174), match='5'>\n",
      "<re.Match object; span=(174, 175), match='.'>\n",
      "<re.Match object; span=(175, 176), match='1'>\n",
      "<re.Match object; span=(176, 177), match='2'>\n",
      "<re.Match object; span=(177, 178), match='3'>\n",
      "<re.Match object; span=(178, 179), match='4'>\n",
      "<re.Match object; span=(179, 180), match='\\n'>\n",
      "<re.Match object; span=(180, 181), match='\\n'>\n",
      "<re.Match object; span=(183, 184), match='.'>\n",
      "<re.Match object; span=(192, 193), match='\\n'>\n",
      "<re.Match object; span=(201, 202), match='\\n'>\n",
      "<re.Match object; span=(204, 205), match='.'>\n",
      "<re.Match object; span=(211, 212), match='\\n'>\n",
      "<re.Match object; span=(215, 216), match='.'>\n",
      "<re.Match object; span=(225, 226), match='\\n'>\n",
      "<re.Match object; span=(228, 229), match='.'>\n",
      "<re.Match object; span=(231, 232), match='\\n'>\n"
     ]
    }
   ],
   "source": [
    "pattern = re.compile(r'[^a-z A-Z]')\n",
    "matches = pattern.finditer(text_to_search)\n",
    "for match in matches:\n",
    "    print(match)"
   ]
  },
  {
   "cell_type": "code",
   "execution_count": 89,
   "metadata": {},
   "outputs": [
    {
     "name": "stdout",
     "output_type": "stream",
     "text": [
      "<re.Match object; span=(232, 235), match='cat'>\n",
      "<re.Match object; span=(236, 239), match='hat'>\n",
      "<re.Match object; span=(240, 243), match='mat'>\n"
     ]
    }
   ],
   "source": [
    "text_to_search = '''\n",
    "abcdefghijklmnopqrstuvwxyz\n",
    "ABCDEFGHIJKLMNOPQRSTUVWXYZ\n",
    "1234567890\n",
    "\n",
    "Ha HaHa\n",
    "\n",
    "MetaCharacters (Need to be escaped):\n",
    ". ^ $ * + ? {} [ ]  | ( )\n",
    "\n",
    "coreyms.com\n",
    "\n",
    "321-555-4321\n",
    "123.555.1234\n",
    "\n",
    "Mr. Schafer\n",
    "Mr Smith\n",
    "Ms Davis\n",
    "Mrs. Robinson\n",
    "Mr. T\n",
    "\n",
    "cat\n",
    "hat\n",
    "mat\n",
    "bat\n",
    "'''\n",
    "pattern = re.compile(r'[^b]at') #to get all that ends with \"at\" except bat:)\n",
    "matches = pattern.finditer(text_to_search)\n",
    "for match in matches:\n",
    "    print(match)"
   ]
  },
  {
   "cell_type": "code",
   "execution_count": 92,
   "metadata": {},
   "outputs": [
    {
     "name": "stdout",
     "output_type": "stream",
     "text": [
      "<re.Match object; span=(153, 164), match='321-555-432'>\n",
      "<re.Match object; span=(166, 177), match='123.555.123'>\n"
     ]
    }
   ],
   "source": [
    "'''\n",
    "|           -Either Or\n",
    "( )         -Group\n",
    "\n",
    "Quantifiers:\n",
    "* - 8 or mroe\n",
    "+ - 1 or more\n",
    "? - 0 or one\n",
    "{3} - Exact number\n",
    "{3,4} - range of numbers( minimum, maximum)\n",
    "'''\n",
    "pattern = re.compile(r'\\d{3}.\\d{3}.\\d{4}') #to get all that ends with \"at\" except bat:)\n",
    "matches = pattern.finditer(text_to_search)\n",
    "for match in matches:\n",
    "    print(match)\n"
   ]
  },
  {
   "cell_type": "code",
   "execution_count": 99,
   "metadata": {},
   "outputs": [
    {
     "name": "stdout",
     "output_type": "stream",
     "text": [
      "<re.Match object; span=(180, 183), match='Mr.'>\n",
      "<re.Match object; span=(201, 204), match='Mr.'>\n",
      "<re.Match object; span=(225, 228), match='Mr.'>\n"
     ]
    }
   ],
   "source": [
    "pattern = re.compile(r'Mr\\.')\n",
    "# pattern = re.compile(r'Mr\\.?')\n",
    "matches = pattern.finditer(text_to_search)\n",
    "for match in matches:\n",
    "    print(match)"
   ]
  },
  {
   "cell_type": "code",
   "execution_count": 108,
   "metadata": {},
   "outputs": [
    {
     "name": "stdout",
     "output_type": "stream",
     "text": [
      "<re.Match object; span=(180, 191), match='Mr. Schafer'>\n",
      "<re.Match object; span=(192, 200), match='Mr Smith'>\n",
      "<re.Match object; span=(210, 223), match='Mrs. Robinson'>\n",
      "<re.Match object; span=(224, 229), match='Mr. T'>\n"
     ]
    }
   ],
   "source": [
    "text_to_search = '''\n",
    "abcdefghijklmnopqrstuvwxyz\n",
    "ABCDEFGHIJKLMNOPQRSTUVWXYZ\n",
    "1234567890\n",
    "\n",
    "Ha HaHa\n",
    "\n",
    "MetaCharacters (Need to be escaped):\n",
    ". ^ $ * + ? {} [ ]  | ( )\n",
    "\n",
    "coreyms.com\n",
    "\n",
    "321-555-4321\n",
    "123.555.1234\n",
    "\n",
    "Mr. Schafer\n",
    "Mr Smith\n",
    "Ms Davis\n",
    "Mrs. Robinson\n",
    "Mr. T\n",
    "\n",
    "cat\n",
    "hat\n",
    "mat\n",
    "bat'''\n",
    "pattern = re.compile(r'Mr[s]?\\.?\\s[A-Z]\\w*')\n",
    "# pattern = re.compile(r'Mr\\.?')\n",
    "matches = pattern.finditer(text_to_search)\n",
    "for match in matches:\n",
    "    print(match)"
   ]
  },
  {
   "cell_type": "code",
   "execution_count": 110,
   "metadata": {},
   "outputs": [
    {
     "name": "stdout",
     "output_type": "stream",
     "text": [
      "<re.Match object; span=(180, 191), match='Mr. Schafer'>\n",
      "<re.Match object; span=(192, 200), match='Mr Smith'>\n",
      "<re.Match object; span=(201, 209), match='Ms Davis'>\n",
      "<re.Match object; span=(210, 223), match='Mrs. Robinson'>\n",
      "<re.Match object; span=(224, 229), match='Mr. T'>\n"
     ]
    }
   ],
   "source": [
    "pattern = re.compile(r'M(r|s|rs)?\\.?\\s[A-Z]\\w*') #better then above\n",
    "# pattern = re.compile(r'Mr\\.?')\n",
    "matches = pattern.finditer(text_to_search)\n",
    "for match in matches:\n",
    "    print(match)"
   ]
  },
  {
   "cell_type": "code",
   "execution_count": 118,
   "metadata": {},
   "outputs": [
    {
     "name": "stdout",
     "output_type": "stream",
     "text": [
      "<re.Match object; span=(1, 24), match='CoreyMSchafer@gamil.com'>\n",
      "<re.Match object; span=(25, 53), match='corey.schafer@university.edu'>\n",
      "<re.Match object; span=(54, 83), match='corey-321-schafer@my-work.net'>\n",
      "<re.Match object; span=(84, 112), match='pankajsahu23102003@gmail.com'>\n"
     ]
    }
   ],
   "source": [
    "emails = '''\n",
    "CoreyMSchafer@gamil.com\n",
    "corey.schafer@university.edu\n",
    "corey-321-schafer@my-work.net\n",
    "pankajsahu23102003@gmail.com\n",
    "'''\n",
    "patter = re.compile(r'[A-Z a-z 0-9 .-]+@[a-z A-Z -]+\\.(com|edu|net)')\n",
    "matches = patter.finditer(emails)\n",
    "for match in matches:\n",
    "    print(match)"
   ]
  },
  {
   "cell_type": "code",
   "execution_count": 126,
   "metadata": {},
   "outputs": [
    {
     "name": "stdout",
     "output_type": "stream",
     "text": [
      "www.\n",
      "None\n",
      "None\n",
      "www.\n"
     ]
    }
   ],
   "source": [
    "urls = ''' \n",
    "https://www.google.com\n",
    "http://coreyms.com\n",
    "https://youtube.com\n",
    "https://www.nasa.gov\n",
    "'''\n",
    "patter = re.compile(r'https?://(www\\.)?(\\w+)(\\.\\w+)')\n",
    "matches = patter.finditer(urls)\n",
    "for match in matches:\n",
    "    print(match.group(1)) \n"
   ]
  },
  {
   "cell_type": "code",
   "execution_count": 128,
   "metadata": {},
   "outputs": [
    {
     "name": "stdout",
     "output_type": "stream",
     "text": [
      " \n",
      "google.com\n",
      "coreyms.com\n",
      "youtube.com\n",
      "nasa.gov\n",
      "\n"
     ]
    }
   ],
   "source": [
    "patter = re.compile(r'https?://(www\\.)?(\\w+)(\\.\\w+)')\n",
    "subbed_urls = patter.sub(r'\\2\\3', urls)\n",
    "# for match in matches:\n",
    "print(subbed_urls) \n"
   ]
  },
  {
   "cell_type": "code",
   "execution_count": 133,
   "metadata": {},
   "outputs": [
    {
     "name": "stdout",
     "output_type": "stream",
     "text": [
      "321-555-4321\n",
      "123.555.1234\n"
     ]
    }
   ],
   "source": [
    "patter = re.compile(r'\\d{3}.\\d{3}.\\d{4}')\n",
    "matches = patter.findall(text_to_search)\n",
    "for match in matches:\n",
    "    print(match) \n"
   ]
  },
  {
   "cell_type": "code",
   "execution_count": 139,
   "metadata": {},
   "outputs": [
    {
     "ename": "TypeError",
     "evalue": "'re.Match' object is not iterable",
     "output_type": "error",
     "traceback": [
      "\u001b[1;31m---------------------------------------------------------------------------\u001b[0m",
      "\u001b[1;31mTypeError\u001b[0m                                 Traceback (most recent call last)",
      "Cell \u001b[1;32mIn[139], line 6\u001b[0m\n\u001b[0;32m      3\u001b[0m patter \u001b[38;5;241m=\u001b[39m re\u001b[38;5;241m.\u001b[39mcompile(\u001b[38;5;124mr\u001b[39m\u001b[38;5;124m'\u001b[39m\u001b[38;5;124mstart\u001b[39m\u001b[38;5;124m'\u001b[39m, re\u001b[38;5;241m.\u001b[39mIGNORECASE)\n\u001b[0;32m      5\u001b[0m matches \u001b[38;5;241m=\u001b[39m patter\u001b[38;5;241m.\u001b[39msearch(sentence)\n\u001b[1;32m----> 6\u001b[0m \u001b[38;5;28;43;01mfor\u001b[39;49;00m\u001b[43m \u001b[49m\u001b[43mmatch\u001b[49m\u001b[43m \u001b[49m\u001b[38;5;129;43;01min\u001b[39;49;00m\u001b[43m \u001b[49m\u001b[43mmatches\u001b[49m\u001b[43m:\u001b[49m\n\u001b[0;32m      7\u001b[0m \u001b[43m    \u001b[49m\u001b[38;5;28;43mprint\u001b[39;49m\u001b[43m(\u001b[49m\u001b[43mmatches\u001b[49m\u001b[43m)\u001b[49m \n",
      "\u001b[1;31mTypeError\u001b[0m: 're.Match' object is not iterable"
     ]
    }
   ],
   "source": [
    "sentence = 'Start a sentence and then bring it to an end'\n",
    "\n",
    "patter = re.compile(r'start', re.IGNORECASE)\n",
    "\n",
    "matches = patter.search(sentence)\n",
    "for match in matches:\n",
    "    print(matches) \n",
    "    # mot iter jusr=t print\n"
   ]
  },
  {
   "cell_type": "code",
   "execution_count": 140,
   "metadata": {},
   "outputs": [
    {
     "name": "stdout",
     "output_type": "stream",
     "text": [
      "<re.Match object; span=(0, 5), match='Start'>\n"
     ]
    }
   ],
   "source": [
    "sentence = 'Start a sentence and then bring it to an end'\n",
    "\n",
    "patter = re.compile(r'start', re.IGNORECASE)\n",
    "\n",
    "matches = patter.search(sentence)\n",
    "print(matches) "
   ]
  }
 ],
 "metadata": {
  "kernelspec": {
   "display_name": "Python 3",
   "language": "python",
   "name": "python3"
  },
  "language_info": {
   "codemirror_mode": {
    "name": "ipython",
    "version": 3
   },
   "file_extension": ".py",
   "mimetype": "text/x-python",
   "name": "python",
   "nbconvert_exporter": "python",
   "pygments_lexer": "ipython3",
   "version": "3.12.1"
  }
 },
 "nbformat": 4,
 "nbformat_minor": 2
}
