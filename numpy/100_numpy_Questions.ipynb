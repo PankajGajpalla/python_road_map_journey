{
 "cells": [
  {
   "cell_type": "code",
   "execution_count": 1,
   "metadata": {},
   "outputs": [],
   "source": [
    "# 1. Import the numpy package under the name np (★☆☆)\n",
    "\n",
    "\n",
    "     \n",
    "# 2. Print the numpy version and the configuration (★☆☆)\n",
    "\n",
    "\n",
    "     \n",
    "# 3. Create a null vector of size 10 (★☆☆)\n",
    "\n",
    "\n",
    "     \n",
    "# 4. How to find the memory size of any array (★☆☆)\n",
    "\n",
    "\n",
    "     \n",
    "# 5. How to get the documentation of the numpy add function from the command line? (★☆☆)\n",
    "\n",
    "\n",
    "     \n",
    "# 6. Create a null vector of size 10 but the fifth value which is 1 (★☆☆)\n",
    "\n",
    "\n",
    "     \n",
    "# 7. Create a vector with values ranging from 10 to 49 (★☆☆)\n",
    "\n",
    "\n",
    "     \n",
    "# 8. Reverse a vector (first element becomes last) (★☆☆)\n",
    "\n",
    "\n",
    "     \n",
    "# 9. Create a 3x3 matrix with values ranging from 0 to 8 (★☆☆)\n",
    "\n",
    "# 10. Find indices of non-zero elements from [1,2,0,0,4,0] (★☆☆)\n",
    "     "
   ]
  },
  {
   "cell_type": "code",
   "execution_count": 3,
   "metadata": {},
   "outputs": [],
   "source": [
    "import numpy as np"
   ]
  },
  {
   "cell_type": "code",
   "execution_count": 7,
   "metadata": {},
   "outputs": [
    {
     "name": "stdout",
     "output_type": "stream",
     "text": [
      "1.26.3\n"
     ]
    }
   ],
   "source": [
    "print(np.__version__)\n",
    "# np.show_config()"
   ]
  },
  {
   "cell_type": "code",
   "execution_count": 13,
   "metadata": {},
   "outputs": [
    {
     "name": "stdout",
     "output_type": "stream",
     "text": [
      "[0. 0. 0. 0. 0. 0. 0. 0. 0. 0.]\n"
     ]
    }
   ],
   "source": [
    "null_vector = np.zeros((10))\n",
    "print(null_vector)"
   ]
  },
  {
   "cell_type": "code",
   "execution_count": 19,
   "metadata": {},
   "outputs": [
    {
     "data": {
      "text/plain": [
       "80"
      ]
     },
     "execution_count": 19,
     "metadata": {},
     "output_type": "execute_result"
    }
   ],
   "source": [
    "s = (null_vector.size * null_vector.itemsize)\n",
    "s"
   ]
  },
  {
   "cell_type": "code",
   "execution_count": 23,
   "metadata": {},
   "outputs": [
    {
     "name": "stdout",
     "output_type": "stream",
     "text": [
      "add(x1, x2, /, out=None, *, where=True, casting='same_kind', order='K', dtype=None, subok=True[, signature, extobj])\n",
      "\n",
      "Add arguments element-wise.\n",
      "\n",
      "Parameters\n",
      "----------\n",
      "x1, x2 : array_like\n",
      "    The arrays to be added.\n",
      "    If ``x1.shape != x2.shape``, they must be broadcastable to a common\n",
      "    shape (which becomes the shape of the output).\n",
      "out : ndarray, None, or tuple of ndarray and None, optional\n",
      "    A location into which the result is stored. If provided, it must have\n",
      "    a shape that the inputs broadcast to. If not provided or None,\n",
      "    a freshly-allocated array is returned. A tuple (possible only as a\n",
      "    keyword argument) must have length equal to the number of outputs.\n",
      "where : array_like, optional\n",
      "    This condition is broadcast over the input. At locations where the\n",
      "    condition is True, the `out` array will be set to the ufunc result.\n",
      "    Elsewhere, the `out` array will retain its original value.\n",
      "    Note that if an uninitialized `out` array is created via the default\n",
      "    ``out=None``, locations within it where the condition is False will\n",
      "    remain uninitialized.\n",
      "**kwargs\n",
      "    For other keyword-only arguments, see the\n",
      "    :ref:`ufunc docs <ufuncs.kwargs>`.\n",
      "\n",
      "Returns\n",
      "-------\n",
      "add : ndarray or scalar\n",
      "    The sum of `x1` and `x2`, element-wise.\n",
      "    This is a scalar if both `x1` and `x2` are scalars.\n",
      "\n",
      "Notes\n",
      "-----\n",
      "Equivalent to `x1` + `x2` in terms of array broadcasting.\n",
      "\n",
      "Examples\n",
      "--------\n",
      ">>> np.add(1.0, 4.0)\n",
      "5.0\n",
      ">>> x1 = np.arange(9.0).reshape((3, 3))\n",
      ">>> x2 = np.arange(3.0)\n",
      ">>> np.add(x1, x2)\n",
      "array([[  0.,   2.,   4.],\n",
      "       [  3.,   5.,   7.],\n",
      "       [  6.,   8.,  10.]])\n",
      "\n",
      "The ``+`` operator can be used as a shorthand for ``np.add`` on ndarrays.\n",
      "\n",
      ">>> x1 = np.arange(9.0).reshape((3, 3))\n",
      ">>> x2 = np.arange(3.0)\n",
      ">>> x1 + x2\n",
      "array([[ 0.,  2.,  4.],\n",
      "       [ 3.,  5.,  7.],\n",
      "       [ 6.,  8., 10.]])\n"
     ]
    }
   ],
   "source": [
    "np.info(np.add)"
   ]
  },
  {
   "cell_type": "code",
   "execution_count": 25,
   "metadata": {},
   "outputs": [
    {
     "data": {
      "text/plain": [
       "array([0., 0., 0., 0., 1., 0., 0., 0., 0., 0.])"
      ]
     },
     "execution_count": 25,
     "metadata": {},
     "output_type": "execute_result"
    }
   ],
   "source": [
    "arr = np.zeros((10))\n",
    "arr[4] = 1\n",
    "arr"
   ]
  },
  {
   "cell_type": "code",
   "execution_count": 28,
   "metadata": {},
   "outputs": [
    {
     "data": {
      "text/plain": [
       "array([10, 11, 12, 13, 14, 15, 16, 17, 18, 19, 20, 21, 22, 23, 24, 25, 26,\n",
       "       27, 28, 29, 30, 31, 32, 33, 34, 35, 36, 37, 38, 39, 40, 41, 42, 43,\n",
       "       44, 45, 46, 47, 48, 49])"
      ]
     },
     "execution_count": 28,
     "metadata": {},
     "output_type": "execute_result"
    }
   ],
   "source": [
    "np.arange(10,50)"
   ]
  },
  {
   "cell_type": "code",
   "execution_count": 29,
   "metadata": {},
   "outputs": [
    {
     "name": "stdout",
     "output_type": "stream",
     "text": [
      "[10 14 18 22 26 30 34 38 42 46]\n",
      "[46 42 38 34 30 26 22 18 14 10]\n"
     ]
    }
   ],
   "source": [
    "z = np.arange(10,50,4)\n",
    "print(z)\n",
    "print(z[::-1])"
   ]
  },
  {
   "cell_type": "code",
   "execution_count": 30,
   "metadata": {},
   "outputs": [
    {
     "data": {
      "text/plain": [
       "array([[0, 1, 2],\n",
       "       [3, 4, 5],\n",
       "       [6, 7, 8]])"
      ]
     },
     "execution_count": 30,
     "metadata": {},
     "output_type": "execute_result"
    }
   ],
   "source": [
    "np.arange(0,9).reshape((3,3))"
   ]
  },
  {
   "cell_type": "code",
   "execution_count": 35,
   "metadata": {},
   "outputs": [
    {
     "data": {
      "text/plain": [
       "(array([0, 1, 4], dtype=int64),)"
      ]
     },
     "execution_count": 35,
     "metadata": {},
     "output_type": "execute_result"
    }
   ],
   "source": [
    "n = np.array([1,2,0,0,4,0])\n",
    "# worng\n",
    "# for a in n:\n",
    "#     if n[a] !=0:\n",
    "#         print(a)\n",
    "np.nonzero(n)"
   ]
  },
  {
   "cell_type": "code",
   "execution_count": 39,
   "metadata": {},
   "outputs": [
    {
     "data": {
      "text/plain": [
       "array([[1., 0., 0.],\n",
       "       [0., 1., 0.],\n",
       "       [0., 0., 1.]])"
      ]
     },
     "execution_count": 39,
     "metadata": {},
     "output_type": "execute_result"
    }
   ],
   "source": [
    "# np.identity(3)\n",
    "np.eye(3)"
   ]
  },
  {
   "cell_type": "code",
   "execution_count": null,
   "metadata": {},
   "outputs": [],
   "source": [
    "# 11. Create a 3x3 identity matrix (★☆☆)\n",
    "\n",
    "\n",
    "     \n",
    "# 12. Create a 3x3x3 array with random values (★☆☆)\n",
    "\n",
    "\n",
    "     \n",
    "# 13. Create a 10x10 array with random values and find the minimum and maximum values (★☆☆)\n",
    "\n",
    "\n",
    "     \n",
    "# 14. Create a random vector of size 30 and find the mean value (★☆☆)\n",
    "\n",
    "\n",
    "     \n",
    "# 15. Create a 2d array with 1 on the border and 0 inside (★☆☆)\n",
    "\n",
    "# 16. How to add a border (filled with 0's) around an existing array? (★☆☆)\n",
    "\n",
    "\n",
    "     \n",
    "# 17. What is the result of the following expression? (★☆☆)\n",
    "# 0 * np.nan\n",
    "# np.nan == np.nan\n",
    "# np.inf > np.nan\n",
    "# np.nan - np.nan\n",
    "# np.nan in set([np.nan])\n",
    "# 0.3 == 3 * 0.1\n",
    "\n",
    "\n",
    "     \n",
    "# 18. Create a 5x5 matrix with values 1,2,3,4 just below the diagonal (★☆☆)\n",
    "\n",
    "\n",
    "     \n",
    "# 19. Create a 8x8 matrix and fill it with a checkerboard pattern (★☆☆)\n",
    "\n",
    "\n",
    "     \n",
    "# 20. Consider a (6,7,8) shape array, what is the index (x,y,z) of the 100th element? (★☆☆)"
   ]
  },
  {
   "cell_type": "code",
   "execution_count": 42,
   "metadata": {},
   "outputs": [
    {
     "data": {
      "text/plain": [
       "array([[[29, 26, 13],\n",
       "        [36,  3, 23],\n",
       "        [38, 13, 37]],\n",
       "\n",
       "       [[43, 34, 18],\n",
       "        [49, 32, 32],\n",
       "        [17, 29, 21]],\n",
       "\n",
       "       [[38, 14,  4],\n",
       "        [13, 21, 34],\n",
       "        [ 9, 12, 44]]])"
      ]
     },
     "execution_count": 42,
     "metadata": {},
     "output_type": "execute_result"
    }
   ],
   "source": [
    "n = np.random.randint(1,50,27).reshape(3,3,3)\n",
    "n"
   ]
  },
  {
   "cell_type": "code",
   "execution_count": 43,
   "metadata": {},
   "outputs": [
    {
     "name": "stdout",
     "output_type": "stream",
     "text": [
      "[[26 41  8 31 67 88 68  2 29 21]\n",
      " [99  8 44 19 49 36 69 42 28 25]\n",
      " [58  9 87 97  6 58 72 74 98 57]\n",
      " [87 87 26 54 79 76 14 30 53 28]\n",
      " [69 39 39 54 88 25 42 14 15 38]\n",
      " [ 9 16 36 94 32 49 97 21 52 66]\n",
      " [98 12 75 32 44 92 69 26 24 45]\n",
      " [87 57  3 53 46 10 92 72 25 58]\n",
      " [38 16 16 79  9 80 87 55 88 95]\n",
      " [50 80 12 75 32 20  7 60 85 85]]\n",
      "99\n",
      "2\n"
     ]
    }
   ],
   "source": [
    "n = np.random.randint(1,100,100).reshape(10,10)\n",
    "print(n)\n",
    "print(np.max(n))\n",
    "print(np.min(n))"
   ]
  },
  {
   "cell_type": "code",
   "execution_count": 45,
   "metadata": {},
   "outputs": [
    {
     "data": {
      "text/plain": [
       "array([[0.22193738, 0.23280988, 0.5017774 , 0.34249482, 0.67879376,\n",
       "        0.4381603 , 0.55258987, 0.6623442 , 0.23800211, 0.90984843],\n",
       "       [0.95363052, 0.18955907, 0.21509063, 0.01652706, 0.2699997 ,\n",
       "        0.63746535, 0.77163618, 0.19014495, 0.48354348, 0.34960143],\n",
       "       [0.26126112, 0.84308689, 0.30251446, 0.94584051, 0.51160104,\n",
       "        0.7426427 , 0.56004253, 0.89138711, 0.02713223, 0.96863857],\n",
       "       [0.33289139, 0.69254457, 0.09579182, 0.13903546, 0.13247407,\n",
       "        0.63076253, 0.91862631, 0.76775379, 0.93299186, 0.07147173],\n",
       "       [0.55294978, 0.17815671, 0.42376367, 0.40017572, 0.2586061 ,\n",
       "        0.42899663, 0.12294801, 0.87567788, 0.16280696, 0.48796467],\n",
       "       [0.10972297, 0.77210651, 0.61341036, 0.98259706, 0.93588074,\n",
       "        0.0336197 , 0.77947147, 0.27662506, 0.16313091, 0.94774371],\n",
       "       [0.43965694, 0.06159952, 0.49562732, 0.03112217, 0.22666016,\n",
       "        0.58191503, 0.76241939, 0.02259209, 0.62992764, 0.06800049],\n",
       "       [0.98550506, 0.29647418, 0.74902897, 0.60597864, 0.73838217,\n",
       "        0.98823613, 0.30884848, 0.51458781, 0.00925856, 0.40478064],\n",
       "       [0.55852899, 0.4557302 , 0.54893683, 0.75285623, 0.50707232,\n",
       "        0.2499272 , 0.55604721, 0.09878215, 0.21650525, 0.68986116],\n",
       "       [0.65296297, 0.58486105, 0.03796517, 0.18087466, 0.3239223 ,\n",
       "        0.61611639, 0.89952317, 0.3226922 , 0.93647444, 0.34065248]])"
      ]
     },
     "execution_count": 45,
     "metadata": {},
     "output_type": "execute_result"
    }
   ],
   "source": [
    "np.random.random((10,10))"
   ]
  },
  {
   "cell_type": "code",
   "execution_count": 46,
   "metadata": {},
   "outputs": [
    {
     "data": {
      "text/plain": [
       "0.5812201057970245"
      ]
     },
     "execution_count": 46,
     "metadata": {},
     "output_type": "execute_result"
    }
   ],
   "source": [
    "n = np.random.random((6,5))\n",
    "np.mean(n)"
   ]
  },
  {
   "cell_type": "code",
   "execution_count": 48,
   "metadata": {},
   "outputs": [
    {
     "name": "stdout",
     "output_type": "stream",
     "text": [
      "[[1. 1. 1. 1. 1. 1. 1. 1. 1. 1.]\n",
      " [1. 0. 0. 0. 0. 0. 0. 0. 0. 1.]\n",
      " [1. 0. 0. 0. 0. 0. 0. 0. 0. 1.]\n",
      " [1. 0. 0. 0. 0. 0. 0. 0. 0. 1.]\n",
      " [1. 0. 0. 0. 0. 0. 0. 0. 0. 1.]\n",
      " [1. 0. 0. 0. 0. 0. 0. 0. 0. 1.]\n",
      " [1. 0. 0. 0. 0. 0. 0. 0. 0. 1.]\n",
      " [1. 0. 0. 0. 0. 0. 0. 0. 0. 1.]\n",
      " [1. 0. 0. 0. 0. 0. 0. 0. 0. 1.]\n",
      " [1. 1. 1. 1. 1. 1. 1. 1. 1. 1.]]\n"
     ]
    }
   ],
   "source": [
    "n = np.ones((10,10))\n",
    "n[1:9, 1:9] = 0\n",
    "print(n)"
   ]
  },
  {
   "cell_type": "code",
   "execution_count": 60,
   "metadata": {},
   "outputs": [
    {
     "data": {
      "text/plain": [
       "array([[0, 0, 0, 0, 0, 0, 0, 0, 0, 0, 0, 0],\n",
       "       [0, 2, 7, 8, 7, 7, 6, 5, 9, 1, 1, 0],\n",
       "       [0, 5, 8, 6, 9, 4, 4, 5, 1, 3, 4, 0],\n",
       "       [0, 7, 2, 6, 2, 7, 4, 5, 1, 8, 2, 0],\n",
       "       [0, 1, 9, 5, 4, 2, 4, 6, 6, 5, 3, 0],\n",
       "       [0, 7, 9, 8, 8, 4, 7, 1, 3, 5, 4, 0],\n",
       "       [0, 2, 4, 7, 6, 9, 1, 9, 7, 7, 1, 0],\n",
       "       [0, 3, 4, 5, 7, 5, 9, 2, 2, 4, 8, 0],\n",
       "       [0, 7, 1, 7, 3, 8, 6, 9, 6, 7, 4, 0],\n",
       "       [0, 5, 5, 6, 1, 3, 1, 3, 9, 4, 2, 0],\n",
       "       [0, 9, 3, 9, 4, 3, 3, 4, 7, 5, 2, 0],\n",
       "       [0, 0, 0, 0, 0, 0, 0, 0, 0, 0, 0, 0]])"
      ]
     },
     "execution_count": 60,
     "metadata": {},
     "output_type": "execute_result"
    }
   ],
   "source": [
    "n = np.random.randint(1,10,100).reshape(10,10)\n",
    "# n[0:1] = 0 so  on but\n",
    "n = np.pad(n,pad_width=1, mode='constant', constant_values=0)\n",
    "n"
   ]
  },
  {
   "cell_type": "code",
   "execution_count": 67,
   "metadata": {},
   "outputs": [
    {
     "name": "stdout",
     "output_type": "stream",
     "text": [
      "[[0. 0. 0. 0. 0.]\n",
      " [0. 1. 1. 1. 0.]\n",
      " [0. 1. 1. 1. 0.]\n",
      " [0. 1. 1. 1. 0.]\n",
      " [0. 0. 0. 0. 0.]]\n"
     ]
    }
   ],
   "source": [
    "Z = np.ones((5,5))\n",
    "Z[:, [0, -1]] = 0 #all row with 0 and last column\n",
    "Z[[0, -1], :] = 0\n",
    "print(Z)"
   ]
  },
  {
   "cell_type": "code",
   "execution_count": 71,
   "metadata": {},
   "outputs": [
    {
     "name": "stdout",
     "output_type": "stream",
     "text": [
      "nan\n",
      "False\n",
      "False\n",
      "nan\n",
      "True\n",
      "False\n"
     ]
    }
   ],
   "source": [
    "print(0 * np.nan)\n",
    "print(np.nan == np.nan)\n",
    "print(np.inf > np.nan)\n",
    "print(np.nan - np.nan)\n",
    "print(np.nan in set([np.nan]))\n",
    "print(0.3 == 3 * 0.1)"
   ]
  },
  {
   "cell_type": "code",
   "execution_count": 77,
   "metadata": {},
   "outputs": [
    {
     "data": {
      "text/plain": [
       "array([[0, 1, 0, 0, 0],\n",
       "       [0, 0, 2, 0, 0],\n",
       "       [0, 0, 0, 3, 0],\n",
       "       [0, 0, 0, 0, 4],\n",
       "       [0, 0, 0, 0, 0]])"
      ]
     },
     "execution_count": 77,
     "metadata": {},
     "output_type": "execute_result"
    }
   ],
   "source": [
    "n = np.diag(1+np.arange(4), k=1)\n",
    "# n = np.diag(1+np.arange(3), k=1)\n",
    "n\n",
    "# z = np.arange(4) +1 \n"
   ]
  },
  {
   "cell_type": "code",
   "execution_count": 91,
   "metadata": {},
   "outputs": [
    {
     "data": {
      "text/plain": [
       "array([[1, 0, 1, 0, 1, 0, 1, 0],\n",
       "       [0, 1, 0, 1, 0, 1, 0, 1],\n",
       "       [1, 0, 1, 0, 1, 0, 1, 0],\n",
       "       [0, 1, 0, 1, 0, 1, 0, 1],\n",
       "       [1, 0, 1, 0, 1, 0, 1, 0],\n",
       "       [0, 1, 0, 1, 0, 1, 0, 1],\n",
       "       [1, 0, 1, 0, 1, 0, 1, 0],\n",
       "       [0, 1, 0, 1, 0, 1, 0, 1]])"
      ]
     },
     "execution_count": 91,
     "metadata": {},
     "output_type": "execute_result"
    }
   ],
   "source": [
    "z = np.zeros((8,8), dtype=int)\n",
    "z[::2, ::2] = 1\n",
    "z[1::2, 1::2] = 1\n",
    "z"
   ]
  },
  {
   "cell_type": "code",
   "execution_count": 94,
   "metadata": {},
   "outputs": [
    {
     "name": "stdout",
     "output_type": "stream",
     "text": [
      "[[0 1 0 1 0 1 0 1]\n",
      " [1 0 1 0 1 0 1 0]\n",
      " [0 1 0 1 0 1 0 1]\n",
      " [1 0 1 0 1 0 1 0]\n",
      " [0 1 0 1 0 1 0 1]\n",
      " [1 0 1 0 1 0 1 0]\n",
      " [0 1 0 1 0 1 0 1]\n",
      " [1 0 1 0 1 0 1 0]]\n"
     ]
    }
   ],
   "source": [
    "Z = np.zeros((8,8),dtype=int)\n",
    "Z[1::2,::2] = 1\n",
    "Z[::2,1::2] = 1\n",
    "print(Z)\n"
   ]
  },
  {
   "cell_type": "code",
   "execution_count": 107,
   "metadata": {},
   "outputs": [
    {
     "name": "stdout",
     "output_type": "stream",
     "text": [
      "100\n",
      "[[[  1   2   3   4   5   6   7   8]\n",
      "  [  9  10  11  12  13  14  15  16]\n",
      "  [ 17  18  19  20  21  22  23  24]\n",
      "  [ 25  26  27  28  29  30  31  32]\n",
      "  [ 33  34  35  36  37  38  39  40]\n",
      "  [ 41  42  43  44  45  46  47  48]\n",
      "  [ 49  50  51  52  53  54  55  56]]\n",
      "\n",
      " [[ 57  58  59  60  61  62  63  64]\n",
      "  [ 65  66  67  68  69  70  71  72]\n",
      "  [ 73  74  75  76  77  78  79  80]\n",
      "  [ 81  82  83  84  85  86  87  88]\n",
      "  [ 89  90  91  92  93  94  95  96]\n",
      "  [ 97  98  99 100 101 102 103 104]\n",
      "  [105 106 107 108 109 110 111 112]]\n",
      "\n",
      " [[113 114 115 116 117 118 119 120]\n",
      "  [121 122 123 124 125 126 127 128]\n",
      "  [129 130 131 132 133 134 135 136]\n",
      "  [137 138 139 140 141 142 143 144]\n",
      "  [145 146 147 148 149 150 151 152]\n",
      "  [153 154 155 156 157 158 159 160]\n",
      "  [161 162 163 164 165 166 167 168]]\n",
      "\n",
      " [[169 170 171 172 173 174 175 176]\n",
      "  [177 178 179 180 181 182 183 184]\n",
      "  [185 186 187 188 189 190 191 192]\n",
      "  [193 194 195 196 197 198 199 200]\n",
      "  [201 202 203 204 205 206 207 208]\n",
      "  [209 210 211 212 213 214 215 216]\n",
      "  [217 218 219 220 221 222 223 224]]\n",
      "\n",
      " [[225 226 227 228 229 230 231 232]\n",
      "  [233 234 235 236 237 238 239 240]\n",
      "  [241 242 243 244 245 246 247 248]\n",
      "  [249 250 251 252 253 254 255 256]\n",
      "  [257 258 259 260 261 262 263 264]\n",
      "  [265 266 267 268 269 270 271 272]\n",
      "  [273 274 275 276 277 278 279 280]]\n",
      "\n",
      " [[281 282 283 284 285 286 287 288]\n",
      "  [289 290 291 292 293 294 295 296]\n",
      "  [297 298 299 300 301 302 303 304]\n",
      "  [305 306 307 308 309 310 311 312]\n",
      "  [313 314 315 316 317 318 319 320]\n",
      "  [321 322 323 324 325 326 327 328]\n",
      "  [329 330 331 332 333 334 335 336]]]\n"
     ]
    },
    {
     "data": {
      "text/plain": [
       "(1, 5, 3)"
      ]
     },
     "execution_count": 107,
     "metadata": {},
     "output_type": "execute_result"
    }
   ],
   "source": [
    "z = np.arange(1,6*7*8+1).reshape(6,7,8)\n",
    "print(z[1,5,3])\n",
    "print(z)\n",
    "np.unravel_index(99,(6,7,8))\n"
   ]
  },
  {
   "cell_type": "code",
   "execution_count": null,
   "metadata": {},
   "outputs": [],
   "source": [
    "# 21. Create a checkerboard 8x8 matrix using the tile function (★☆☆)\n",
    "\n",
    "\n",
    "     \n",
    "# 22. Normalize a 5x5 random matrix (★☆☆)\n",
    "\n",
    "\n",
    "     \n",
    "# 23. Create a custom dtype that describes a color as four unsigned bytes (RGBA) (★☆☆)\n",
    "\n",
    "\n",
    "     \n",
    "# 24. Multiply a 5x3 matrix by a 3x2 matrix (real matrix product) (★☆☆)\n",
    "\n",
    "\n",
    "     \n",
    "# 25. Given a 1D array, negate all elements which are between 3 and 8, in place. (★☆☆)\n",
    "\n",
    "\n",
    "     \n",
    "# 26. What is the output of the following script? (★☆☆)\n",
    "# # Author: Jake VanderPlas\n",
    "\n",
    "# print(sum(range(5),-1))\n",
    "# from numpy import *\n",
    "# print(sum(range(5),-1))\n",
    "\n",
    "# 27. Consider an integer vector Z, which of these expressions are legal? (★☆☆)\n",
    "# Z**Z\n",
    "# 2 << Z >> 2\n",
    "# Z <- Z\n",
    "# 1j*Z\n",
    "# Z/1/1\n",
    "# Z<Z>Z\n",
    "\n",
    "\n",
    "     \n",
    "# 28. What are the result of the following expressions? (★☆☆)\n",
    "# np.array(0) / np.array(0)\n",
    "# np.array(0) // np.array(0)\n",
    "# np.array([np.nan]).astype(int).astype(float)\n",
    "\n",
    "\n",
    "     \n",
    "# 29. How to round away from zero a float array ? (★☆☆)\n",
    "\n",
    "\n",
    "     \n",
    "# 30. How to find common values between two arrays? (★☆☆)"
   ]
  },
  {
   "cell_type": "code",
   "execution_count": 109,
   "metadata": {},
   "outputs": [
    {
     "data": {
      "text/plain": [
       "array([[0, 1, 0, 1, 0, 1, 0, 1],\n",
       "       [1, 0, 1, 0, 1, 0, 1, 0],\n",
       "       [0, 1, 0, 1, 0, 1, 0, 1],\n",
       "       [1, 0, 1, 0, 1, 0, 1, 0],\n",
       "       [0, 1, 0, 1, 0, 1, 0, 1],\n",
       "       [1, 0, 1, 0, 1, 0, 1, 0],\n",
       "       [0, 1, 0, 1, 0, 1, 0, 1],\n",
       "       [1, 0, 1, 0, 1, 0, 1, 0]])"
      ]
     },
     "execution_count": 109,
     "metadata": {},
     "output_type": "execute_result"
    }
   ],
   "source": [
    "np.tile(np.array([[0,1],[1,0]]), (4,4))"
   ]
  },
  {
   "cell_type": "code",
   "execution_count": 112,
   "metadata": {},
   "outputs": [
    {
     "data": {
      "text/plain": [
       "array([[ 1.06764984e+00,  1.77545555e+00, -9.98986921e-01,\n",
       "        -3.64937219e-01, -1.28291929e+00],\n",
       "       [ 1.12726756e+00,  3.05032720e-01,  1.14440683e+00,\n",
       "        -9.75357909e-01, -1.53704910e-01],\n",
       "       [ 1.30605471e+00, -1.03102231e+00, -1.15274221e+00,\n",
       "         3.16675121e-04, -1.30324249e+00],\n",
       "       [-1.11537487e+00, -5.81674469e-01, -8.27089907e-01,\n",
       "        -2.25524338e-01, -3.12108130e-01],\n",
       "       [ 1.33373350e+00,  1.65562246e+00,  2.18742116e-01,\n",
       "        -6.49685667e-01,  1.04008868e+00]])"
      ]
     },
     "execution_count": 112,
     "metadata": {},
     "output_type": "execute_result"
    }
   ],
   "source": [
    "z = np.random.random((5,5))\n",
    "z = (z-np.mean(z))/(np.std(z))\n",
    "z"
   ]
  },
  {
   "cell_type": "code",
   "execution_count": 115,
   "metadata": {},
   "outputs": [],
   "source": [
    "color = np.dtype([(\"r\",np.ubyte),(\"g\",np.ubyte),(\"b\",np.ubyte),(\"a\",np.ubyte)])"
   ]
  },
  {
   "cell_type": "code",
   "execution_count": 120,
   "metadata": {},
   "outputs": [
    {
     "name": "stdout",
     "output_type": "stream",
     "text": [
      "[[ 0  1  2]\n",
      " [ 3  4  5]\n",
      " [ 6  7  8]\n",
      " [ 9 10 11]\n",
      " [12 13 14]]\n",
      "[[0 1]\n",
      " [2 3]\n",
      " [4 5]]\n"
     ]
    },
    {
     "data": {
      "text/plain": [
       "array([[ 10,  13],\n",
       "       [ 28,  40],\n",
       "       [ 46,  67],\n",
       "       [ 64,  94],\n",
       "       [ 82, 121]])"
      ]
     },
     "execution_count": 120,
     "metadata": {},
     "output_type": "execute_result"
    }
   ],
   "source": [
    "a = np.arange(15).reshape(5,3)\n",
    "b = np.arange(6).reshape(3,2)\n",
    "print(a)\n",
    "print(b)\n",
    "c = np.dot(a,b)\n",
    "c"
   ]
  },
  {
   "cell_type": "code",
   "execution_count": 121,
   "metadata": {},
   "outputs": [
    {
     "data": {
      "text/plain": [
       "array([[ 10,  13],\n",
       "       [ 28,  40],\n",
       "       [ 46,  67],\n",
       "       [ 64,  94],\n",
       "       [ 82, 121]])"
      ]
     },
     "execution_count": 121,
     "metadata": {},
     "output_type": "execute_result"
    }
   ],
   "source": [
    "a @ b"
   ]
  },
  {
   "cell_type": "code",
   "execution_count": 123,
   "metadata": {},
   "outputs": [
    {
     "data": {
      "text/plain": [
       "array([ 0,  1,  2,  3, -4, -5, -6, -7,  8,  9])"
      ]
     },
     "execution_count": 123,
     "metadata": {},
     "output_type": "execute_result"
    }
   ],
   "source": [
    "z = np.arange(10)\n",
    "z[(3<z) & (z<8)] *= -1\n",
    "z"
   ]
  },
  {
   "cell_type": "code",
   "execution_count": 127,
   "metadata": {},
   "outputs": [
    {
     "name": "stdout",
     "output_type": "stream",
     "text": [
      "10\n",
      "10\n"
     ]
    }
   ],
   "source": [
    "print(sum(range(5),-1))\n",
    "from numpy import *\n",
    "print(sum(range(5),-1))\n",
    "# range(5) is treated as an array-like object: [0, 1, 2, 3, 4].\n",
    "# The second argument -1 is interpreted as the axis parameter, not a starting value."
   ]
  },
  {
   "cell_type": "code",
   "execution_count": 140,
   "metadata": {},
   "outputs": [
    {
     "name": "stdout",
     "output_type": "stream",
     "text": [
      "[0 1 2 3 4]\n",
      "[0. 1. 2. 3. 4.]\n"
     ]
    }
   ],
   "source": [
    "Z = np.arange(5)\n",
    "print(Z)\n",
    "# print(Z**Z)\n",
    "# print(2 << Z >> 2)  first performs left shift then right shift\n",
    "# print(Z <- Z) #erro it should be z < -z\n",
    "# print(1j*Z) #comlex number represents root-1\n",
    "print(Z/1/1)\n",
    "# print(Z<Z>Z) #print((Z < Z) & (Z > Z))\n"
   ]
  },
  {
   "cell_type": "code",
   "execution_count": 147,
   "metadata": {},
   "outputs": [],
   "source": [
    "# np.array(0) / np.array(0)\n",
    "# np.array(0) // np.array(0)\n",
    "# np.array([np.nan]).astype(int).astype(float)"
   ]
  },
  {
   "cell_type": "code",
   "execution_count": 149,
   "metadata": {},
   "outputs": [
    {
     "name": "stdout",
     "output_type": "stream",
     "text": [
      "[ 7.  5.  5. -4.  2. -3. -1.  6. -9. -5.]\n"
     ]
    }
   ],
   "source": [
    "\n",
    "Z = np.random.uniform(-10,+10,10)\n",
    "print(np.copysign(np.ceil(np.abs(Z)), Z))\n",
    "\n",
    "# rounded = np.where(arr > 0, np.ceil(arr), np.floor(arr))\n",
    "# print(rounded)"
   ]
  },
  {
   "cell_type": "code",
   "execution_count": 153,
   "metadata": {},
   "outputs": [
    {
     "name": "stdout",
     "output_type": "stream",
     "text": [
      "[8 6 4 9 6 6 2 3 5 8]\n",
      "[7 0 8 8 7 3 6 4 4 2]\n",
      "[2 3 4 6 8]\n"
     ]
    }
   ],
   "source": [
    "Z1 = np.random.randint(0,10,10)\n",
    "\n",
    "Z2 = np.random.randint(0,10,10)\n",
    "print(Z1)\n",
    "print(Z2)\n",
    "print(np.intersect1d(Z1,Z2))"
   ]
  },
  {
   "cell_type": "code",
   "execution_count": 155,
   "metadata": {},
   "outputs": [],
   "source": [
    "# 31. How to ignore all numpy warnings (not recommended)? (★☆☆)\n",
    "\n",
    "\n",
    "     \n",
    "# 32. Is the following expressions true? (★☆☆)\n",
    "# np.sqrt(-1) == np.emath.sqrt(-1)\n",
    "\n",
    "\n",
    "     \n",
    "# 33. How to get the dates of yesterday, today and tomorrow? (★☆☆)\n",
    "\n",
    "\n",
    "     \n",
    "# 34. How to get all the dates corresponding to the month of July 2016? (★★☆)\n",
    "\n",
    "\n",
    "     \n",
    "# 35. How to compute ((A+B)*(-A/2)) in place (without copy)? (★★☆)\n",
    "                                                            \n",
    "# 36. Extract the integer part of a random array of positive numbers using 4 different methods (★★☆)\n",
    "\n",
    "\n",
    "     \n",
    "# 37. Create a 5x5 matrix with row values ranging from 0 to 4 (★★☆)\n",
    "\n",
    "\n",
    "     \n",
    "# 38. Consider a generator function that generates 10 integers and use it to build an array (★☆☆)\n",
    "\n",
    "\n",
    "     \n",
    "# 39. Create a vector of size 10 with values ranging from 0 to 1, both excluded (★★☆)\n",
    "\n",
    "\n",
    "     \n",
    "# 40. Create a random vector of size 10 and sort it (★★☆)           "
   ]
  },
  {
   "cell_type": "code",
   "execution_count": 171,
   "metadata": {},
   "outputs": [],
   "source": [
    "defaults = np.seterr(all=\"ignore\")\n",
    "# Z = np.ones(1) / 0\n",
    "# a = np.array([1,3,4,0])\n",
    "# a/0"
   ]
  },
  {
   "cell_type": "code",
   "execution_count": 168,
   "metadata": {},
   "outputs": [
    {
     "data": {
      "text/plain": [
       "False"
      ]
     },
     "execution_count": 168,
     "metadata": {},
     "output_type": "execute_result"
    }
   ],
   "source": [
    "np.sqrt(-1) == np.emath.sqrt(-1) \n",
    "# np.sqrt(-1) → nan with a warning.\n",
    "# np.emath.sqrt(-1) → 1j (correct complex result).\n",
    "# Comparison (==) → False."
   ]
  },
  {
   "cell_type": "code",
   "execution_count": 173,
   "metadata": {},
   "outputs": [],
   "source": [
    "_ = np.seterr(**defaults)\n"
   ]
  },
  {
   "cell_type": "code",
   "execution_count": 180,
   "metadata": {},
   "outputs": [
    {
     "name": "stdout",
     "output_type": "stream",
     "text": [
      "2025-02-05\n",
      "2025-02-06\n",
      "2025-02-07\n"
     ]
    }
   ],
   "source": [
    "yesterday = np.datetime64('today') - np.timedelta64(1)\n",
    "today     = np.datetime64('today')\n",
    "tomorrow  = np.datetime64('today') + np.timedelta64(1)\n",
    "print(yesterday)\n",
    "print(today)\n",
    "print(tomorrow)"
   ]
  },
  {
   "cell_type": "code",
   "execution_count": 182,
   "metadata": {},
   "outputs": [
    {
     "name": "stdout",
     "output_type": "stream",
     "text": [
      "['2025-02-01' '2025-02-02' '2025-02-03' '2025-02-04' '2025-02-05'\n",
      " '2025-02-06' '2025-02-07' '2025-02-08' '2025-02-09' '2025-02-10'\n",
      " '2025-02-11' '2025-02-12' '2025-02-13' '2025-02-14' '2025-02-15'\n",
      " '2025-02-16' '2025-02-17' '2025-02-18' '2025-02-19' '2025-02-20'\n",
      " '2025-02-21' '2025-02-22' '2025-02-23' '2025-02-24' '2025-02-25'\n",
      " '2025-02-26' '2025-02-27' '2025-02-28']\n"
     ]
    }
   ],
   "source": [
    "Z = np.arange('2025-02', '2025-03', dtype='datetime64[D]')\n",
    "print(Z)"
   ]
  },
  {
   "cell_type": "code",
   "execution_count": 193,
   "metadata": {},
   "outputs": [
    {
     "data": {
      "text/plain": [
       "array([-1.5, -1.5, -1.5])"
      ]
     },
     "execution_count": 193,
     "metadata": {},
     "output_type": "execute_result"
    }
   ],
   "source": [
    "# ((A+B)*(-A/2))\n",
    "A = np.ones(3)*1\n",
    "B = np.ones(3)*2\n",
    "np.add(A,B,out = B)\n",
    "np.divide(A,2,out = A)\n",
    "np.negative(A,out=A)\n",
    "np.multiply(A,B,out=A)\n",
    "A"
   ]
  },
  {
   "cell_type": "code",
   "execution_count": 195,
   "metadata": {},
   "outputs": [
    {
     "name": "stdout",
     "output_type": "stream",
     "text": [
      "[8.74199631 4.22913321 2.75016362 0.40240413 2.27695528 6.78451954\n",
      " 2.63941682 2.13787721 5.41469316 1.02616734]\n",
      "[8. 4. 2. 0. 2. 6. 2. 2. 5. 1.]\n",
      "[8. 4. 2. 0. 2. 6. 2. 2. 5. 1.]\n",
      "[8. 4. 2. 0. 2. 6. 2. 2. 5. 1.]\n",
      "[8 4 2 0 2 6 2 2 5 1]\n",
      "[8. 4. 2. 0. 2. 6. 2. 2. 5. 1.]\n"
     ]
    }
   ],
   "source": [
    "Z = np.random.uniform(0,10,10)\n",
    "print(Z)\n",
    "print(Z - Z%1)\n",
    "print(Z // 1)\n",
    "print(np.floor(Z))\n",
    "print(Z.astype(int))\n",
    "print(np.trunc(Z))"
   ]
  },
  {
   "cell_type": "code",
   "execution_count": 196,
   "metadata": {},
   "outputs": [
    {
     "name": "stdout",
     "output_type": "stream",
     "text": [
      "[[0. 1. 2. 3. 4.]\n",
      " [0. 1. 2. 3. 4.]\n",
      " [0. 1. 2. 3. 4.]\n",
      " [0. 1. 2. 3. 4.]\n",
      " [0. 1. 2. 3. 4.]]\n",
      "[[0 1 2 3 4]\n",
      " [0 1 2 3 4]\n",
      " [0 1 2 3 4]\n",
      " [0 1 2 3 4]\n",
      " [0 1 2 3 4]]\n"
     ]
    }
   ],
   "source": [
    "Z = np.zeros((5,5))\n",
    "Z += np.arange(5)\n",
    "print(Z)\n",
    "\n",
    "# without broadcasting\n",
    "Z = np.tile(np.arange(0, 5), (5,1))\n",
    "print(Z)"
   ]
  },
  {
   "cell_type": "code",
   "execution_count": 203,
   "metadata": {},
   "outputs": [
    {
     "name": "stdout",
     "output_type": "stream",
     "text": [
      "[0. 1. 2. 3. 4. 5. 6. 7. 8. 9.]\n"
     ]
    }
   ],
   "source": [
    "def generate():\n",
    "    for x in range(10):\n",
    "        yield x\n",
    "Z = np.fromiter(generate(),dtype=float,count=-1)\n",
    "print(Z)"
   ]
  },
  {
   "cell_type": "code",
   "execution_count": 207,
   "metadata": {},
   "outputs": [
    {
     "data": {
      "text/plain": [
       "array([0.09090909, 0.18181818, 0.27272727, 0.36363636, 0.45454545,\n",
       "       0.54545455, 0.63636364, 0.72727273, 0.81818182, 0.90909091])"
      ]
     },
     "execution_count": 207,
     "metadata": {},
     "output_type": "execute_result"
    }
   ],
   "source": [
    "v = np.linspace(0,1,11, endpoint=False)[1:]\n",
    "v"
   ]
  },
  {
   "cell_type": "code",
   "execution_count": 211,
   "metadata": {},
   "outputs": [
    {
     "ename": "ValueError",
     "evalue": "low >= high",
     "output_type": "error",
     "traceback": [
      "\u001b[1;31m---------------------------------------------------------------------------\u001b[0m",
      "\u001b[1;31mValueError\u001b[0m                                Traceback (most recent call last)",
      "Cell \u001b[1;32mIn[211], line 1\u001b[0m\n\u001b[1;32m----> 1\u001b[0m \u001b[43mnp\u001b[49m\u001b[38;5;241;43m.\u001b[39;49m\u001b[43mrandom\u001b[49m\u001b[38;5;241;43m.\u001b[39;49m\u001b[43mrandint\u001b[49m\u001b[43m(\u001b[49m\u001b[38;5;241;43m1\u001b[39;49m\u001b[43m,\u001b[49m\u001b[43m[\u001b[49m\u001b[38;5;241;43m1\u001b[39;49m\u001b[43m,\u001b[49m\u001b[38;5;241;43m5\u001b[39;49m\u001b[43m,\u001b[49m\u001b[38;5;241;43m9\u001b[39;49m\u001b[43m]\u001b[49m\u001b[43m)\u001b[49m\n",
      "File \u001b[1;32mnumpy\\\\random\\\\mtrand.pyx:780\u001b[0m, in \u001b[0;36mnumpy.random.mtrand.RandomState.randint\u001b[1;34m()\u001b[0m\n",
      "File \u001b[1;32mnumpy\\\\random\\\\_bounded_integers.pyx:2915\u001b[0m, in \u001b[0;36mnumpy.random._bounded_integers._rand_int32\u001b[1;34m()\u001b[0m\n",
      "File \u001b[1;32mnumpy\\\\random\\\\_bounded_integers.pyx:831\u001b[0m, in \u001b[0;36mnumpy.random._bounded_integers._rand_int32_broadcast\u001b[1;34m()\u001b[0m\n",
      "\u001b[1;31mValueError\u001b[0m: low >= high"
     ]
    }
   ],
   "source": [
    "np.random.randint(1,[3,5,9])"
   ]
  }
 ],
 "metadata": {
  "kernelspec": {
   "display_name": "Python 3",
   "language": "python",
   "name": "python3"
  },
  "language_info": {
   "codemirror_mode": {
    "name": "ipython",
    "version": 3
   },
   "file_extension": ".py",
   "mimetype": "text/x-python",
   "name": "python",
   "nbconvert_exporter": "python",
   "pygments_lexer": "ipython3",
   "version": "3.12.1"
  }
 },
 "nbformat": 4,
 "nbformat_minor": 2
}
