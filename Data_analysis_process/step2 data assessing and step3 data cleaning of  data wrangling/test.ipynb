{
 "cells": [
  {
   "cell_type": "code",
   "execution_count": 2,
   "metadata": {},
   "outputs": [
    {
     "name": "stdout",
     "output_type": "stream",
     "text": [
      "                                           contact  \\\n",
      "0             951-719-9170ZoeWellish@superrito.com   \n",
      "1            PamelaSHill@cuvox.de+1 (217) 569-3204   \n",
      "2                 402-363-6804JaeMDebord@gustr.com   \n",
      "3       PhanBaLiem@jourrapide.com+1 (732) 636-8246   \n",
      "4                  334-515-7487TimNeudorf@cuvox.de   \n",
      "5      207-477-0579MustafaLindstrom@jourrapide.com   \n",
      "6               928-284-4492RumanBisliev@gustr.com   \n",
      "7  ChidaluOnyekaozulu@jourrapide.com1 360 443 2060   \n",
      "8             PatrickGersten@rhyta.com402-848-4923   \n",
      "\n",
      "                                         email           phone_no  \n",
      "0         951-719-9170ZoeWellish@superrito.com               None  \n",
      "1                         PamelaSHill@cuvox.de  +1 (217) 569-3204  \n",
      "2             402-363-6804JaeMDebord@gustr.com               None  \n",
      "3                    PhanBaLiem@jourrapide.com  +1 (732) 636-8246  \n",
      "4              334-515-7487TimNeudorf@cuvox.de               None  \n",
      "5  207-477-0579MustafaLindstrom@jourrapide.com               None  \n",
      "6           928-284-4492RumanBisliev@gustr.com               None  \n",
      "7            ChidaluOnyekaozulu@jourrapide.com     1 360 443 2060  \n",
      "8                     PatrickGersten@rhyta.com               None  \n"
     ]
    }
   ],
   "source": [
    "import pandas as pd\n",
    "import re\n",
    "\n",
    "# Sample Data\n",
    "data = {\n",
    "    \"contact\": [\n",
    "        \"951-719-9170ZoeWellish@superrito.com\",  # Phone first, email second\n",
    "        \"PamelaSHill@cuvox.de+1 (217) 569-3204\",  # Email first, phone second\n",
    "        \"402-363-6804JaeMDebord@gustr.com\",  # Phone first\n",
    "        \"PhanBaLiem@jourrapide.com+1 (732) 636-8246\",  # Email first, phone second\n",
    "        \"334-515-7487TimNeudorf@cuvox.de\",  # Phone first\n",
    "        \"207-477-0579MustafaLindstrom@jourrapide.com\",  # Phone first\n",
    "        \"928-284-4492RumanBisliev@gustr.com\",  # Phone first\n",
    "        \"ChidaluOnyekaozulu@jourrapide.com1 360 443 2060\",  # Email first, phone second\n",
    "        \"PatrickGersten@rhyta.com402-848-4923\"  # Email first, phone second\n",
    "    ]\n",
    "}\n",
    "\n",
    "# Create DataFrame\n",
    "patients_copy = pd.DataFrame(data)\n",
    "\n",
    "# Improved Regex Patterns\n",
    "phone_pattern = r'(\\+?\\d{1,3}[-.\\s]?\\(?\\d{3}\\)?[-.\\s]?\\d{3}[-.\\s]?\\d{4})'\n",
    "email_pattern = r'([a-zA-Z0-9._%+-]+@[a-zA-Z0-9.-]+\\.[a-zA-Z]{2,})'\n",
    "\n",
    "# Function to extract both phone and email correctly\n",
    "def extract_phone_email(text):\n",
    "    phones = re.findall(phone_pattern, text)\n",
    "    emails = re.findall(email_pattern, text)\n",
    "\n",
    "    phone = phones[0] if phones else None\n",
    "    email = emails[0] if emails else None\n",
    "\n",
    "    return pd.Series([phone, email])\n",
    "\n",
    "# Apply extraction\n",
    "patients_copy[['phone_no', 'email']] = patients_copy['contact'].apply(extract_phone_email)\n",
    "\n",
    "# Display cleaned DataFrame\n",
    "print(patients_copy[['contact', 'email', 'phone_no']])\n"
   ]
  },
  {
   "cell_type": "code",
   "execution_count": 3,
   "metadata": {},
   "outputs": [
    {
     "name": "stdout",
     "output_type": "stream",
     "text": [
      "Phone: []\n",
      "Email: ['951-719-9170ZoeWellish@superrito.com']\n"
     ]
    }
   ],
   "source": [
    "sample_text = \"951-719-9170ZoeWellish@superrito.com\"\n",
    "phone_pattern = r'(\\+?\\d{1,3}[-.\\s]?\\(?\\d{3}\\)?[-.\\s]?\\d{3}[-.\\s]?\\d{4})'\n",
    "email_pattern = r'([a-zA-Z0-9._%+-]+@[a-zA-Z0-9.-]+\\.[a-zA-Z]{2,})'\n",
    "\n",
    "print(\"Phone:\", re.findall(phone_pattern, sample_text))\n",
    "print(\"Email:\", re.findall(email_pattern, sample_text))"
   ]
  },
  {
   "cell_type": "code",
   "execution_count": 4,
   "metadata": {},
   "outputs": [
    {
     "name": "stdout",
     "output_type": "stream",
     "text": [
      "Phone: []\n",
      "Email: ['951-719-9170ZoeWellish@superrito.com']\n"
     ]
    }
   ],
   "source": [
    "import re\n",
    "\n",
    "sample_text = \"951-719-9170ZoeWellish@superrito.com\"\n",
    "\n",
    "phone_pattern = r'(\\+?\\d{1,3}[-.\\s]?\\(?\\d{3}\\)?[-.\\s]?\\d{3}[-.\\s]?\\d{4})'\n",
    "email_pattern = r'(?<!\\d)([a-zA-Z0-9._%+-]+@[a-zA-Z0-9.-]+\\.[a-zA-Z]{2,})'  # Prevents false match\n",
    "\n",
    "print(\"Phone:\", re.findall(phone_pattern, sample_text))\n",
    "print(\"Email:\", re.findall(email_pattern, sample_text))\n"
   ]
  },
  {
   "cell_type": "code",
   "execution_count": 5,
   "metadata": {},
   "outputs": [
    {
     "name": "stdout",
     "output_type": "stream",
     "text": [
      "Phone: []\n",
      "Email: ['719-9170ZoeWellish@superrito.com']\n"
     ]
    }
   ],
   "source": [
    "import re\n",
    "\n",
    "sample_text = \"951-719-9170ZoeWellish@superrito.com\"\n",
    "\n",
    "# Fix: Ensure phone regex captures even if it's concatenated with an email\n",
    "phone_pattern = r'(\\+?\\d{1,3}[-.\\s]?\\(?\\d{3}\\)?[-.\\s]?\\d{3}[-.\\s]?\\d{4})'\n",
    "# Fix: Ensure email starts **after** a non-digit character to avoid capturing phone numbers\n",
    "email_pattern = r'(?<=\\D)([a-zA-Z0-9._%+-]+@[a-zA-Z0-9.-]+\\.[a-zA-Z]{2,})'\n",
    "\n",
    "phone_match = re.findall(phone_pattern, sample_text)\n",
    "email_match = re.findall(email_pattern, sample_text)\n",
    "\n",
    "print(\"Phone:\", phone_match)\n",
    "print(\"Email:\", email_match)\n"
   ]
  }
 ],
 "metadata": {
  "kernelspec": {
   "display_name": "Python 3",
   "language": "python",
   "name": "python3"
  },
  "language_info": {
   "codemirror_mode": {
    "name": "ipython",
    "version": 3
   },
   "file_extension": ".py",
   "mimetype": "text/x-python",
   "name": "python",
   "nbconvert_exporter": "python",
   "pygments_lexer": "ipython3",
   "version": "3.12.1"
  }
 },
 "nbformat": 4,
 "nbformat_minor": 2
}
