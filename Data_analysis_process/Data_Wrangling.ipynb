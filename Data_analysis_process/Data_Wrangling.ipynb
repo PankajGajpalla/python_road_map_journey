{
 "cells": [
  {
   "cell_type": "markdown",
   "metadata": {},
   "source": [
    "data_analysis:\n",
    "data analysis is a process of inspecting, cleansing, transforming and modeling data with the goal of discovering useful information, informing conclusions and supporting decision-making."
   ]
  },
  {
   "cell_type": "markdown",
   "metadata": {},
   "source": [
    "Data anlaysis process:\n",
    "\n",
    "1. Asking questions\n",
    "\n",
    "2. data wrangling/ Munging\n",
    "    a. gathering data - csv, api, web scraping, databases\n",
    "    b. assessing data - finding no. of rows and columsn (shape),  datatypes of columsn(info), describe\n",
    "    c. cleaning data - missing data, remove duplicate data,  incorrect data type\n",
    "\n",
    "3. exploratory data analysis\n",
    "    a. exploring data - finding corelation covarience, doing univarient and multivarient analysis, ploting graphs\n",
    "    b. augument data   - removing outliers, merging dataframes, adding new columns  this all collectively called as feature engineering\n",
    "\n",
    "4. drawing conclusions - machine learning, infrential statistics, descriptive statistics\n",
    "\n",
    "5. communicating results  -  inperson, reports, ppts, blog post\n",
    "\n",
    "funpart is that this can happen randomly any step not sequential as per the need"
   ]
  },
  {
   "cell_type": "markdown",
   "metadata": {},
   "source": [
    "data analysis process\n",
    "\n",
    "step 1 data wrangling"
   ]
  },
  {
   "cell_type": "code",
   "execution_count": 1,
   "metadata": {},
   "outputs": [
    {
     "name": "stderr",
     "output_type": "stream",
     "text": [
      "C:\\Users\\hp.1\\AppData\\Local\\Temp\\ipykernel_14916\\222825045.py:2: DeprecationWarning: \n",
      "Pyarrow will become a required dependency of pandas in the next major release of pandas (pandas 3.0),\n",
      "(to allow more performant data types, such as the Arrow string type, and better interoperability with other libraries)\n",
      "but was not found to be installed on your system.\n",
      "If this would cause problems for you,\n",
      "please provide us feedback at https://github.com/pandas-dev/pandas/issues/54466\n",
      "        \n",
      "  import pandas as pd\n"
     ]
    }
   ],
   "source": [
    "import requests\n",
    "import pandas as pd"
   ]
  },
  {
   "cell_type": "code",
   "execution_count": 8,
   "metadata": {},
   "outputs": [],
   "source": [
    "response = requests.get('https://www.omdbapi.com/?i=tt3896198&apikey=98d61743').json()"
   ]
  },
  {
   "cell_type": "code",
   "execution_count": 11,
   "metadata": {},
   "outputs": [
    {
     "data": {
      "text/plain": [
       "{'Title': 'Guardians of the Galaxy Vol. 2',\n",
       " 'Year': '2017',\n",
       " 'Rated': 'PG-13',\n",
       " 'Released': '05 May 2017',\n",
       " 'Runtime': '136 min',\n",
       " 'Genre': 'Action, Adventure, Comedy',\n",
       " 'Director': 'James Gunn',\n",
       " 'Writer': 'James Gunn, Dan Abnett, Andy Lanning',\n",
       " 'Actors': 'Chris Pratt, Zoe Saldaña, Dave Bautista',\n",
       " 'Plot': \"The Guardians struggle to keep together as a team while dealing with their personal family issues, notably Star-Lord's encounter with his father, the ambitious celestial being Ego.\",\n",
       " 'Language': 'English',\n",
       " 'Country': 'United States',\n",
       " 'Awards': 'Nominated for 1 Oscar. 15 wins & 61 nominations total',\n",
       " 'Poster': 'https://m.media-amazon.com/images/M/MV5BNWE5MGI3MDctMmU5Ni00YzI2LWEzMTQtZGIyZDA5MzQzNDBhXkEyXkFqcGc@._V1_SX300.jpg',\n",
       " 'Ratings': [{'Source': 'Internet Movie Database', 'Value': '7.6/10'},\n",
       "  {'Source': 'Rotten Tomatoes', 'Value': '85%'},\n",
       "  {'Source': 'Metacritic', 'Value': '67/100'}],\n",
       " 'Metascore': '67',\n",
       " 'imdbRating': '7.6',\n",
       " 'imdbVotes': '788,570',\n",
       " 'imdbID': 'tt3896198',\n",
       " 'Type': 'movie',\n",
       " 'DVD': 'N/A',\n",
       " 'BoxOffice': '$389,813,101',\n",
       " 'Production': 'N/A',\n",
       " 'Website': 'N/A',\n",
       " 'Response': 'True'}"
      ]
     },
     "execution_count": 11,
     "metadata": {},
     "output_type": "execute_result"
    }
   ],
   "source": [
    "response"
   ]
  },
  {
   "cell_type": "code",
   "execution_count": 18,
   "metadata": {},
   "outputs": [],
   "source": [
    "df = pd.DataFrame()"
   ]
  },
  {
   "cell_type": "code",
   "execution_count": 19,
   "metadata": {},
   "outputs": [],
   "source": [
    "#we are going to do like this\n",
    "\n",
    "# d = {'name':['pankaj', 'devraj'], 'age':[21, 20]}\n",
    "# df = pd.DataFrame(d)\n",
    "# df\n",
    "\n",
    "# \tname\tage\n",
    "# 0\tpankaj\t21\n",
    "# 1\tdevraj\t20"
   ]
  },
  {
   "cell_type": "code",
   "execution_count": 21,
   "metadata": {},
   "outputs": [],
   "source": [
    "# ill create list for \n",
    "# title\n",
    "# year\n",
    "# director\n",
    "# rating\n"
   ]
  },
  {
   "cell_type": "code",
   "execution_count": 24,
   "metadata": {},
   "outputs": [],
   "source": [
    "# for i in range(1, 50001):\n",
    "    # print(\"{:05d}\".format(i)) \n",
    "    # Formats number as 5-digit with leading zeros"
   ]
  },
  {
   "cell_type": "code",
   "execution_count": 29,
   "metadata": {},
   "outputs": [
    {
     "name": "stdout",
     "output_type": "stream",
     "text": [
      "https://www.omdbapi.com/?i=tt0000001&apikey=98d61743\n",
      "https://www.omdbapi.com/?i=tt0000002&apikey=98d61743\n",
      "https://www.omdbapi.com/?i=tt0000003&apikey=98d61743\n",
      "https://www.omdbapi.com/?i=tt0000004&apikey=98d61743\n",
      "https://www.omdbapi.com/?i=tt0000005&apikey=98d61743\n",
      "https://www.omdbapi.com/?i=tt0000006&apikey=98d61743\n",
      "https://www.omdbapi.com/?i=tt0000007&apikey=98d61743\n",
      "https://www.omdbapi.com/?i=tt0000008&apikey=98d61743\n",
      "https://www.omdbapi.com/?i=tt0000009&apikey=98d61743\n",
      "https://www.omdbapi.com/?i=tt0000010&apikey=98d61743\n"
     ]
    }
   ],
   "source": [
    "for i in range(1, 11):\n",
    "    print('https://www.omdbapi.com/?i=tt{:07d}&apikey=98d61743'.format(i))"
   ]
  },
  {
   "cell_type": "code",
   "execution_count": 34,
   "metadata": {},
   "outputs": [
    {
     "name": "stdout",
     "output_type": "stream",
     "text": [
      "Carmencita\n",
      "Le clown et ses chiens\n",
      "Poor Pierrot\n",
      "Un bon bock\n",
      "Blacksmith Scene\n",
      "Chinese Opium Den\n",
      "Corbett and Courtney Before the Kinetograph\n",
      "Edison Kinetoscopic Record of a Sneeze\n",
      "Miss Jerry\n"
     ]
    }
   ],
   "source": [
    "for i in range(1, 10):\n",
    "    response = requests.get('https://www.omdbapi.com/?i=tt{:07d}&apikey=98d61743'.format(i)).json()\n",
    "\n",
    "    print(response['Title'])"
   ]
  },
  {
   "cell_type": "code",
   "execution_count": 6,
   "metadata": {},
   "outputs": [],
   "source": [
    "title = []\n",
    "year = []\n",
    "director = []\n",
    "rating = []\n",
    "for i in range(1, 21):\n",
    "    response = requests.get('https://www.omdbapi.com/?i=tt{:07d}&apikey=98d61743'.format(i)).json()\n",
    "    \n",
    "    title.append(response['Title'])\n",
    "    year.append(response['Year'])\n",
    "    director.append(response['Director'])\n",
    "    rating.append(response['Ratings'][0]['Value'])\n",
    "\n",
    "d = {'title':title, 'year':year, 'director':director, 'rating':rating}\n"
   ]
  },
  {
   "cell_type": "code",
   "execution_count": 7,
   "metadata": {},
   "outputs": [
    {
     "data": {
      "text/html": [
       "<div>\n",
       "<style scoped>\n",
       "    .dataframe tbody tr th:only-of-type {\n",
       "        vertical-align: middle;\n",
       "    }\n",
       "\n",
       "    .dataframe tbody tr th {\n",
       "        vertical-align: top;\n",
       "    }\n",
       "\n",
       "    .dataframe thead th {\n",
       "        text-align: right;\n",
       "    }\n",
       "</style>\n",
       "<table border=\"1\" class=\"dataframe\">\n",
       "  <thead>\n",
       "    <tr style=\"text-align: right;\">\n",
       "      <th></th>\n",
       "      <th>title</th>\n",
       "      <th>year</th>\n",
       "      <th>director</th>\n",
       "      <th>rating</th>\n",
       "    </tr>\n",
       "  </thead>\n",
       "  <tbody>\n",
       "    <tr>\n",
       "      <th>0</th>\n",
       "      <td>Carmencita</td>\n",
       "      <td>1894</td>\n",
       "      <td>William K.L. Dickson</td>\n",
       "      <td>5.7/10</td>\n",
       "    </tr>\n",
       "    <tr>\n",
       "      <th>1</th>\n",
       "      <td>Le clown et ses chiens</td>\n",
       "      <td>1892</td>\n",
       "      <td>Émile Reynaud</td>\n",
       "      <td>6.0/10</td>\n",
       "    </tr>\n",
       "    <tr>\n",
       "      <th>2</th>\n",
       "      <td>Poor Pierrot</td>\n",
       "      <td>1892</td>\n",
       "      <td>Émile Reynaud</td>\n",
       "      <td>6.5/10</td>\n",
       "    </tr>\n",
       "    <tr>\n",
       "      <th>3</th>\n",
       "      <td>Un bon bock</td>\n",
       "      <td>1892</td>\n",
       "      <td>Émile Reynaud</td>\n",
       "      <td>6.1/10</td>\n",
       "    </tr>\n",
       "    <tr>\n",
       "      <th>4</th>\n",
       "      <td>Blacksmith Scene</td>\n",
       "      <td>1893</td>\n",
       "      <td>William K.L. Dickson</td>\n",
       "      <td>6.2/10</td>\n",
       "    </tr>\n",
       "    <tr>\n",
       "      <th>5</th>\n",
       "      <td>Chinese Opium Den</td>\n",
       "      <td>1894</td>\n",
       "      <td>William K.L. Dickson</td>\n",
       "      <td>5.3/10</td>\n",
       "    </tr>\n",
       "    <tr>\n",
       "      <th>6</th>\n",
       "      <td>Corbett and Courtney Before the Kinetograph</td>\n",
       "      <td>1894</td>\n",
       "      <td>William K.L. Dickson, William Heise</td>\n",
       "      <td>5.4/10</td>\n",
       "    </tr>\n",
       "    <tr>\n",
       "      <th>7</th>\n",
       "      <td>Edison Kinetoscopic Record of a Sneeze</td>\n",
       "      <td>1894</td>\n",
       "      <td>William K.L. Dickson</td>\n",
       "      <td>5.4/10</td>\n",
       "    </tr>\n",
       "    <tr>\n",
       "      <th>8</th>\n",
       "      <td>Miss Jerry</td>\n",
       "      <td>1894</td>\n",
       "      <td>Alexander Black</td>\n",
       "      <td>5.9/10</td>\n",
       "    </tr>\n",
       "    <tr>\n",
       "      <th>9</th>\n",
       "      <td>Leaving the Factory</td>\n",
       "      <td>1895</td>\n",
       "      <td>Louis Lumière</td>\n",
       "      <td>6.8/10</td>\n",
       "    </tr>\n",
       "    <tr>\n",
       "      <th>10</th>\n",
       "      <td>Akrobatisches Potpourri</td>\n",
       "      <td>1895</td>\n",
       "      <td>Max Skladanowsky</td>\n",
       "      <td>5.2/10</td>\n",
       "    </tr>\n",
       "    <tr>\n",
       "      <th>11</th>\n",
       "      <td>The Arrival of a Train</td>\n",
       "      <td>1896</td>\n",
       "      <td>Auguste Lumière, Louis Lumière</td>\n",
       "      <td>7.4/10</td>\n",
       "    </tr>\n",
       "    <tr>\n",
       "      <th>12</th>\n",
       "      <td>The Photographical Congress Arrives in Lyon</td>\n",
       "      <td>1895</td>\n",
       "      <td>Louis Lumière</td>\n",
       "      <td>5.7/10</td>\n",
       "    </tr>\n",
       "    <tr>\n",
       "      <th>13</th>\n",
       "      <td>The Waterer Watered</td>\n",
       "      <td>1895</td>\n",
       "      <td>Louis Lumière</td>\n",
       "      <td>7.1/10</td>\n",
       "    </tr>\n",
       "    <tr>\n",
       "      <th>14</th>\n",
       "      <td>Autour d'une cabine</td>\n",
       "      <td>1894</td>\n",
       "      <td>Émile Reynaud</td>\n",
       "      <td>6.2/10</td>\n",
       "    </tr>\n",
       "    <tr>\n",
       "      <th>15</th>\n",
       "      <td>Boat Leaving the Port</td>\n",
       "      <td>1895</td>\n",
       "      <td>Louis Lumière</td>\n",
       "      <td>5.9/10</td>\n",
       "    </tr>\n",
       "    <tr>\n",
       "      <th>16</th>\n",
       "      <td>Italienischer Bauerntanz</td>\n",
       "      <td>1895</td>\n",
       "      <td>Emil Skladanowsky, Max Skladanowsky</td>\n",
       "      <td>4.6/10</td>\n",
       "    </tr>\n",
       "    <tr>\n",
       "      <th>17</th>\n",
       "      <td>Das boxende Känguruh</td>\n",
       "      <td>1895</td>\n",
       "      <td>Max Skladanowsky</td>\n",
       "      <td>5.2/10</td>\n",
       "    </tr>\n",
       "    <tr>\n",
       "      <th>18</th>\n",
       "      <td>The Clown Barber</td>\n",
       "      <td>1898</td>\n",
       "      <td>James Williamson</td>\n",
       "      <td>5.3/10</td>\n",
       "    </tr>\n",
       "    <tr>\n",
       "      <th>19</th>\n",
       "      <td>The Derby 1895</td>\n",
       "      <td>1895</td>\n",
       "      <td>Birt Acres</td>\n",
       "      <td>4.7/10</td>\n",
       "    </tr>\n",
       "  </tbody>\n",
       "</table>\n",
       "</div>"
      ],
      "text/plain": [
       "                                          title  year  \\\n",
       "0                                    Carmencita  1894   \n",
       "1                        Le clown et ses chiens  1892   \n",
       "2                                  Poor Pierrot  1892   \n",
       "3                                   Un bon bock  1892   \n",
       "4                              Blacksmith Scene  1893   \n",
       "5                             Chinese Opium Den  1894   \n",
       "6   Corbett and Courtney Before the Kinetograph  1894   \n",
       "7        Edison Kinetoscopic Record of a Sneeze  1894   \n",
       "8                                    Miss Jerry  1894   \n",
       "9                           Leaving the Factory  1895   \n",
       "10                      Akrobatisches Potpourri  1895   \n",
       "11                       The Arrival of a Train  1896   \n",
       "12  The Photographical Congress Arrives in Lyon  1895   \n",
       "13                          The Waterer Watered  1895   \n",
       "14                          Autour d'une cabine  1894   \n",
       "15                        Boat Leaving the Port  1895   \n",
       "16                     Italienischer Bauerntanz  1895   \n",
       "17                         Das boxende Känguruh  1895   \n",
       "18                             The Clown Barber  1898   \n",
       "19                               The Derby 1895  1895   \n",
       "\n",
       "                               director  rating  \n",
       "0                  William K.L. Dickson  5.7/10  \n",
       "1                         Émile Reynaud  6.0/10  \n",
       "2                         Émile Reynaud  6.5/10  \n",
       "3                         Émile Reynaud  6.1/10  \n",
       "4                  William K.L. Dickson  6.2/10  \n",
       "5                  William K.L. Dickson  5.3/10  \n",
       "6   William K.L. Dickson, William Heise  5.4/10  \n",
       "7                  William K.L. Dickson  5.4/10  \n",
       "8                       Alexander Black  5.9/10  \n",
       "9                         Louis Lumière  6.8/10  \n",
       "10                     Max Skladanowsky  5.2/10  \n",
       "11       Auguste Lumière, Louis Lumière  7.4/10  \n",
       "12                        Louis Lumière  5.7/10  \n",
       "13                        Louis Lumière  7.1/10  \n",
       "14                        Émile Reynaud  6.2/10  \n",
       "15                        Louis Lumière  5.9/10  \n",
       "16  Emil Skladanowsky, Max Skladanowsky  4.6/10  \n",
       "17                     Max Skladanowsky  5.2/10  \n",
       "18                     James Williamson  5.3/10  \n",
       "19                           Birt Acres  4.7/10  "
      ]
     },
     "execution_count": 7,
     "metadata": {},
     "output_type": "execute_result"
    }
   ],
   "source": [
    "df = pd.DataFrame(d)\n",
    "df"
   ]
  },
  {
   "cell_type": "code",
   "execution_count": 8,
   "metadata": {},
   "outputs": [],
   "source": [
    "df.to_csv('movies.csv')"
   ]
  }
 ],
 "metadata": {
  "kernelspec": {
   "display_name": "Python 3",
   "language": "python",
   "name": "python3"
  },
  "language_info": {
   "codemirror_mode": {
    "name": "ipython",
    "version": 3
   },
   "file_extension": ".py",
   "mimetype": "text/x-python",
   "name": "python",
   "nbconvert_exporter": "python",
   "pygments_lexer": "ipython3",
   "version": "3.12.1"
  }
 },
 "nbformat": 4,
 "nbformat_minor": 2
}
