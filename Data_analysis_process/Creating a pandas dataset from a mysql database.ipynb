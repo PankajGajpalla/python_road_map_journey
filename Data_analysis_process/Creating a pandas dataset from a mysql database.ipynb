{
 "cells": [
  {
   "cell_type": "code",
   "execution_count": 1,
   "metadata": {},
   "outputs": [
    {
     "name": "stdout",
     "output_type": "stream",
     "text": [
      "Defaulting to user installation because normal site-packages is not writeable\n",
      "Collecting mysql.connector\n",
      "  Downloading mysql-connector-2.2.9.tar.gz (11.9 MB)\n",
      "     ---------------------------------------- 0.0/11.9 MB ? eta -:--:--\n",
      "     ---------------------------------------- 0.0/11.9 MB ? eta -:--:--\n",
      "      --------------------------------------- 0.3/11.9 MB ? eta -:--:--\n",
      "     - -------------------------------------- 0.5/11.9 MB 1.7 MB/s eta 0:00:07\n",
      "     -- ------------------------------------- 0.8/11.9 MB 1.1 MB/s eta 0:00:11\n",
      "     --- ------------------------------------ 1.0/11.9 MB 1.1 MB/s eta 0:00:10\n",
      "     ---- ----------------------------------- 1.3/11.9 MB 1.2 MB/s eta 0:00:09\n",
      "     ----- ---------------------------------- 1.6/11.9 MB 1.3 MB/s eta 0:00:09\n",
      "     ------ --------------------------------- 1.8/11.9 MB 1.3 MB/s eta 0:00:08\n",
      "     ------- -------------------------------- 2.1/11.9 MB 1.2 MB/s eta 0:00:09\n",
      "     ------- -------------------------------- 2.4/11.9 MB 1.2 MB/s eta 0:00:08\n",
      "     -------- ------------------------------- 2.6/11.9 MB 1.2 MB/s eta 0:00:08\n",
      "     ---------- ----------------------------- 3.1/11.9 MB 1.3 MB/s eta 0:00:07\n",
      "     ---------- ----------------------------- 3.1/11.9 MB 1.3 MB/s eta 0:00:07\n",
      "     ----------- ---------------------------- 3.4/11.9 MB 1.3 MB/s eta 0:00:07\n",
      "     ----------- ---------------------------- 3.4/11.9 MB 1.3 MB/s eta 0:00:07\n",
      "     ----------- ---------------------------- 3.4/11.9 MB 1.3 MB/s eta 0:00:07\n",
      "     ------------ --------------------------- 3.7/11.9 MB 1.1 MB/s eta 0:00:08\n",
      "     ------------ --------------------------- 3.7/11.9 MB 1.1 MB/s eta 0:00:08\n",
      "     ------------ --------------------------- 3.7/11.9 MB 1.1 MB/s eta 0:00:08\n",
      "     ------------ --------------------------- 3.7/11.9 MB 1.1 MB/s eta 0:00:08\n",
      "     ------------ -------------------------- 3.9/11.9 MB 903.3 kB/s eta 0:00:09\n",
      "     ------------ -------------------------- 3.9/11.9 MB 903.3 kB/s eta 0:00:09\n",
      "     ------------- ------------------------- 4.2/11.9 MB 898.8 kB/s eta 0:00:09\n",
      "     -------------- ------------------------ 4.5/11.9 MB 891.8 kB/s eta 0:00:09\n",
      "     -------------- ------------------------ 4.5/11.9 MB 891.8 kB/s eta 0:00:09\n",
      "     --------------- ----------------------- 4.7/11.9 MB 866.8 kB/s eta 0:00:09\n",
      "     --------------- ----------------------- 4.7/11.9 MB 866.8 kB/s eta 0:00:09\n",
      "     --------------- ----------------------- 4.7/11.9 MB 866.8 kB/s eta 0:00:09\n",
      "     ---------------- ---------------------- 5.0/11.9 MB 827.4 kB/s eta 0:00:09\n",
      "     ----------------- --------------------- 5.2/11.9 MB 830.1 kB/s eta 0:00:08\n",
      "     ----------------- --------------------- 5.2/11.9 MB 830.1 kB/s eta 0:00:08\n",
      "     ------------------ -------------------- 5.5/11.9 MB 838.9 kB/s eta 0:00:08\n",
      "     ------------------ -------------------- 5.8/11.9 MB 846.9 kB/s eta 0:00:08\n",
      "     ------------------ -------------------- 5.8/11.9 MB 846.9 kB/s eta 0:00:08\n",
      "     ------------------- ------------------- 6.0/11.9 MB 835.0 kB/s eta 0:00:07\n",
      "     -------------------- ------------------ 6.3/11.9 MB 838.8 kB/s eta 0:00:07\n",
      "     --------------------- ----------------- 6.6/11.9 MB 842.3 kB/s eta 0:00:07\n",
      "     --------------------- ----------------- 6.6/11.9 MB 842.3 kB/s eta 0:00:07\n",
      "     ---------------------- ---------------- 6.8/11.9 MB 847.3 kB/s eta 0:00:06\n",
      "     ----------------------- --------------- 7.1/11.9 MB 853.6 kB/s eta 0:00:06\n",
      "     ------------------------ -------------- 7.3/11.9 MB 857.9 kB/s eta 0:00:06\n",
      "     ------------------------- ------------- 7.6/11.9 MB 865.1 kB/s eta 0:00:05\n",
      "     ------------------------- ------------- 7.9/11.9 MB 870.3 kB/s eta 0:00:05\n",
      "     ------------------------- ------------- 7.9/11.9 MB 870.3 kB/s eta 0:00:05\n",
      "     ------------------------- ------------- 7.9/11.9 MB 870.3 kB/s eta 0:00:05\n",
      "     -------------------------- ------------ 8.1/11.9 MB 851.6 kB/s eta 0:00:05\n",
      "     -------------------------- ------------ 8.1/11.9 MB 851.6 kB/s eta 0:00:05\n",
      "     --------------------------- ----------- 8.4/11.9 MB 832.1 kB/s eta 0:00:05\n",
      "     --------------------------- ----------- 8.4/11.9 MB 832.1 kB/s eta 0:00:05\n",
      "     ---------------------------- ---------- 8.7/11.9 MB 819.6 kB/s eta 0:00:04\n",
      "     ---------------------------- ---------- 8.7/11.9 MB 819.6 kB/s eta 0:00:04\n",
      "     ---------------------------- ---------- 8.7/11.9 MB 819.6 kB/s eta 0:00:04\n",
      "     ---------------------------- ---------- 8.7/11.9 MB 819.6 kB/s eta 0:00:04\n",
      "     ----------------------------- --------- 8.9/11.9 MB 789.8 kB/s eta 0:00:04\n",
      "     ----------------------------- --------- 8.9/11.9 MB 789.8 kB/s eta 0:00:04\n",
      "     ------------------------------ -------- 9.2/11.9 MB 779.2 kB/s eta 0:00:04\n",
      "     ------------------------------ -------- 9.2/11.9 MB 779.2 kB/s eta 0:00:04\n",
      "     ------------------------------ -------- 9.2/11.9 MB 779.2 kB/s eta 0:00:04\n",
      "     ------------------------------- ------- 9.4/11.9 MB 759.6 kB/s eta 0:00:04\n",
      "     ------------------------------- ------- 9.4/11.9 MB 759.6 kB/s eta 0:00:04\n",
      "     ------------------------------- ------- 9.7/11.9 MB 751.2 kB/s eta 0:00:03\n",
      "     ------------------------------- ------- 9.7/11.9 MB 751.2 kB/s eta 0:00:03\n",
      "     ------------------------------- ------- 9.7/11.9 MB 751.2 kB/s eta 0:00:03\n",
      "     ------------------------------- ------ 10.0/11.9 MB 743.4 kB/s eta 0:00:03\n",
      "     ------------------------------- ------ 10.0/11.9 MB 743.4 kB/s eta 0:00:03\n",
      "     ------------------------------- ------ 10.0/11.9 MB 743.4 kB/s eta 0:00:03\n",
      "     ------------------------------- ------ 10.0/11.9 MB 743.4 kB/s eta 0:00:03\n",
      "     ------------------------------- ------ 10.0/11.9 MB 743.4 kB/s eta 0:00:03\n",
      "     ------------------------------- ------ 10.0/11.9 MB 743.4 kB/s eta 0:00:03\n",
      "     ------------------------------- ------ 10.0/11.9 MB 743.4 kB/s eta 0:00:03\n",
      "     -------------------------------- ----- 10.2/11.9 MB 688.5 kB/s eta 0:00:03\n",
      "     -------------------------------- ----- 10.2/11.9 MB 688.5 kB/s eta 0:00:03\n",
      "     -------------------------------- ----- 10.2/11.9 MB 688.5 kB/s eta 0:00:03\n",
      "     --------------------------------- ---- 10.5/11.9 MB 675.9 kB/s eta 0:00:03\n",
      "     --------------------------------- ---- 10.5/11.9 MB 675.9 kB/s eta 0:00:03\n",
      "     --------------------------------- ---- 10.5/11.9 MB 675.9 kB/s eta 0:00:03\n",
      "     --------------------------------- ---- 10.5/11.9 MB 675.9 kB/s eta 0:00:03\n",
      "     --------------------------------- ---- 10.5/11.9 MB 675.9 kB/s eta 0:00:03\n",
      "     --------------------------------- ---- 10.5/11.9 MB 675.9 kB/s eta 0:00:03\n",
      "     --------------------------------- ---- 10.5/11.9 MB 675.9 kB/s eta 0:00:03\n",
      "     ---------------------------------- --- 10.7/11.9 MB 631.9 kB/s eta 0:00:02\n",
      "     ---------------------------------- --- 10.7/11.9 MB 631.9 kB/s eta 0:00:02\n",
      "     ---------------------------------- --- 10.7/11.9 MB 631.9 kB/s eta 0:00:02\n",
      "     ----------------------------------- -- 11.0/11.9 MB 618.6 kB/s eta 0:00:02\n",
      "     ----------------------------------- -- 11.0/11.9 MB 618.6 kB/s eta 0:00:02\n",
      "     ----------------------------------- -- 11.0/11.9 MB 618.6 kB/s eta 0:00:02\n",
      "     ----------------------------------- -- 11.0/11.9 MB 618.6 kB/s eta 0:00:02\n",
      "     ------------------------------------ - 11.3/11.9 MB 606.9 kB/s eta 0:00:01\n",
      "     ------------------------------------ - 11.3/11.9 MB 606.9 kB/s eta 0:00:01\n",
      "     ------------------------------------ - 11.3/11.9 MB 606.9 kB/s eta 0:00:01\n",
      "     ------------------------------------ - 11.3/11.9 MB 606.9 kB/s eta 0:00:01\n",
      "     ------------------------------------ - 11.3/11.9 MB 606.9 kB/s eta 0:00:01\n",
      "     ------------------------------------ - 11.3/11.9 MB 606.9 kB/s eta 0:00:01\n",
      "     ------------------------------------ - 11.5/11.9 MB 579.9 kB/s eta 0:00:01\n",
      "     ------------------------------------ - 11.5/11.9 MB 579.9 kB/s eta 0:00:01\n",
      "     ------------------------------------ - 11.5/11.9 MB 579.9 kB/s eta 0:00:01\n",
      "     ------------------------------------ - 11.5/11.9 MB 579.9 kB/s eta 0:00:01\n",
      "     ------------------------------------ - 11.5/11.9 MB 579.9 kB/s eta 0:00:01\n",
      "     -------------------------------------  11.8/11.9 MB 562.2 kB/s eta 0:00:01\n",
      "     -------------------------------------  11.8/11.9 MB 562.2 kB/s eta 0:00:01\n",
      "     -------------------------------------- 11.9/11.9 MB 558.1 kB/s eta 0:00:00\n",
      "  Preparing metadata (setup.py): started\n",
      "  Preparing metadata (setup.py): finished with status 'done'\n",
      "Building wheels for collected packages: mysql.connector\n",
      "  Building wheel for mysql.connector (setup.py): started\n",
      "  Building wheel for mysql.connector (setup.py): finished with status 'done'\n",
      "  Created wheel for mysql.connector: filename=mysql_connector-2.2.9-cp312-cp312-win_amd64.whl size=247961 sha256=e23c81956b31e919d3e2e144f69d69962b928dc0d15a3842be8450f3106a855d\n",
      "  Stored in directory: c:\\users\\hp.1\\appdata\\local\\pip\\cache\\wheels\\03\\17\\fa\\d7604c72dd3dd6d3eb3d249abf36cc532c9a9b4354b8f1bc4f\n",
      "Successfully built mysql.connector\n",
      "Installing collected packages: mysql.connector\n",
      "Successfully installed mysql.connector-2.2.9\n"
     ]
    },
    {
     "name": "stderr",
     "output_type": "stream",
     "text": [
      "\n",
      "[notice] A new release of pip is available: 24.3.1 -> 25.0.1\n",
      "[notice] To update, run: python.exe -m pip install --upgrade pip\n"
     ]
    }
   ],
   "source": [
    "! pip install mysql.connector"
   ]
  },
  {
   "cell_type": "code",
   "execution_count": 2,
   "metadata": {},
   "outputs": [],
   "source": [
    "import mysql.connector"
   ]
  },
  {
   "cell_type": "code",
   "execution_count": 4,
   "metadata": {},
   "outputs": [
    {
     "ename": "InterfaceError",
     "evalue": "2003: Can't connect to MySQL server on 'campusxdb-instance.c98zqacq3vgm.us-east-2.rds.amazonaws.com:3306' (11001 getaddrinfo failed)",
     "output_type": "error",
     "traceback": [
      "\u001b[1;31m---------------------------------------------------------------------------\u001b[0m",
      "\u001b[1;31mgaierror\u001b[0m                                  Traceback (most recent call last)",
      "File \u001b[1;32m~\\AppData\\Roaming\\Python\\Python312\\site-packages\\mysql\\connector\\network.py:482\u001b[0m, in \u001b[0;36mMySQLTCPSocket.open_connection\u001b[1;34m(self)\u001b[0m\n\u001b[0;32m    481\u001b[0m \u001b[38;5;28;01mtry\u001b[39;00m:\n\u001b[1;32m--> 482\u001b[0m     addrinfos \u001b[38;5;241m=\u001b[39m \u001b[43msocket\u001b[49m\u001b[38;5;241;43m.\u001b[39;49m\u001b[43mgetaddrinfo\u001b[49m\u001b[43m(\u001b[49m\u001b[38;5;28;43mself\u001b[39;49m\u001b[38;5;241;43m.\u001b[39;49m\u001b[43mserver_host\u001b[49m\u001b[43m,\u001b[49m\n\u001b[0;32m    483\u001b[0m \u001b[43m                                   \u001b[49m\u001b[38;5;28;43mself\u001b[39;49m\u001b[38;5;241;43m.\u001b[39;49m\u001b[43mserver_port\u001b[49m\u001b[43m,\u001b[49m\n\u001b[0;32m    484\u001b[0m \u001b[43m                                   \u001b[49m\u001b[38;5;241;43m0\u001b[39;49m\u001b[43m,\u001b[49m\u001b[43m \u001b[49m\u001b[43msocket\u001b[49m\u001b[38;5;241;43m.\u001b[39;49m\u001b[43mSOCK_STREAM\u001b[49m\u001b[43m,\u001b[49m\n\u001b[0;32m    485\u001b[0m \u001b[43m                                   \u001b[49m\u001b[43msocket\u001b[49m\u001b[38;5;241;43m.\u001b[39;49m\u001b[43mSOL_TCP\u001b[49m\u001b[43m)\u001b[49m\n\u001b[0;32m    486\u001b[0m     \u001b[38;5;66;03m# If multiple results we favor IPv4, unless IPv6 was forced.\u001b[39;00m\n",
      "File \u001b[1;32mc:\\Program Files\\Python312\\Lib\\socket.py:963\u001b[0m, in \u001b[0;36mgetaddrinfo\u001b[1;34m(host, port, family, type, proto, flags)\u001b[0m\n\u001b[0;32m    962\u001b[0m addrlist \u001b[38;5;241m=\u001b[39m []\n\u001b[1;32m--> 963\u001b[0m \u001b[38;5;28;01mfor\u001b[39;00m res \u001b[38;5;129;01min\u001b[39;00m \u001b[43m_socket\u001b[49m\u001b[38;5;241;43m.\u001b[39;49m\u001b[43mgetaddrinfo\u001b[49m\u001b[43m(\u001b[49m\u001b[43mhost\u001b[49m\u001b[43m,\u001b[49m\u001b[43m \u001b[49m\u001b[43mport\u001b[49m\u001b[43m,\u001b[49m\u001b[43m \u001b[49m\u001b[43mfamily\u001b[49m\u001b[43m,\u001b[49m\u001b[43m \u001b[49m\u001b[38;5;28;43mtype\u001b[39;49m\u001b[43m,\u001b[49m\u001b[43m \u001b[49m\u001b[43mproto\u001b[49m\u001b[43m,\u001b[49m\u001b[43m \u001b[49m\u001b[43mflags\u001b[49m\u001b[43m)\u001b[49m:\n\u001b[0;32m    964\u001b[0m     af, socktype, proto, canonname, sa \u001b[38;5;241m=\u001b[39m res\n",
      "\u001b[1;31mgaierror\u001b[0m: [Errno 11001] getaddrinfo failed",
      "\nDuring handling of the above exception, another exception occurred:\n",
      "\u001b[1;31mInterfaceError\u001b[0m                            Traceback (most recent call last)",
      "Cell \u001b[1;32mIn[4], line 1\u001b[0m\n\u001b[1;32m----> 1\u001b[0m mydb \u001b[38;5;241m=\u001b[39m \u001b[43mmysql\u001b[49m\u001b[38;5;241;43m.\u001b[39;49m\u001b[43mconnector\u001b[49m\u001b[38;5;241;43m.\u001b[39;49m\u001b[43mconnect\u001b[49m\u001b[43m(\u001b[49m\n\u001b[0;32m      2\u001b[0m \u001b[43m    \u001b[49m\u001b[43mhost\u001b[49m\u001b[38;5;241;43m=\u001b[39;49m\u001b[38;5;124;43m'\u001b[39;49m\u001b[38;5;124;43mcampusxdb-instance.c98zqacq3vgm.us-east-2.rds.amazonaws.com\u001b[39;49m\u001b[38;5;124;43m'\u001b[39;49m\u001b[43m,\u001b[49m\n\u001b[0;32m      3\u001b[0m \u001b[43m    \u001b[49m\u001b[43muser\u001b[49m\u001b[38;5;241;43m=\u001b[39;49m\u001b[38;5;124;43m'\u001b[39;49m\u001b[38;5;124;43mroot\u001b[39;49m\u001b[38;5;124;43m'\u001b[39;49m\u001b[43m,\u001b[49m\n\u001b[0;32m      4\u001b[0m \u001b[43m    \u001b[49m\u001b[43mpasswd\u001b[49m\u001b[38;5;241;43m=\u001b[39;49m\u001b[38;5;124;43m'\u001b[39;49m\u001b[38;5;124;43m12345678\u001b[39;49m\u001b[38;5;124;43m'\u001b[39;49m\u001b[43m,\u001b[49m\n\u001b[0;32m      5\u001b[0m \u001b[43m    \u001b[49m\u001b[43mdatabase\u001b[49m\u001b[38;5;241;43m=\u001b[39;49m\u001b[38;5;124;43m'\u001b[39;49m\u001b[38;5;124;43mdemodb\u001b[39;49m\u001b[38;5;124;43m'\u001b[39;49m\n\u001b[0;32m      6\u001b[0m \u001b[43m)\u001b[49m\n",
      "File \u001b[1;32m~\\AppData\\Roaming\\Python\\Python312\\site-packages\\mysql\\connector\\__init__.py:179\u001b[0m, in \u001b[0;36mconnect\u001b[1;34m(*args, **kwargs)\u001b[0m\n\u001b[0;32m    177\u001b[0m     \u001b[38;5;28;01mreturn\u001b[39;00m CMySQLConnection(\u001b[38;5;241m*\u001b[39margs, \u001b[38;5;241m*\u001b[39m\u001b[38;5;241m*\u001b[39mkwargs)\n\u001b[0;32m    178\u001b[0m \u001b[38;5;28;01melse\u001b[39;00m:\n\u001b[1;32m--> 179\u001b[0m     \u001b[38;5;28;01mreturn\u001b[39;00m \u001b[43mMySQLConnection\u001b[49m\u001b[43m(\u001b[49m\u001b[38;5;241;43m*\u001b[39;49m\u001b[43margs\u001b[49m\u001b[43m,\u001b[49m\u001b[43m \u001b[49m\u001b[38;5;241;43m*\u001b[39;49m\u001b[38;5;241;43m*\u001b[39;49m\u001b[43mkwargs\u001b[49m\u001b[43m)\u001b[49m\n",
      "File \u001b[1;32m~\\AppData\\Roaming\\Python\\Python312\\site-packages\\mysql\\connector\\connection.py:95\u001b[0m, in \u001b[0;36mMySQLConnection.__init__\u001b[1;34m(self, *args, **kwargs)\u001b[0m\n\u001b[0;32m     92\u001b[0m \u001b[38;5;28mself\u001b[39m\u001b[38;5;241m.\u001b[39m_pool_config_version \u001b[38;5;241m=\u001b[39m \u001b[38;5;28;01mNone\u001b[39;00m\n\u001b[0;32m     94\u001b[0m \u001b[38;5;28;01mif\u001b[39;00m \u001b[38;5;28mlen\u001b[39m(kwargs) \u001b[38;5;241m>\u001b[39m \u001b[38;5;241m0\u001b[39m:\n\u001b[1;32m---> 95\u001b[0m     \u001b[38;5;28;43mself\u001b[39;49m\u001b[38;5;241;43m.\u001b[39;49m\u001b[43mconnect\u001b[49m\u001b[43m(\u001b[49m\u001b[38;5;241;43m*\u001b[39;49m\u001b[38;5;241;43m*\u001b[39;49m\u001b[43mkwargs\u001b[49m\u001b[43m)\u001b[49m\n",
      "File \u001b[1;32m~\\AppData\\Roaming\\Python\\Python312\\site-packages\\mysql\\connector\\abstracts.py:716\u001b[0m, in \u001b[0;36mMySQLConnectionAbstract.connect\u001b[1;34m(self, **kwargs)\u001b[0m\n\u001b[0;32m    713\u001b[0m     \u001b[38;5;28mself\u001b[39m\u001b[38;5;241m.\u001b[39mconfig(\u001b[38;5;241m*\u001b[39m\u001b[38;5;241m*\u001b[39mkwargs)\n\u001b[0;32m    715\u001b[0m \u001b[38;5;28mself\u001b[39m\u001b[38;5;241m.\u001b[39mdisconnect()\n\u001b[1;32m--> 716\u001b[0m \u001b[38;5;28;43mself\u001b[39;49m\u001b[38;5;241;43m.\u001b[39;49m\u001b[43m_open_connection\u001b[49m\u001b[43m(\u001b[49m\u001b[43m)\u001b[49m\n\u001b[0;32m    717\u001b[0m \u001b[38;5;28mself\u001b[39m\u001b[38;5;241m.\u001b[39m_post_connection()\n",
      "File \u001b[1;32m~\\AppData\\Roaming\\Python\\Python312\\site-packages\\mysql\\connector\\connection.py:206\u001b[0m, in \u001b[0;36mMySQLConnection._open_connection\u001b[1;34m(self)\u001b[0m\n\u001b[0;32m    204\u001b[0m \u001b[38;5;28mself\u001b[39m\u001b[38;5;241m.\u001b[39m_protocol \u001b[38;5;241m=\u001b[39m MySQLProtocol()\n\u001b[0;32m    205\u001b[0m \u001b[38;5;28mself\u001b[39m\u001b[38;5;241m.\u001b[39m_socket \u001b[38;5;241m=\u001b[39m \u001b[38;5;28mself\u001b[39m\u001b[38;5;241m.\u001b[39m_get_connection()\n\u001b[1;32m--> 206\u001b[0m \u001b[38;5;28;43mself\u001b[39;49m\u001b[38;5;241;43m.\u001b[39;49m\u001b[43m_socket\u001b[49m\u001b[38;5;241;43m.\u001b[39;49m\u001b[43mopen_connection\u001b[49m\u001b[43m(\u001b[49m\u001b[43m)\u001b[49m\n\u001b[0;32m    207\u001b[0m \u001b[38;5;28mself\u001b[39m\u001b[38;5;241m.\u001b[39m_do_handshake()\n\u001b[0;32m    208\u001b[0m \u001b[38;5;28mself\u001b[39m\u001b[38;5;241m.\u001b[39m_do_auth(\u001b[38;5;28mself\u001b[39m\u001b[38;5;241m.\u001b[39m_user, \u001b[38;5;28mself\u001b[39m\u001b[38;5;241m.\u001b[39m_password,\n\u001b[0;32m    209\u001b[0m               \u001b[38;5;28mself\u001b[39m\u001b[38;5;241m.\u001b[39m_database, \u001b[38;5;28mself\u001b[39m\u001b[38;5;241m.\u001b[39m_client_flags, \u001b[38;5;28mself\u001b[39m\u001b[38;5;241m.\u001b[39m_charset_id,\n\u001b[0;32m    210\u001b[0m               \u001b[38;5;28mself\u001b[39m\u001b[38;5;241m.\u001b[39m_ssl)\n",
      "File \u001b[1;32m~\\AppData\\Roaming\\Python\\Python312\\site-packages\\mysql\\connector\\network.py:500\u001b[0m, in \u001b[0;36mMySQLTCPSocket.open_connection\u001b[1;34m(self)\u001b[0m\n\u001b[0;32m    498\u001b[0m         addrinfo \u001b[38;5;241m=\u001b[39m addrinfos[\u001b[38;5;241m0\u001b[39m]\n\u001b[0;32m    499\u001b[0m \u001b[38;5;28;01mexcept\u001b[39;00m \u001b[38;5;167;01mIOError\u001b[39;00m \u001b[38;5;28;01mas\u001b[39;00m err:\n\u001b[1;32m--> 500\u001b[0m     \u001b[38;5;28;01mraise\u001b[39;00m errors\u001b[38;5;241m.\u001b[39mInterfaceError(\n\u001b[0;32m    501\u001b[0m         errno\u001b[38;5;241m=\u001b[39m\u001b[38;5;241m2003\u001b[39m, values\u001b[38;5;241m=\u001b[39m(\u001b[38;5;28mself\u001b[39m\u001b[38;5;241m.\u001b[39mget_address(), _strioerror(err)))\n\u001b[0;32m    502\u001b[0m \u001b[38;5;28;01melse\u001b[39;00m:\n\u001b[0;32m    503\u001b[0m     (\u001b[38;5;28mself\u001b[39m\u001b[38;5;241m.\u001b[39m_family, socktype, proto, _, sockaddr) \u001b[38;5;241m=\u001b[39m addrinfo\n",
      "\u001b[1;31mInterfaceError\u001b[0m: 2003: Can't connect to MySQL server on 'campusxdb-instance.c98zqacq3vgm.us-east-2.rds.amazonaws.com:3306' (11001 getaddrinfo failed)"
     ]
    }
   ],
   "source": [
    "mydb = mysql.connector.connect(\n",
    "    host='campusxdb-instance.c98zqacq3vgm.us-east-2.rds.amazonaws.com',\n",
    "    user='root',\n",
    "    passwd='12345678',\n",
    "    database='demodb'\n",
    ")"
   ]
  },
  {
   "cell_type": "code",
   "execution_count": 8,
   "metadata": {},
   "outputs": [
    {
     "name": "stdout",
     "output_type": "stream",
     "text": [
      "   id    name  age\n",
      "0   1   luffy   21\n",
      "1   2    zoro   22\n",
      "2   3  devraj   20\n",
      "3   4  mahesh   21\n",
      "4   5   rohit   21\n"
     ]
    },
    {
     "name": "stderr",
     "output_type": "stream",
     "text": [
      "C:\\Users\\hp.1\\AppData\\Local\\Temp\\ipykernel_6572\\1897168687.py:16: UserWarning: pandas only supports SQLAlchemy connectable (engine/connection) or database string URI or sqlite3 DBAPI2 connection. Other DBAPI2 objects are not tested. Please consider using SQLAlchemy.\n",
      "  df = pd.read_sql(query, connection)\n"
     ]
    }
   ],
   "source": [
    "import pymysql\n",
    "import pandas as pd\n",
    "\n",
    "# 🔹 Database Connection\n",
    "connection = pymysql.connect(\n",
    "    host=\"localhost\",      # Example: \"localhost\" or AWS RDS link\n",
    "    user=\"root\",\n",
    "    password=\"12345678\",\n",
    "    database=\"pankajdb\"\n",
    ")\n",
    "\n",
    "# 🔹 SQL Query\n",
    "query = \"SELECT * FROM students\"\n",
    "\n",
    "# 🔹 Convert to Pandas DataFrame\n",
    "df = pd.read_sql(query, connection)\n",
    "\n",
    "# 🔹 Close the Connection\n",
    "connection.close()\n",
    "\n",
    "# 🔹 Display Data\n",
    "print(df.head())\n"
   ]
  },
  {
   "cell_type": "code",
   "execution_count": 9,
   "metadata": {},
   "outputs": [
    {
     "data": {
      "text/html": [
       "<div>\n",
       "<style scoped>\n",
       "    .dataframe tbody tr th:only-of-type {\n",
       "        vertical-align: middle;\n",
       "    }\n",
       "\n",
       "    .dataframe tbody tr th {\n",
       "        vertical-align: top;\n",
       "    }\n",
       "\n",
       "    .dataframe thead th {\n",
       "        text-align: right;\n",
       "    }\n",
       "</style>\n",
       "<table border=\"1\" class=\"dataframe\">\n",
       "  <thead>\n",
       "    <tr style=\"text-align: right;\">\n",
       "      <th></th>\n",
       "      <th>id</th>\n",
       "      <th>name</th>\n",
       "      <th>age</th>\n",
       "    </tr>\n",
       "  </thead>\n",
       "  <tbody>\n",
       "    <tr>\n",
       "      <th>0</th>\n",
       "      <td>1</td>\n",
       "      <td>luffy</td>\n",
       "      <td>21</td>\n",
       "    </tr>\n",
       "    <tr>\n",
       "      <th>1</th>\n",
       "      <td>2</td>\n",
       "      <td>zoro</td>\n",
       "      <td>22</td>\n",
       "    </tr>\n",
       "    <tr>\n",
       "      <th>2</th>\n",
       "      <td>3</td>\n",
       "      <td>devraj</td>\n",
       "      <td>20</td>\n",
       "    </tr>\n",
       "    <tr>\n",
       "      <th>3</th>\n",
       "      <td>4</td>\n",
       "      <td>mahesh</td>\n",
       "      <td>21</td>\n",
       "    </tr>\n",
       "    <tr>\n",
       "      <th>4</th>\n",
       "      <td>5</td>\n",
       "      <td>rohit</td>\n",
       "      <td>21</td>\n",
       "    </tr>\n",
       "    <tr>\n",
       "      <th>5</th>\n",
       "      <td>6</td>\n",
       "      <td>dhanesh</td>\n",
       "      <td>15</td>\n",
       "    </tr>\n",
       "  </tbody>\n",
       "</table>\n",
       "</div>"
      ],
      "text/plain": [
       "   id     name  age\n",
       "0   1    luffy   21\n",
       "1   2     zoro   22\n",
       "2   3   devraj   20\n",
       "3   4   mahesh   21\n",
       "4   5    rohit   21\n",
       "5   6  dhanesh   15"
      ]
     },
     "execution_count": 9,
     "metadata": {},
     "output_type": "execute_result"
    }
   ],
   "source": [
    "df"
   ]
  },
  {
   "cell_type": "code",
   "execution_count": 10,
   "metadata": {},
   "outputs": [],
   "source": [
    "df.to_csv('friends.csv', index=False)"
   ]
  }
 ],
 "metadata": {
  "kernelspec": {
   "display_name": "Python 3",
   "language": "python",
   "name": "python3"
  },
  "language_info": {
   "codemirror_mode": {
    "name": "ipython",
    "version": 3
   },
   "file_extension": ".py",
   "mimetype": "text/x-python",
   "name": "python",
   "nbconvert_exporter": "python",
   "pygments_lexer": "ipython3",
   "version": "3.12.1"
  }
 },
 "nbformat": 4,
 "nbformat_minor": 2
}
