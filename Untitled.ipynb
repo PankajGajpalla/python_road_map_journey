{
 "cells": [
  {
   "cell_type": "code",
   "execution_count": 1,
   "id": "e396e1ef-849c-43e2-97a2-6cd6600f3114",
   "metadata": {},
   "outputs": [
    {
     "name": "stdout",
     "output_type": "stream",
     "text": [
      "Hello world\n"
     ]
    }
   ],
   "source": [
    "print(\"Hello world\")\n"
   ]
  },
  {
   "cell_type": "code",
   "execution_count": 2,
   "id": "7b3cab5c",
   "metadata": {},
   "outputs": [
    {
     "name": "stdout",
     "output_type": "stream",
     "text": [
      "2\n"
     ]
    }
   ],
   "source": [
    "print(2)"
   ]
  },
  {
   "cell_type": "code",
   "execution_count": 3,
   "id": "84b94975",
   "metadata": {},
   "outputs": [
    {
     "name": "stdout",
     "output_type": "stream",
     "text": [
      "8.9\n"
     ]
    }
   ],
   "source": [
    "print(8.9)"
   ]
  },
  {
   "cell_type": "code",
   "execution_count": 4,
   "id": "412930ab",
   "metadata": {},
   "outputs": [],
   "source": [
    "#use shift+Tab for seeing the different attributs of the function by clicking inside the bracket (shift+Tab)"
   ]
  },
  {
   "cell_type": "code",
   "execution_count": 5,
   "id": "a18ea41e",
   "metadata": {},
   "outputs": [
    {
     "name": "stdout",
     "output_type": "stream",
     "text": [
      "India 5 True\n"
     ]
    }
   ],
   "source": [
    "print(\"India\",5,True)"
   ]
  },
  {
   "cell_type": "code",
   "execution_count": 6,
   "id": "c7d17a97",
   "metadata": {},
   "outputs": [
    {
     "name": "stdout",
     "output_type": "stream",
     "text": [
      "False\n"
     ]
    }
   ],
   "source": [
    "print(False)"
   ]
  },
  {
   "cell_type": "code",
   "execution_count": 7,
   "id": "57c9b309",
   "metadata": {},
   "outputs": [
    {
     "name": "stdout",
     "output_type": "stream",
     "text": [
      "India Pakistan Nepal Srilanka\n"
     ]
    }
   ],
   "source": [
    "print(\"India\",\"Pakistan\",\"Nepal\",\"Srilanka\")#here the sep value by default is space that is sep=' ' try to use single '' for value assign"
   ]
  },
  {
   "cell_type": "code",
   "execution_count": 8,
   "id": "a0a21b80",
   "metadata": {},
   "outputs": [
    {
     "name": "stdout",
     "output_type": "stream",
     "text": [
      "India/Pakistan/Nepal/Srilanka\n"
     ]
    }
   ],
   "source": [
    "print(\"India\",\"Pakistan\",\"Nepal\",\"Srilanka\",sep='/')#here the sep value is set to / that is sep='/'"
   ]
  },
  {
   "cell_type": "code",
   "execution_count": 9,
   "id": "3708af61",
   "metadata": {},
   "outputs": [
    {
     "name": "stdout",
     "output_type": "stream",
     "text": [
      "India-Pakistan-Nepal-Srilanka\n"
     ]
    }
   ],
   "source": [
    "print(\"India\",\"Pakistan\",\"Nepal\",\"Srilanka\",sep='-')#here the sep value is set to '-'"
   ]
  },
  {
   "cell_type": "code",
   "execution_count": 10,
   "id": "9e3ef29a",
   "metadata": {},
   "outputs": [
    {
     "name": "stdout",
     "output_type": "stream",
     "text": [
      "IndiaPakistanNepalSrilanka\n"
     ]
    }
   ],
   "source": [
    "print(\"India\",\"Pakistan\",\"Nepal\",\"Srilanka\",sep='')#now here as you can see teh sep value is without any space that is it has chnaged from ' ' to ''"
   ]
  },
  {
   "cell_type": "code",
   "execution_count": 11,
   "id": "db64f5a7",
   "metadata": {},
   "outputs": [
    {
     "name": "stdout",
     "output_type": "stream",
     "text": [
      "Hello\n",
      "world\n"
     ]
    }
   ],
   "source": [
    "print(\"Hello\")#here the by default value is been set to end='\\n' means next line\n",
    "print(\"world\")"
   ]
  },
  {
   "cell_type": "code",
   "execution_count": 12,
   "id": "077f2231",
   "metadata": {},
   "outputs": [
    {
     "name": "stdout",
     "output_type": "stream",
     "text": [
      "Hello World\n"
     ]
    }
   ],
   "source": [
    "print(\"Hello\",end=' ')#so here you can see the value is set to space that is ' '\n",
    "print(\"World\")"
   ]
  },
  {
   "cell_type": "code",
   "execution_count": 13,
   "id": "d96d48d9",
   "metadata": {},
   "outputs": [],
   "source": [
    "#lec-2"
   ]
  },
  {
   "cell_type": "code",
   "execution_count": 14,
   "id": "b1f10bcb",
   "metadata": {},
   "outputs": [],
   "source": [
    "# python supports 3 categories of data types:\n",
    "#1 basic types- (integer, float, complex, boolean and string)\n",
    "#2 Container types- (List, Tuples, Sets and Dictonary)\n",
    "#3 User-defined types- Class"
   ]
  },
  {
   "cell_type": "code",
   "execution_count": 15,
   "id": "7a304826",
   "metadata": {},
   "outputs": [
    {
     "name": "stdout",
     "output_type": "stream",
     "text": [
      "4.5\n",
      "1.7e+308\n"
     ]
    }
   ],
   "source": [
    "#integer\n",
    "print(4.5)\n",
    "print(1.7e308) #heigestnumber in python"
   ]
  },
  {
   "cell_type": "code",
   "execution_count": 16,
   "id": "5e35cc8b",
   "metadata": {},
   "outputs": [
    {
     "name": "stdout",
     "output_type": "stream",
     "text": [
      "(4+2j)\n"
     ]
    }
   ],
   "source": [
    "#complex\n",
    "print(4+2j)"
   ]
  },
  {
   "cell_type": "code",
   "execution_count": 17,
   "id": "c073efca",
   "metadata": {},
   "outputs": [
    {
     "name": "stdout",
     "output_type": "stream",
     "text": [
      "chhattisgarh\n",
      "chhattisgarh\n",
      "chhattisgarh\n"
     ]
    }
   ],
   "source": [
    "#string\n",
    "print('chhattisgarh')\n",
    "print(\"chhattisgarh\")\n",
    "print(\"\"\"chhattisgarh\"\"\")"
   ]
  },
  {
   "cell_type": "code",
   "execution_count": 18,
   "id": "dbe176d5",
   "metadata": {},
   "outputs": [
    {
     "name": "stdout",
     "output_type": "stream",
     "text": [
      "[1, 2, 3, 4, 5]\n"
     ]
    }
   ],
   "source": [
    "#List\n",
    "print([1,2,3,4,5]) #this is list also called array in other language "
   ]
  },
  {
   "cell_type": "code",
   "execution_count": 19,
   "id": "bb3b048f",
   "metadata": {},
   "outputs": [
    {
     "name": "stdout",
     "output_type": "stream",
     "text": [
      "(1, 2, 3, 4, 5)\n"
     ]
    }
   ],
   "source": [
    "#tuple\n",
    "print((1,2,3,4,5))"
   ]
  },
  {
   "cell_type": "code",
   "execution_count": 20,
   "id": "c1bf4eba",
   "metadata": {},
   "outputs": [
    {
     "name": "stdout",
     "output_type": "stream",
     "text": [
      "{1, 2, 3, 4, 5}\n"
     ]
    }
   ],
   "source": [
    "#sets\n",
    "print({1,2,3,4,5})"
   ]
  },
  {
   "cell_type": "code",
   "execution_count": 21,
   "id": "81c3f08d",
   "metadata": {},
   "outputs": [
    {
     "name": "stdout",
     "output_type": "stream",
     "text": [
      "{'Name': 'Nitish', 'Age': 30, 'gender': 'Male'}\n"
     ]
    }
   ],
   "source": [
    "#dict\n",
    "print({\"Name\":\"Nitish\",\"Age\":30,\"gender\":\"Male\"})"
   ]
  },
  {
   "cell_type": "code",
   "execution_count": 22,
   "id": "67d0e05f",
   "metadata": {},
   "outputs": [],
   "source": [
    "#lec-3\n",
    "#comment"
   ]
  },
  {
   "cell_type": "code",
   "execution_count": 23,
   "id": "5ed6197e",
   "metadata": {},
   "outputs": [],
   "source": [
    " #lec-4\n",
    "#in C lang \n",
    "#int a = 5 but in python we dont have to give the datatype its intelligent enough to predict the right datatype according to the value"
   ]
  },
  {
   "cell_type": "code",
   "execution_count": 24,
   "id": "b3514032",
   "metadata": {},
   "outputs": [],
   "source": [
    "name=\"Pankaj\""
   ]
  },
  {
   "cell_type": "code",
   "execution_count": 25,
   "id": "662cb0bb",
   "metadata": {},
   "outputs": [
    {
     "name": "stdout",
     "output_type": "stream",
     "text": [
      "Pankaj\n"
     ]
    }
   ],
   "source": [
    "print(name)"
   ]
  },
  {
   "cell_type": "code",
   "execution_count": 26,
   "id": "eba0e6b0",
   "metadata": {},
   "outputs": [],
   "source": [
    "#no variable declaration\n",
    "#dynamic typing -->php  - not requiered to specify the datatype\n",
    "#static typing -->need to declar variable"
   ]
  },
  {
   "cell_type": "code",
   "execution_count": 27,
   "id": "7e20a14c",
   "metadata": {},
   "outputs": [
    {
     "name": "stdout",
     "output_type": "stream",
     "text": [
      "4\n"
     ]
    }
   ],
   "source": [
    "name = 4\n",
    "print(name)"
   ]
  },
  {
   "cell_type": "code",
   "execution_count": 28,
   "id": "cce1b400",
   "metadata": {},
   "outputs": [
    {
     "name": "stdout",
     "output_type": "stream",
     "text": [
      "True\n"
     ]
    }
   ],
   "source": [
    "name = True\n",
    "print(name)"
   ]
  },
  {
   "cell_type": "code",
   "execution_count": 29,
   "id": "c2640897",
   "metadata": {},
   "outputs": [],
   "source": [
    "#Dynamic Binding - it can change the datatypes according to the value it can be string boolean etc\n",
    "#static Binding\n"
   ]
  },
  {
   "cell_type": "code",
   "execution_count": 30,
   "id": "dd839133",
   "metadata": {},
   "outputs": [
    {
     "name": "stdout",
     "output_type": "stream",
     "text": [
      "5\n",
      "6\n",
      "7\n"
     ]
    }
   ],
   "source": [
    "#special syntax\n",
    "a =5;b=6;c=7\n",
    "print(a)\n",
    "print(b)\n",
    "print(c)\n"
   ]
  },
  {
   "cell_type": "code",
   "execution_count": 31,
   "id": "69e04c9c",
   "metadata": {},
   "outputs": [
    {
     "name": "stdout",
     "output_type": "stream",
     "text": [
      "4\n",
      "5\n",
      "6\n"
     ]
    }
   ],
   "source": [
    "a,b,c =4,5,6\n",
    "print(a)\n",
    "print(b)\n",
    "print(c)"
   ]
  },
  {
   "cell_type": "code",
   "execution_count": 32,
   "id": "2cf2baab",
   "metadata": {},
   "outputs": [],
   "source": [
    "#lec-5\n",
    "#keywords and idetifier in python "
   ]
  },
  {
   "cell_type": "code",
   "execution_count": 33,
   "id": "4b1387b2",
   "metadata": {},
   "outputs": [
    {
     "name": "stdout",
     "output_type": "stream",
     "text": [
      "['False', 'None', 'True', 'and', 'as', 'assert', 'async', 'await', 'break', 'class', 'continue', 'def', 'del', 'elif', 'else', 'except', 'finally', 'for', 'from', 'global', 'if', 'import', 'in', 'is', 'lambda', 'nonlocal', 'not', 'or', 'pass', 'raise', 'return', 'try', 'while', 'with', 'yield']\n"
     ]
    }
   ],
   "source": [
    "import keyword\n",
    "print(keyword.kwlist)\n",
    "\n"
   ]
  },
  {
   "cell_type": "code",
   "execution_count": 34,
   "id": "e93f22e3",
   "metadata": {},
   "outputs": [],
   "source": [
    " #lec-6 input"
   ]
  },
  {
   "cell_type": "code",
   "execution_count": 35,
   "id": "f463ab4e",
   "metadata": {},
   "outputs": [
    {
     "name": "stdout",
     "output_type": "stream",
     "text": [
      "\n"
     ]
    },
    {
     "data": {
      "text/plain": [
       "''"
      ]
     },
     "execution_count": 35,
     "metadata": {},
     "output_type": "execute_result"
    }
   ],
   "source": [
    "input() #by default its prompt=''"
   ]
  },
  {
   "cell_type": "code",
   "execution_count": 36,
   "id": "e6451e13",
   "metadata": {},
   "outputs": [
    {
     "name": "stdout",
     "output_type": "stream",
     "text": [
      "apna naam bata\n"
     ]
    },
    {
     "data": {
      "text/plain": [
       "''"
      ]
     },
     "execution_count": 36,
     "metadata": {},
     "output_type": "execute_result"
    }
   ],
   "source": [
    "input(\"apna naam bata\") #here its prompt=\"apna naam bata\""
   ]
  },
  {
   "cell_type": "code",
   "execution_count": 37,
   "id": "7ef8fe86",
   "metadata": {},
   "outputs": [
    {
     "name": "stdout",
     "output_type": "stream",
     "text": [
      "Enter the first number1\n",
      "Enter the second number2\n",
      "3\n"
     ]
    }
   ],
   "source": [
    "first_num = int(input(\"Enter the first number\"))\n",
    "second_num = int(input(\"Enter the second number\"))\n",
    "result = first_num + second_num \n",
    "print(result)"
   ]
  },
  {
   "cell_type": "code",
   "execution_count": 38,
   "id": "a325b43a",
   "metadata": {},
   "outputs": [
    {
     "data": {
      "text/plain": [
       "list"
      ]
     },
     "execution_count": 38,
     "metadata": {},
     "output_type": "execute_result"
    }
   ],
   "source": [
    "#type_function tells the data type\n",
    "type([1,2,3,4])"
   ]
  },
  {
   "cell_type": "code",
   "execution_count": 39,
   "id": "2c7ad349",
   "metadata": {},
   "outputs": [
    {
     "data": {
      "text/plain": [
       "int"
      ]
     },
     "execution_count": 39,
     "metadata": {},
     "output_type": "execute_result"
    }
   ],
   "source": [
    "type(3)"
   ]
  },
  {
   "cell_type": "code",
   "execution_count": 40,
   "id": "d7c94fdd",
   "metadata": {},
   "outputs": [
    {
     "data": {
      "text/plain": [
       "str"
      ]
     },
     "execution_count": 40,
     "metadata": {},
     "output_type": "execute_result"
    }
   ],
   "source": [
    "type(\"panku\")"
   ]
  },
  {
   "cell_type": "code",
   "execution_count": 41,
   "id": "cd970d55",
   "metadata": {},
   "outputs": [
    {
     "data": {
      "text/plain": [
       "34"
      ]
     },
     "execution_count": 41,
     "metadata": {},
     "output_type": "execute_result"
    }
   ],
   "source": [
    "int('34')"
   ]
  },
  {
   "cell_type": "code",
   "execution_count": 42,
   "id": "57a35957",
   "metadata": {},
   "outputs": [
    {
     "data": {
      "text/plain": [
       "6.0"
      ]
     },
     "execution_count": 42,
     "metadata": {},
     "output_type": "execute_result"
    }
   ],
   "source": [
    "float('6')"
   ]
  },
  {
   "cell_type": "code",
   "execution_count": 43,
   "id": "7927557d",
   "metadata": {},
   "outputs": [
    {
     "data": {
      "text/plain": [
       "['h', 'e', 'l', 'l', 'o']"
      ]
     },
     "execution_count": 43,
     "metadata": {},
     "output_type": "execute_result"
    }
   ],
   "source": [
    "list(\"hello\")"
   ]
  },
  {
   "cell_type": "code",
   "execution_count": 44,
   "id": "d5a1db93",
   "metadata": {},
   "outputs": [
    {
     "ename": "ValueError",
     "evalue": "invalid literal for int() with base 10: 'hollo'",
     "output_type": "error",
     "traceback": [
      "\u001b[1;31m---------------------------------------------------------------------------\u001b[0m",
      "\u001b[1;31mValueError\u001b[0m                                Traceback (most recent call last)",
      "Cell \u001b[1;32mIn[44], line 1\u001b[0m\n\u001b[1;32m----> 1\u001b[0m \u001b[38;5;28;43mint\u001b[39;49m\u001b[43m(\u001b[49m\u001b[38;5;124;43m\"\u001b[39;49m\u001b[38;5;124;43mhollo\u001b[39;49m\u001b[38;5;124;43m\"\u001b[39;49m\u001b[43m)\u001b[49m\n",
      "\u001b[1;31mValueError\u001b[0m: invalid literal for int() with base 10: 'hollo'"
     ]
    }
   ],
   "source": [
    "int(\"hollo\")"
   ]
  },
  {
   "cell_type": "code",
   "execution_count": 45,
   "id": "68545c2a",
   "metadata": {},
   "outputs": [],
   "source": [
    "#Lec-8\n",
    "#types of literals (value)\n",
    "#numeric literals\n",
    "#string literals\n",
    "#boolean literals\n",
    "#special literals"
   ]
  },
  {
   "cell_type": "code",
   "execution_count": 3,
   "id": "c5fb1544",
   "metadata": {},
   "outputs": [
    {
     "name": "stdout",
     "output_type": "stream",
     "text": [
      "10 100 200 300\n",
      "10.5 150.0 0.0015\n",
      "3.14j 3.14 0.0\n"
     ]
    }
   ],
   "source": [
    "#numeric literals\n",
    "a = 0b1010 #binary literal\n",
    "b = 100 #Decimal literal\n",
    "c = 0o310 #Octal literal\n",
    "d = 0x12c #Hexadecimal literal\n",
    "\n",
    "#Float Literal\n",
    "float_1 = 10.5\n",
    "float_2 = 1.5e2\n",
    "float_3 = 1.5e-3\n",
    "\n",
    "#Complex literal\n",
    "x = 3.14j\n",
    "\n",
    "print(a, b, c, d)\n",
    "print(float_1, float_2, float_3)\n",
    "print(x, x.imag, x.real)"
   ]
  },
  {
   "cell_type": "code",
   "execution_count": 7,
   "id": "542d1b1b",
   "metadata": {},
   "outputs": [
    {
     "name": "stdout",
     "output_type": "stream",
     "text": [
      "This is python\n",
      "This is python\n",
      "C\n",
      "This is a multiline string with more than one line code.\n",
      "😀😆🤣\n",
      "raw \\n string\n"
     ]
    }
   ],
   "source": [
    "#String Literals\n",
    "string = 'This is python'\n",
    "strings = \"This is python\"\n",
    "char = \"C\"\n",
    "multiline_str = \"\"\"This is a multiline string with more than one line code.\"\"\"\n",
    "unicode = u\"\\U0001f600\\U0001F606\\U0001F923\"\n",
    "raw_str = r\"raw \\n string\"\n",
    "\n",
    "print(string)\n",
    "print(strings)\n",
    "print(char)\n",
    "print(multiline_str)\n",
    "print(unicode)\n",
    "print(raw_str)"
   ]
  },
  {
   "cell_type": "code",
   "execution_count": 10,
   "id": "9ac059e5",
   "metadata": {},
   "outputs": [
    {
     "name": "stdout",
     "output_type": "stream",
     "text": [
      "a: 5\n",
      "b: 10\n"
     ]
    }
   ],
   "source": [
    "#Boolean literal\n",
    "a = True + 4\n",
    "b = False + 10\n",
    "\n",
    "print(\"a:\",a)\n",
    "print(\"b:\",b)"
   ]
  },
  {
   "cell_type": "code",
   "execution_count": 12,
   "id": "a3ba343d",
   "metadata": {},
   "outputs": [
    {
     "name": "stdout",
     "output_type": "stream",
     "text": [
      "None\n"
     ]
    }
   ],
   "source": [
    "#Special Literal\n",
    "a = None\n",
    "print(a)"
   ]
  },
  {
   "cell_type": "code",
   "execution_count": 13,
   "id": "8669e1a3",
   "metadata": {},
   "outputs": [],
   "source": [
    "#variable declaration in python\n",
    "k = None \n",
    "#we can not declare a variable before using it in python and to do so we have to assing it with value None ,we can not give 0 as the value it can cause error letter or disturb the code \n",
    "#so the best way to declare a variable in python is to put it None \n",
    "#in python we use variable as we need we dont predeifen it or declare it like in c "
   ]
  },
  {
   "cell_type": "code",
   "execution_count": 14,
   "id": "c5249a2e",
   "metadata": {},
   "outputs": [],
   "source": [
    "#Operators\n",
    "#Operators are used to perform operation on variables and values. Python has the following operators:\n",
    "\n",
    "#Arithematic operators\n",
    "#Comparison operators\n",
    "#Logical operators\n",
    "#Bitwise operators \n",
    "#Assignment operators\n",
    "#identity operators\n",
    "#Membership operators\n"
   ]
  },
  {
   "cell_type": "code",
   "execution_count": 4,
   "id": "9688bb3e",
   "metadata": {},
   "outputs": [
    {
     "name": "stdout",
     "output_type": "stream",
     "text": [
      "7\n"
     ]
    }
   ],
   "source": [
    "#Arithematic operators\n",
    "x = 5\n",
    "y = 2\n",
    "\n",
    "print(x + y)"
   ]
  },
  {
   "cell_type": "code",
   "execution_count": 5,
   "id": "b061e3c4",
   "metadata": {},
   "outputs": [
    {
     "name": "stdout",
     "output_type": "stream",
     "text": [
      "3\n"
     ]
    }
   ],
   "source": [
    "print(x - y)"
   ]
  },
  {
   "cell_type": "code",
   "execution_count": 20,
   "id": "b92716da",
   "metadata": {},
   "outputs": [
    {
     "name": "stdout",
     "output_type": "stream",
     "text": [
      "10\n"
     ]
    }
   ],
   "source": [
    "print(x * y)"
   ]
  },
  {
   "cell_type": "code",
   "execution_count": 22,
   "id": "02f1a993",
   "metadata": {},
   "outputs": [
    {
     "name": "stdout",
     "output_type": "stream",
     "text": [
      "2.5\n"
     ]
    }
   ],
   "source": [
    "print(x/y)"
   ]
  },
  {
   "cell_type": "code",
   "execution_count": 24,
   "id": "e74d9c2c",
   "metadata": {},
   "outputs": [
    {
     "name": "stdout",
     "output_type": "stream",
     "text": [
      "1\n"
     ]
    }
   ],
   "source": [
    "print(x%y)"
   ]
  },
  {
   "cell_type": "code",
   "execution_count": 6,
   "id": "c73a9b70",
   "metadata": {},
   "outputs": [
    {
     "name": "stdout",
     "output_type": "stream",
     "text": [
      "25\n"
     ]
    }
   ],
   "source": [
    "print(x ** y)"
   ]
  },
  {
   "cell_type": "code",
   "execution_count": 7,
   "id": "17b6a8ee",
   "metadata": {},
   "outputs": [
    {
     "name": "stdout",
     "output_type": "stream",
     "text": [
      "2\n"
     ]
    }
   ],
   "source": [
    "print(x // 2)#integer division if the division is in float it converts it into integer"
   ]
  },
  {
   "cell_type": "code",
   "execution_count": 9,
   "id": "4525c81c",
   "metadata": {},
   "outputs": [
    {
     "name": "stdout",
     "output_type": "stream",
     "text": [
      "False\n"
     ]
    }
   ],
   "source": [
    "#comparision operators\n",
    "x = 5\n",
    "y = 6\n",
    "\n",
    "print(x > y)"
   ]
  },
  {
   "cell_type": "code",
   "execution_count": 11,
   "id": "9ab792a7",
   "metadata": {},
   "outputs": [
    {
     "name": "stdout",
     "output_type": "stream",
     "text": [
      "True\n"
     ]
    }
   ],
   "source": [
    "print(x < y)"
   ]
  },
  {
   "cell_type": "code",
   "execution_count": 13,
   "id": "f00b3268",
   "metadata": {},
   "outputs": [
    {
     "name": "stdout",
     "output_type": "stream",
     "text": [
      "False\n"
     ]
    }
   ],
   "source": [
    "print(x == y)"
   ]
  },
  {
   "cell_type": "code",
   "execution_count": 15,
   "id": "5957abe9",
   "metadata": {},
   "outputs": [
    {
     "name": "stdout",
     "output_type": "stream",
     "text": [
      "False\n"
     ]
    }
   ],
   "source": [
    "print(x >= y)"
   ]
  },
  {
   "cell_type": "code",
   "execution_count": 17,
   "id": "dc47f9cc",
   "metadata": {},
   "outputs": [
    {
     "name": "stdout",
     "output_type": "stream",
     "text": [
      "True\n"
     ]
    }
   ],
   "source": [
    "print(x <= y)"
   ]
  },
  {
   "cell_type": "code",
   "execution_count": 19,
   "id": "2b54f0d9",
   "metadata": {},
   "outputs": [
    {
     "name": "stdout",
     "output_type": "stream",
     "text": [
      "True\n"
     ]
    }
   ],
   "source": [
    "print(x != y)"
   ]
  },
  {
   "cell_type": "code",
   "execution_count": 21,
   "id": "696dd566",
   "metadata": {},
   "outputs": [
    {
     "name": "stdout",
     "output_type": "stream",
     "text": [
      "True\n"
     ]
    }
   ],
   "source": [
    "#logical operators\n",
    "x = True\n",
    "y = False\n",
    "\n",
    "print(x or y)"
   ]
  },
  {
   "cell_type": "code",
   "execution_count": 23,
   "id": "9e2fdd42",
   "metadata": {},
   "outputs": [
    {
     "name": "stdout",
     "output_type": "stream",
     "text": [
      "False\n"
     ]
    }
   ],
   "source": [
    "print(x and y)"
   ]
  },
  {
   "cell_type": "code",
   "execution_count": 25,
   "id": "b1cb13b4",
   "metadata": {},
   "outputs": [
    {
     "name": "stdout",
     "output_type": "stream",
     "text": [
      "False\n"
     ]
    }
   ],
   "source": [
    "print(not x)"
   ]
  },
  {
   "cell_type": "code",
   "execution_count": 42,
   "id": "4713f84e",
   "metadata": {},
   "outputs": [
    {
     "name": "stdout",
     "output_type": "stream",
     "text": [
      "0\n"
     ]
    }
   ],
   "source": [
    "#Bitwise\n",
    "\n",
    "x = 2 \n",
    "y = 8\n",
    "\n",
    "print(x & y)"
   ]
  },
  {
   "cell_type": "code",
   "execution_count": 43,
   "id": "0fefff44",
   "metadata": {},
   "outputs": [
    {
     "name": "stdout",
     "output_type": "stream",
     "text": [
      "10\n"
     ]
    }
   ],
   "source": [
    "print(x | y) #or"
   ]
  },
  {
   "cell_type": "code",
   "execution_count": 44,
   "id": "47069142",
   "metadata": {},
   "outputs": [
    {
     "name": "stdout",
     "output_type": "stream",
     "text": [
      "0\n"
     ]
    }
   ],
   "source": [
    "print(x >> 2) #right shift "
   ]
  },
  {
   "cell_type": "code",
   "execution_count": 45,
   "id": "934eff6f",
   "metadata": {},
   "outputs": [
    {
     "name": "stdout",
     "output_type": "stream",
     "text": [
      "10\n"
     ]
    }
   ],
   "source": [
    "print(x ^ y) #xor"
   ]
  },
  {
   "cell_type": "code",
   "execution_count": 46,
   "id": "8b547764",
   "metadata": {},
   "outputs": [
    {
     "name": "stdout",
     "output_type": "stream",
     "text": [
      "64\n"
     ]
    }
   ],
   "source": [
    "print(y << 3) #left shift  0011000"
   ]
  },
  {
   "cell_type": "code",
   "execution_count": 47,
   "id": "442c826b",
   "metadata": {},
   "outputs": [
    {
     "name": "stdout",
     "output_type": "stream",
     "text": [
      "-9\n"
     ]
    }
   ],
   "source": [
    "print(~y) #Not"
   ]
  },
  {
   "cell_type": "code",
   "execution_count": 48,
   "id": "23fb7627",
   "metadata": {},
   "outputs": [
    {
     "name": "stdout",
     "output_type": "stream",
     "text": [
      "3\n"
     ]
    }
   ],
   "source": [
    "#Assignment \n",
    "a = 3 \n",
    "print(a)"
   ]
  },
  {
   "cell_type": "code",
   "execution_count": 49,
   "id": "feb9aab4",
   "metadata": {},
   "outputs": [
    {
     "name": "stdout",
     "output_type": "stream",
     "text": [
      "6\n"
     ]
    }
   ],
   "source": [
    "a += 3\n",
    "print(a)"
   ]
  },
  {
   "cell_type": "code",
   "execution_count": 50,
   "id": "f9cca44e",
   "metadata": {},
   "outputs": [
    {
     "name": "stdout",
     "output_type": "stream",
     "text": [
      "3\n"
     ]
    }
   ],
   "source": [
    "a -= 3\n",
    "print(a)"
   ]
  },
  {
   "cell_type": "code",
   "execution_count": 49,
   "id": "410b9f38",
   "metadata": {},
   "outputs": [
    {
     "name": "stdout",
     "output_type": "stream",
     "text": [
      "3\n"
     ]
    }
   ],
   "source": [
    "a &= 3\n",
    "print(a)"
   ]
  },
  {
   "cell_type": "code",
   "execution_count": 50,
   "id": "53a4ab20",
   "metadata": {},
   "outputs": [
    {
     "ename": "SyntaxError",
     "evalue": "invalid syntax (2210147720.py, line 1)",
     "output_type": "error",
     "traceback": [
      "\u001b[1;36m  Cell \u001b[1;32mIn[50], line 1\u001b[1;36m\u001b[0m\n\u001b[1;33m    a++\u001b[0m\n\u001b[1;37m       ^\u001b[0m\n\u001b[1;31mSyntaxError\u001b[0m\u001b[1;31m:\u001b[0m invalid syntax\n"
     ]
    }
   ],
   "source": [
    "a++\n",
    "++a \n",
    "#this thing doesnt work in python "
   ]
  },
  {
   "cell_type": "code",
   "execution_count": 51,
   "id": "d9f50e5c",
   "metadata": {},
   "outputs": [
    {
     "name": "stdout",
     "output_type": "stream",
     "text": [
      "True\n"
     ]
    }
   ],
   "source": [
    "#identity\n",
    "a = 3\n",
    "b = 3\n",
    "\n",
    "print( a is b)"
   ]
  },
  {
   "cell_type": "code",
   "execution_count": 52,
   "id": "94013f7a",
   "metadata": {},
   "outputs": [
    {
     "name": "stdout",
     "output_type": "stream",
     "text": [
      "True\n"
     ]
    }
   ],
   "source": [
    "a = \"hello\"\n",
    "b = \"hello\"\n",
    "print(a is b)"
   ]
  },
  {
   "cell_type": "code",
   "execution_count": 53,
   "id": "0b186db5",
   "metadata": {},
   "outputs": [
    {
     "name": "stdout",
     "output_type": "stream",
     "text": [
      "False\n"
     ]
    }
   ],
   "source": [
    "a = \"Hello-world\"\n",
    "b = \"Hello-world\"\n",
    "print(a is b)"
   ]
  },
  {
   "cell_type": "code",
   "execution_count": 62,
   "id": "024b546d",
   "metadata": {},
   "outputs": [
    {
     "name": "stdout",
     "output_type": "stream",
     "text": [
      "False\n",
      "True\n"
     ]
    }
   ],
   "source": [
    "a = [1,2,3]\n",
    "b = [1,2,3]\n",
    "\n",
    "print(a is b) #wow\n",
    "print(a is not b)"
   ]
  },
  {
   "cell_type": "code",
   "execution_count": 63,
   "id": "d7f38053",
   "metadata": {},
   "outputs": [
    {
     "name": "stdout",
     "output_type": "stream",
     "text": [
      "True\n"
     ]
    }
   ],
   "source": [
    "x = \"Delhi\"\n",
    "\n",
    "print(\"D\" in x)"
   ]
  },
  {
   "cell_type": "code",
   "execution_count": 64,
   "id": "817577e4",
   "metadata": {},
   "outputs": [
    {
     "name": "stdout",
     "output_type": "stream",
     "text": [
      "False\n"
     ]
    }
   ],
   "source": [
    "print(\"D\" not in x)"
   ]
  },
  {
   "cell_type": "code",
   "execution_count": 65,
   "id": "9b112654",
   "metadata": {},
   "outputs": [
    {
     "name": "stdout",
     "output_type": "stream",
     "text": [
      "False\n"
     ]
    }
   ],
   "source": [
    "x = (1,2,3)\n",
    "print(5 in x)"
   ]
  },
  {
   "cell_type": "code",
   "execution_count": 66,
   "id": "d904e3a8",
   "metadata": {},
   "outputs": [
    {
     "name": "stdout",
     "output_type": "stream",
     "text": [
      "True\n"
     ]
    }
   ],
   "source": [
    "print(2 in x)"
   ]
  },
  {
   "cell_type": "code",
   "execution_count": 67,
   "id": "535b767f",
   "metadata": {},
   "outputs": [],
   "source": [
    "#identity - is, not is\n",
    "#membership - in, not in"
   ]
  },
  {
   "cell_type": "code",
   "execution_count": null,
   "id": "35c6fd27",
   "metadata": {},
   "outputs": [],
   "source": [
    "# correct email - compusx@gmail.com\n",
    "# password - 1234\n",
    "\n",
    "email = input(\"Apna email bata: \")\n",
    "if '@' in email:\n",
    "    password = input(\"Apna password bata\")\n",
    "    if email == \"campusx@gmail.com\" and password == \"1234\":\n",
    "        print(\"Welcome\")\n",
    "    elif email == \"campusx@gmail.com\" and password != \"1234\":\n",
    "        print(\"password incorrect\")\n",
    "        password =input(\"password fir se bol\")\n",
    "        if password == \"1234\":\n",
    "            print(\"welcome\")\n",
    "        else:\n",
    "            print(\"chutti ye password yad kar ke aa\")\n",
    "    else:\n",
    "        print(\"incorrect credentials\")\n",
    "else:\n",
    "    print(\"Email galat hai sahi likho\")\n"
   ]
  },
  {
   "cell_type": "code",
   "execution_count": null,
   "id": "e6a68ac0",
   "metadata": {},
   "outputs": [],
   "source": [
    "#note indentation is very important in python than in any other language for example\n",
    "#python doesnt need any bracket it is very important to maintain indentation in python\n",
    "\n",
    "#in other language indentation is not important\n",
    "if(name) == \"xyz\"{\n",
    "    something;\n",
    "            something;\n",
    "}else{\n",
    "something else;\n",
    "    smething else;\n",
    "}"
   ]
  },
  {
   "cell_type": "code",
   "execution_count": 8,
   "id": "5077b49a",
   "metadata": {},
   "outputs": [
    {
     "name": "stdout",
     "output_type": "stream",
     "text": [
      "line 1\n",
      "line 2\n",
      "line 5\n"
     ]
    }
   ],
   "source": [
    "name = \"xyz\"\n",
    "if name == \"xyz\":\n",
    "    print('line 1')\n",
    "    print('line 2')\n",
    "    if 5 == 5:\n",
    "        print('line 5')\n",
    "else:\n",
    "    print('line 3')"
   ]
  },
  {
   "cell_type": "code",
   "execution_count": null,
   "id": "4976541f",
   "metadata": {},
   "outputs": [],
   "source": [
    "#why python did indentation beacuse it makes it easy to read and the code is much readable so python make it compulsory by removing brackts and making indentation as a common sense to use and read code"
   ]
  },
  {
   "cell_type": "code",
   "execution_count": null,
   "id": "cf184df6",
   "metadata": {},
   "outputs": [],
   "source": [
    "#python has 2 loops\n",
    "#while loop and for loop\n",
    "\n",
    "#syntax in other language\n",
    "while(condition){\n",
    "    code\n",
    "}"
   ]
  },
  {
   "cell_type": "code",
   "execution_count": null,
   "id": "4b0236b1",
   "metadata": {},
   "outputs": [],
   "source": [
    "#syntax in python\n",
    "while condition:\n",
    "    code"
   ]
  },
  {
   "cell_type": "code",
   "execution_count": null,
   "id": "4b266397",
   "metadata": {},
   "outputs": [],
   "source": [
    "number = int(input(\"enter the number\"))\n",
    "\n",
    "i=1\n",
    "\n",
    "while i<11:\n",
    "    print(number,\"*\",i,\"=\",number * i)\n",
    "    i+=1"
   ]
  },
  {
   "cell_type": "code",
   "execution_count": null,
   "id": "f69991ca",
   "metadata": {},
   "outputs": [],
   "source": [
    "#guessing-game \n",
    "import random"
   ]
  },
  {
   "cell_type": "code",
   "execution_count": 34,
   "id": "8f1bda53",
   "metadata": {},
   "outputs": [
    {
     "data": {
      "text/plain": [
       "8"
      ]
     },
     "execution_count": 34,
     "metadata": {},
     "output_type": "execute_result"
    }
   ],
   "source": [
    "random.randint(1,100)#gives a random number between a to b"
   ]
  },
  {
   "cell_type": "code",
   "execution_count": 47,
   "id": "23a0ac19",
   "metadata": {},
   "outputs": [
    {
     "name": "stdout",
     "output_type": "stream",
     "text": [
      "95\n"
     ]
    }
   ],
   "source": [
    "jackpot = random.randint(1,100)\n",
    "print(jackpot)\n",
    "\n"
   ]
  },
  {
   "cell_type": "code",
   "execution_count": 48,
   "id": "c79e6600",
   "metadata": {},
   "outputs": [
    {
     "name": "stdout",
     "output_type": "stream",
     "text": [
      "chal guess kar: 50\n",
      "guess more\n",
      "fir se guess kar: 75\n",
      "guess more\n",
      "fir se guess kar: 87\n",
      "guess more\n",
      "fir se guess kar: 90\n",
      "guess more\n",
      "fir se guess kar: 95\n",
      "correct after 5 no. of atempts\n"
     ]
    }
   ],
   "source": [
    "guess = int(input(\"chal guess kar: \"))\n",
    "counter = 1\n",
    "\n",
    "while guess != jackpot:\n",
    "    if guess>jackpot:\n",
    "        print(\"guess less\")\n",
    "    else:\n",
    "        print(\"guess more\")\n",
    "    guess = int(input(\"fir se guess kar: \"))\n",
    "    counter +=1\n",
    "\n",
    "print(\"correct after\",counter,\"no. of atempts\")\n",
    "        \n"
   ]
  },
  {
   "cell_type": "code",
   "execution_count": 49,
   "id": "64338b3e",
   "metadata": {},
   "outputs": [
    {
     "ename": "SyntaxError",
     "evalue": "invalid syntax. Maybe you meant '==' or ':=' instead of '='? (245143736.py, line 2)",
     "output_type": "error",
     "traceback": [
      "\u001b[1;36m  Cell \u001b[1;32mIn[49], line 2\u001b[1;36m\u001b[0m\n\u001b[1;33m    for(i=0;i<0;i++){\u001b[0m\n\u001b[1;37m        ^\u001b[0m\n\u001b[1;31mSyntaxError\u001b[0m\u001b[1;31m:\u001b[0m invalid syntax. Maybe you meant '==' or ':=' instead of '='?\n"
     ]
    }
   ],
   "source": [
    "#for loop in other language\n",
    "for(i=0;i<0;i++){\n",
    "    code\n",
    "}"
   ]
  },
  {
   "cell_type": "code",
   "execution_count": 51,
   "id": "2dc6d670",
   "metadata": {},
   "outputs": [
    {
     "data": {
      "text/plain": [
       "[1, 2, 3, 4, 5, 6, 7, 8, 9, 10]"
      ]
     },
     "execution_count": 51,
     "metadata": {},
     "output_type": "execute_result"
    }
   ],
   "source": [
    "#range function\n",
    "list(range(1,11)) #it has 3 value start,end,step"
   ]
  },
  {
   "cell_type": "code",
   "execution_count": 53,
   "id": "5a552659",
   "metadata": {},
   "outputs": [
    {
     "data": {
      "text/plain": [
       "[0, 1, 2, 3, 4, 5, 6, 7, 8, 9, 10, 11, 12, 13, 14]"
      ]
     },
     "execution_count": 53,
     "metadata": {},
     "output_type": "execute_result"
    }
   ],
   "source": [
    "list(range(15)) #in this by default the start point is 0"
   ]
  },
  {
   "cell_type": "code",
   "execution_count": 55,
   "id": "c3cb6cc3",
   "metadata": {},
   "outputs": [
    {
     "data": {
      "text/plain": [
       "[1, 3, 5, 7, 9]"
      ]
     },
     "execution_count": 55,
     "metadata": {},
     "output_type": "execute_result"
    }
   ],
   "source": [
    "list(range(1,11,2)) #step is 2 "
   ]
  },
  {
   "cell_type": "code",
   "execution_count": 57,
   "id": "4939a637",
   "metadata": {},
   "outputs": [
    {
     "name": "stdout",
     "output_type": "stream",
     "text": [
      "10\n",
      "9\n",
      "8\n",
      "7\n",
      "6\n",
      "5\n",
      "4\n",
      "3\n",
      "2\n",
      "1\n"
     ]
    }
   ],
   "source": [
    "for i in range(10,0,-1):\n",
    "    print(i)"
   ]
  },
  {
   "cell_type": "code",
   "execution_count": 69,
   "id": "531fe859",
   "metadata": {},
   "outputs": [
    {
     "name": "stdout",
     "output_type": "stream",
     "text": [
      "K\n",
      "o\n",
      "l\n",
      "k\n",
      "a\n",
      "t\n",
      "a\n"
     ]
    }
   ],
   "source": [
    "for i in \"Kolkata\":\n",
    "    print(i)"
   ]
  },
  {
   "cell_type": "code",
   "execution_count": 70,
   "id": "a63d9a66",
   "metadata": {},
   "outputs": [
    {
     "name": "stdout",
     "output_type": "stream",
     "text": [
      "1\n",
      "2\n",
      "3\n",
      "5\n"
     ]
    }
   ],
   "source": [
    "for i in [1,2,3,5]:\n",
    "    print(i)"
   ]
  },
  {
   "cell_type": "code",
   "execution_count": 71,
   "id": "fa850ce9",
   "metadata": {},
   "outputs": [
    {
     "name": "stdout",
     "output_type": "stream",
     "text": [
      "1\n",
      "2\n",
      "3\n",
      "5\n"
     ]
    }
   ],
   "source": [
    "for i in (1,2,3,5):\n",
    "    print(i)"
   ]
  },
  {
   "cell_type": "code",
   "execution_count": 72,
   "id": "57e68220",
   "metadata": {
    "scrolled": true
   },
   "outputs": [
    {
     "name": "stdout",
     "output_type": "stream",
     "text": [
      "1\n",
      "2\n",
      "3\n",
      "5\n"
     ]
    }
   ],
   "source": [
    "for i in {1,2,3,5}:\n",
    "    print(i)"
   ]
  },
  {
   "cell_type": "code",
   "execution_count": 75,
   "id": "0a51c24c",
   "metadata": {
    "scrolled": true
   },
   "outputs": [
    {
     "name": "stdout",
     "output_type": "stream",
     "text": [
      "enter the number of row5\n",
      "* \n",
      "* * \n",
      "* * * \n",
      "* * * * \n",
      "* * * * * \n"
     ]
    }
   ],
   "source": [
    "#Nested loop in python\n",
    "\n",
    "row = int(input(\"enter the number of row\"))\n",
    "\n",
    "for i in range(1,row+1):\n",
    "    for j in range(1,i+1):\n",
    "        print(\"*\",end=\" \")\n",
    "    print(\"\")"
   ]
  },
  {
   "cell_type": "code",
   "execution_count": 4,
   "id": "bcbaa47c",
   "metadata": {},
   "outputs": [
    {
     "name": "stdout",
     "output_type": "stream",
     "text": [
      "1\n",
      "2\n",
      "3\n",
      "4\n"
     ]
    }
   ],
   "source": [
    "#break-continue-and-pass\n",
    "for i in range(1,11): \n",
    "    if i == 5:\n",
    "        break\n",
    "    print(i)"
   ]
  },
  {
   "cell_type": "code",
   "execution_count": 6,
   "id": "83aae785",
   "metadata": {},
   "outputs": [
    {
     "name": "stdout",
     "output_type": "stream",
     "text": [
      "1\n",
      "hello\n",
      "2\n",
      "hello\n",
      "3\n",
      "hello\n",
      "4\n",
      "hello\n",
      "6\n",
      "hello\n",
      "7\n",
      "hello\n",
      "8\n",
      "hello\n",
      "9\n",
      "hello\n",
      "10\n",
      "hello\n"
     ]
    }
   ],
   "source": [
    "for i in range(1,11):\n",
    "    if i == 5:\n",
    "        continue\n",
    "    print(i)\n",
    "    print(\"hello\")\n",
    "\n",
    "#how sir used the countinue statement \n",
    "#in an e-commerace website the available product is been displayed but to not display the unavailable product we can use continue\n",
    "\n",
    "#how sir used loop\n",
    "#in a website to print similar containers for different data we can use loop\n",
    "#like in an e-commerce website we can just take data from the database and print it in a similar way for every similar product insted of making different ontainer for each we can just make one container and print different data\n",
    "\n",
    "#how to use input\n",
    "#insted of making thousands of webpage of different person we can just creat a single webpage and display different users data for different users by taking input or soo onn//..\n"
   ]
  },
  {
   "cell_type": "code",
   "execution_count": 1,
   "id": "bf6d4337",
   "metadata": {},
   "outputs": [],
   "source": [
    "for i in range(1,11):\n",
    "    pass\n",
    "\n",
    "#it just pass the code and use it for like future code "
   ]
  },
  {
   "cell_type": "code",
   "execution_count": 6,
   "id": "53fe2d7a",
   "metadata": {},
   "outputs": [
    {
     "data": {
      "text/plain": [
       "4"
      ]
     },
     "execution_count": 6,
     "metadata": {},
     "output_type": "execute_result"
    }
   ],
   "source": [
    "#absalute function - abs\n",
    "abs(-4)"
   ]
  },
  {
   "cell_type": "code",
   "execution_count": 8,
   "id": "2a7bda08",
   "metadata": {},
   "outputs": [
    {
     "data": {
      "text/plain": [
       "0.125"
      ]
     },
     "execution_count": 8,
     "metadata": {},
     "output_type": "execute_result"
    }
   ],
   "source": [
    "#power function - pow\n",
    "pow(2,-3)"
   ]
  },
  {
   "cell_type": "code",
   "execution_count": 10,
   "id": "aa8e821e",
   "metadata": {},
   "outputs": [
    {
     "data": {
      "text/plain": [
       "1"
      ]
     },
     "execution_count": 10,
     "metadata": {},
     "output_type": "execute_result"
    }
   ],
   "source": [
    "#min/max \n",
    "min([2,3,5,1,8])"
   ]
  },
  {
   "cell_type": "code",
   "execution_count": 16,
   "id": "ac858ea6",
   "metadata": {},
   "outputs": [
    {
     "data": {
      "text/plain": [
       "'z'"
      ]
     },
     "execution_count": 16,
     "metadata": {},
     "output_type": "execute_result"
    }
   ],
   "source": [
    "max(\"pankazu\")"
   ]
  },
  {
   "cell_type": "code",
   "execution_count": 20,
   "id": "29ad7df1",
   "metadata": {},
   "outputs": [
    {
     "data": {
      "text/plain": [
       "3.143"
      ]
     },
     "execution_count": 20,
     "metadata": {},
     "output_type": "execute_result"
    }
   ],
   "source": [
    "#round\n",
    "c = 22/7\n",
    "round(c)\n",
    "round(c,3) #upto 3 decimal place"
   ]
  },
  {
   "cell_type": "code",
   "execution_count": 76,
   "id": "3c14aef7",
   "metadata": {},
   "outputs": [
    {
     "data": {
      "text/plain": [
       "(3, 1)"
      ]
     },
     "execution_count": 76,
     "metadata": {},
     "output_type": "execute_result"
    }
   ],
   "source": [
    "#divmod\n",
    "divmod(7,2) #check it through  shit+tab:)"
   ]
  },
  {
   "cell_type": "code",
   "execution_count": 26,
   "id": "8f897957",
   "metadata": {
    "scrolled": true
   },
   "outputs": [
    {
     "name": "stdout",
     "output_type": "stream",
     "text": [
      "0b1010\n",
      "0o12\n",
      "0xa\n"
     ]
    }
   ],
   "source": [
    "#bin/oct/hex\n",
    "print(bin(10))\n",
    "print(oct(10))\n",
    "print(hex(10))"
   ]
  },
  {
   "cell_type": "code",
   "execution_count": 78,
   "id": "a82988df",
   "metadata": {},
   "outputs": [
    {
     "data": {
      "text/plain": [
       "140703922578280"
      ]
     },
     "execution_count": 78,
     "metadata": {},
     "output_type": "execute_result"
    }
   ],
   "source": [
    "#id function gives the memory address in the computer \n",
    "a = 3\n",
    "id(a)"
   ]
  },
  {
   "cell_type": "code",
   "execution_count": 30,
   "id": "a35b2339",
   "metadata": {},
   "outputs": [
    {
     "data": {
      "text/plain": [
       "65"
      ]
     },
     "execution_count": 30,
     "metadata": {},
     "output_type": "execute_result"
    }
   ],
   "source": [
    "#ord gives the astric value \n",
    "ord('A')"
   ]
  },
  {
   "cell_type": "code",
   "execution_count": 31,
   "id": "95a119b1",
   "metadata": {},
   "outputs": [
    {
     "data": {
      "text/plain": [
       "3"
      ]
     },
     "execution_count": 31,
     "metadata": {},
     "output_type": "execute_result"
    }
   ],
   "source": [
    "#len\n",
    "len([1,2,5])"
   ]
  },
  {
   "cell_type": "code",
   "execution_count": 33,
   "id": "d690cac1",
   "metadata": {},
   "outputs": [
    {
     "data": {
      "text/plain": [
       "15"
      ]
     },
     "execution_count": 33,
     "metadata": {},
     "output_type": "execute_result"
    }
   ],
   "source": [
    "#sum\n",
    "sum([2,4,3,6])"
   ]
  },
  {
   "cell_type": "code",
   "execution_count": 35,
   "id": "66260e53",
   "metadata": {},
   "outputs": [
    {
     "name": "stdout",
     "output_type": "stream",
     "text": [
      "Help on built-in function sum in module builtins:\n",
      "\n",
      "sum(iterable, /, start=0)\n",
      "    Return the sum of a 'start' value (default: 0) plus an iterable of numbers\n",
      "    \n",
      "    When the iterable is empty, return the start value.\n",
      "    This function is intended specifically for use with numeric values and may\n",
      "    reject non-numeric types.\n",
      "\n"
     ]
    }
   ],
   "source": [
    "#help function helps  to see the documentation of any function\n",
    "help(sum)"
   ]
  },
  {
   "cell_type": "code",
   "execution_count": 37,
   "id": "d8ad1b83",
   "metadata": {},
   "outputs": [
    {
     "name": "stdout",
     "output_type": "stream",
     "text": [
      "\n",
      "Please wait a moment while I gather a list of all available modules...\n",
      "\n",
      "IPython             binascii            marshal             string\n",
      "__future__          bisect              math                stringprep\n",
      "__hello__           bleach              matplotlib_inline   struct\n",
      "__phello__          bs4                 mimetypes           subprocess\n",
      "_abc                builtins            mistune             sunau\n",
      "_aix_support        bz2                 mmap                symtable\n",
      "_argon2_cffi_bindings cProfile            mmapfile            sys\n",
      "_ast                calendar            mmsystem            sysconfig\n",
      "_asyncio            certifi             modulefinder        tabnanny\n",
      "_bisect             cffi                msilib              tarfile\n",
      "_blake2             cgi                 msvcrt              telnetlib\n",
      "_bootsubprocess     cgitb               multiprocessing     tempfile\n",
      "_bz2                charset_normalizer  nbclassic           terminado\n",
      "_cffi_backend       chunk               nbclient            test\n",
      "_codecs             cmath               nbconvert           textwrap\n",
      "_codecs_cn          cmd                 nbformat            this\n",
      "_codecs_hk          code                nest_asyncio        threading\n",
      "_codecs_iso2022     codecs              netbios             time\n",
      "_codecs_jp          codeop              netrc               timeit\n",
      "_codecs_kr          collections         nntplib             timer\n",
      "_codecs_tw          colorama            notebook            tinycss2\n",
      "_collections        colorsys            notebook_shim       tkinter\n",
      "_collections_abc    comm                nt                  token\n",
      "_compat_pickle      commctrl            ntpath              tokenize\n",
      "_compression        compileall          ntsecuritycon       tomllib\n",
      "_contextvars        concurrent          nturl2path          tornado\n",
      "_csv                configparser        numbers             trace\n",
      "_ctypes             contextlib          odbc                traceback\n",
      "_ctypes_test        contextvars         opcode              tracemalloc\n",
      "_datetime           copy                operator            traitlets\n",
      "_decimal            copyreg             optparse            tty\n",
      "_distutils_hack     crypt               os                  turtle\n",
      "_elementtree        csv                 overrides           turtledemo\n",
      "_functools          ctypes              packaging           types\n",
      "_hashlib            curses              pandocfilters       typing\n",
      "_heapq              dataclasses         parso               typing_extensions\n",
      "_imp                datetime            pathlib             unicodedata\n",
      "_io                 dateutil            pdb                 unittest\n",
      "_json               dbi                 perfmon             uri_template\n",
      "_locale             dbm                 pickle              urllib\n",
      "_lsprof             dde                 pickleshare         urllib3\n",
      "_lzma               debugpy             pickletools         uu\n",
      "_markupbase         decimal             pip                 uuid\n",
      "_md5                decorator           pipes               venv\n",
      "_msi                defusedxml          pkg_resources       warnings\n",
      "_multibytecodec     difflib             pkgutil             wave\n",
      "_multiprocessing    dis                 platform            wcwidth\n",
      "_opcode             distutils           platformdirs        weakref\n",
      "_operator           doctest             plistlib            webbrowser\n",
      "_osx_support        email               poplib              webcolors\n",
      "_overlapped         encodings           posixpath           webencodings\n",
      "_pickle             ensurepip           pprint              websocket\n",
      "_py_abc             enum                profile             widgetsnbextension\n",
      "_pydecimal          errno               prometheus_client   win2kras\n",
      "_pyio               executing           prompt_toolkit      win32api\n",
      "_pyrsistent_version fastjsonschema      pstats              win32clipboard\n",
      "_queue              faulthandler        psutil              win32com\n",
      "_random             filecmp             pty                 win32con\n",
      "_sha1               fileinput           pure_eval           win32console\n",
      "_sha256             fnmatch             pvectorc            win32cred\n",
      "_sha3               fqdn                py_compile          win32crypt\n",
      "_sha512             fractions           pyclbr              win32cryptcon\n",
      "_signal             ftplib              pycparser           win32event\n",
      "_sitebuiltins       functools           pydoc               win32evtlog\n",
      "_socket             gc                  pydoc_data          win32evtlogutil\n",
      "_sqlite3            genericpath         pyexpat             win32file\n",
      "_sre                getopt              pygments            win32gui\n",
      "_ssl                getpass             pyrsistent          win32gui_struct\n",
      "_stat               gettext             pythoncom           win32help\n",
      "_statistics         glob                pythonjsonlogger    win32inet\n",
      "_string             graphlib            pywin               win32inetcon\n",
      "_strptime           gzip                pywin32_bootstrap   win32job\n",
      "_struct             hashlib             pywin32_testutil    win32lz\n",
      "_symtable           heapq               pywintypes          win32net\n",
      "_testbuffer         hmac                qtconsole           win32netcon\n",
      "_testcapi           html                qtpy                win32pdh\n",
      "_testconsole        http                queue               win32pdhquery\n",
      "_testimportmultiple idlelib             quopri              win32pdhutil\n",
      "_testinternalcapi   idna                random              win32pipe\n",
      "_testmultiphase     imaplib             rasutil             win32print\n",
      "_thread             imghdr              re                  win32process\n",
      "_threading_local    imp                 regcheck            win32profile\n",
      "_tkinter            importlib           regutil             win32ras\n",
      "_tokenize           inspect             reprlib             win32rcparser\n",
      "_tracemalloc        io                  requests            win32security\n",
      "_typing             ipaddress           rfc3339_validator   win32service\n",
      "_uuid               ipykernel           rfc3986_validator   win32serviceutil\n",
      "_warnings           ipykernel_launcher  rlcompleter         win32timezone\n",
      "_weakref            ipython_genutils    runpy               win32trace\n",
      "_weakrefset         ipywidgets          sched               win32traceutil\n",
      "_win32sysloader     isapi               secrets             win32transaction\n",
      "_winapi             isoduration         select              win32ts\n",
      "_winxptheme         itertools           selectors           win32ui\n",
      "_xxsubinterpreters  jedi                send2trash          win32uiole\n",
      "_yaml               jinja2              servicemanager      win32verstamp\n",
      "_zoneinfo           json                setuptools          win32wnet\n",
      "abc                 json5               shelve              winerror\n",
      "adodbapi            jsonpointer         shlex               winioctlcon\n",
      "afxres              jsonschema          shutil              winnt\n",
      "aifc                jupyter             signal              winperf\n",
      "antigravity         jupyter_client      site                winpty\n",
      "anyio               jupyter_console     six                 winreg\n",
      "argon2              jupyter_core        smtpd               winsound\n",
      "argparse            jupyter_events      smtplib             winxpgui\n",
      "array               jupyter_lsp         sndhdr              winxptheme\n",
      "arrow               jupyter_server      sniffio             wsgiref\n",
      "ast                 jupyter_server_terminals socket              xdrlib\n",
      "asttokens           jupyterlab          socketserver        xml\n",
      "async_lru           jupyterlab_pygments soupsieve           xmlrpc\n",
      "asynchat            jupyterlab_server   sqlite3             xxsubtype\n",
      "asyncio             jupyterlab_widgets  sre_compile         yaml\n",
      "asyncore            keyword             sre_constants       zipapp\n",
      "atexit              lib2to3             sre_parse           zipfile\n",
      "attr                linecache           ssl                 zipimport\n",
      "attrs               locale              sspi                zlib\n",
      "audioop             logging             sspicon             zmq\n",
      "babel               lzma                stack_data          zoneinfo\n",
      "backcall            mailbox             start_pythonwin     \n",
      "base64              mailcap             stat                \n",
      "bdb                 markupsafe          statistics          \n",
      "\n",
      "Enter any module name to get more help.  Or, type \"modules spam\" to search\n",
      "for modules whose name or summary contain the string \"spam\".\n",
      "\n"
     ]
    }
   ],
   "source": [
    "#what are modules?\n",
    "#consider a module to be the same as a code library. \n",
    "#A file containing a set of functions you want to include in your application. \n",
    "\n",
    "#Examples of python modules\n",
    "#Math\n",
    "#Random\n",
    "#os \n",
    "#time\n",
    "\n",
    "help('modules')#helps to  list all the modules available in the system\n"
   ]
  },
  {
   "cell_type": "code",
   "execution_count": 40,
   "id": "7f6d655d",
   "metadata": {},
   "outputs": [],
   "source": [
    "#include<stdio.h> in c language but in python\n",
    "import math"
   ]
  },
  {
   "cell_type": "code",
   "execution_count": 42,
   "id": "bcd186f6",
   "metadata": {},
   "outputs": [
    {
     "data": {
      "text/plain": [
       "3.141592653589793"
      ]
     },
     "execution_count": 42,
     "metadata": {},
     "output_type": "execute_result"
    }
   ],
   "source": [
    "math.pi#press tab after . to get the list"
   ]
  },
  {
   "cell_type": "markdown",
   "id": "a5626514",
   "metadata": {},
   "source": []
  },
  {
   "cell_type": "code",
   "execution_count": 44,
   "id": "b42d8a88",
   "metadata": {},
   "outputs": [
    {
     "data": {
      "text/plain": [
       "2.718281828459045"
      ]
     },
     "execution_count": 44,
     "metadata": {},
     "output_type": "execute_result"
    }
   ],
   "source": [
    "math.e"
   ]
  },
  {
   "cell_type": "code",
   "execution_count": 45,
   "id": "726c3c14",
   "metadata": {},
   "outputs": [
    {
     "data": {
      "text/plain": [
       "120"
      ]
     },
     "execution_count": 45,
     "metadata": {},
     "output_type": "execute_result"
    }
   ],
   "source": [
    "math.factorial(5)"
   ]
  },
  {
   "cell_type": "code",
   "execution_count": 47,
   "id": "48228daf",
   "metadata": {},
   "outputs": [
    {
     "data": {
      "text/plain": [
       "7"
      ]
     },
     "execution_count": 47,
     "metadata": {},
     "output_type": "execute_result"
    }
   ],
   "source": [
    "math.ceil(6.3)"
   ]
  },
  {
   "cell_type": "code",
   "execution_count": 49,
   "id": "e62304db",
   "metadata": {},
   "outputs": [
    {
     "data": {
      "text/plain": [
       "6"
      ]
     },
     "execution_count": 49,
     "metadata": {},
     "output_type": "execute_result"
    }
   ],
   "source": [
    "math.floor(6.9)"
   ]
  },
  {
   "cell_type": "code",
   "execution_count": 51,
   "id": "569ce8ad",
   "metadata": {},
   "outputs": [
    {
     "data": {
      "text/plain": [
       "10.0"
      ]
     },
     "execution_count": 51,
     "metadata": {},
     "output_type": "execute_result"
    }
   ],
   "source": [
    "math.sqrt(100)"
   ]
  },
  {
   "cell_type": "code",
   "execution_count": 52,
   "id": "8676b176",
   "metadata": {},
   "outputs": [],
   "source": [
    "import random"
   ]
  },
  {
   "cell_type": "code",
   "execution_count": 54,
   "id": "e9cf03e0",
   "metadata": {},
   "outputs": [
    {
     "data": {
      "text/plain": [
       "23"
      ]
     },
     "execution_count": 54,
     "metadata": {},
     "output_type": "execute_result"
    }
   ],
   "source": [
    "random.randint(1,100)"
   ]
  },
  {
   "cell_type": "code",
   "execution_count": 59,
   "id": "244ed410",
   "metadata": {},
   "outputs": [
    {
     "data": {
      "text/plain": [
       "[1, 5, 3, 2, 4]"
      ]
     },
     "execution_count": 59,
     "metadata": {},
     "output_type": "execute_result"
    }
   ],
   "source": [
    "a = [1,2,3,4,5]\n",
    "random.shuffle(a)\n",
    "a"
   ]
  },
  {
   "cell_type": "code",
   "execution_count": 60,
   "id": "f6bd6d5a",
   "metadata": {},
   "outputs": [],
   "source": [
    "import time"
   ]
  },
  {
   "cell_type": "code",
   "execution_count": 61,
   "id": "21965aa7",
   "metadata": {},
   "outputs": [
    {
     "data": {
      "text/plain": [
       "1687973161.673016"
      ]
     },
     "execution_count": 61,
     "metadata": {},
     "output_type": "execute_result"
    }
   ],
   "source": [
    "time.time() #timestam from 1st january 19**"
   ]
  },
  {
   "cell_type": "code",
   "execution_count": 62,
   "id": "5f733833",
   "metadata": {},
   "outputs": [
    {
     "data": {
      "text/plain": [
       "'Wed Jun 28 22:56:17 2023'"
      ]
     },
     "execution_count": 62,
     "metadata": {},
     "output_type": "execute_result"
    }
   ],
   "source": [
    "time.ctime()"
   ]
  },
  {
   "cell_type": "code",
   "execution_count": 63,
   "id": "6ec9ac5d",
   "metadata": {},
   "outputs": [
    {
     "name": "stdout",
     "output_type": "stream",
     "text": [
      "Hello\n",
      "world\n"
     ]
    }
   ],
   "source": [
    "print(\"Hello\")\n",
    "time.sleep(1)#delay\n",
    "print(\"world\")"
   ]
  },
  {
   "cell_type": "code",
   "execution_count": 64,
   "id": "ea23d21c",
   "metadata": {},
   "outputs": [],
   "source": [
    "import os"
   ]
  },
  {
   "cell_type": "code",
   "execution_count": 66,
   "id": "d4d77be2",
   "metadata": {},
   "outputs": [
    {
     "data": {
      "text/plain": [
       "'D:\\\\python file'"
      ]
     },
     "execution_count": 66,
     "metadata": {},
     "output_type": "execute_result"
    }
   ],
   "source": [
    "os.getcwd()"
   ]
  },
  {
   "cell_type": "code",
   "execution_count": 67,
   "id": "1c883668",
   "metadata": {},
   "outputs": [
    {
     "data": {
      "text/plain": [
       "['.ipynb_checkpoints', 'desktop.ini', 'Untitled.ipynb']"
      ]
     },
     "execution_count": 67,
     "metadata": {},
     "output_type": "execute_result"
    }
   ],
   "source": [
    "os.listdir()"
   ]
  },
  {
   "cell_type": "code",
   "execution_count": 68,
   "id": "d3b7d498",
   "metadata": {},
   "outputs": [],
   "source": [
    "#strings are sequence of characters\n",
    "#in python specifically, strings are a sequence of unicode characters\n",
    "#creating strings\n",
    "#accessing strings\n",
    "#adding chars to strings\n",
    "#editing strings\n",
    "#deleting strings\n",
    "#operations on strings\n",
    "#string functions\n",
    "\n"
   ]
  },
  {
   "cell_type": "code",
   "execution_count": 69,
   "id": "a2fe9056",
   "metadata": {},
   "outputs": [
    {
     "name": "stdout",
     "output_type": "stream",
     "text": [
      "Hello\n"
     ]
    }
   ],
   "source": [
    "#creating \n",
    "c = 'Hello'\n",
    "print(c)"
   ]
  },
  {
   "cell_type": "code",
   "execution_count": 70,
   "id": "658c0890",
   "metadata": {},
   "outputs": [
    {
     "name": "stdout",
     "output_type": "stream",
     "text": [
      "Hello\n"
     ]
    }
   ],
   "source": [
    "c = \"Hello\"\n",
    "print(c)"
   ]
  },
  {
   "cell_type": "code",
   "execution_count": 71,
   "id": "2e602852",
   "metadata": {},
   "outputs": [
    {
     "data": {
      "text/plain": [
       "\"it's raining outside\""
      ]
     },
     "execution_count": 71,
     "metadata": {},
     "output_type": "execute_result"
    }
   ],
   "source": [
    "\"it's raining outside\""
   ]
  },
  {
   "cell_type": "code",
   "execution_count": 72,
   "id": "b9b6b01c",
   "metadata": {},
   "outputs": [],
   "source": [
    "#as you can see y we need '' and \"\" both for string  :) interesting"
   ]
  },
  {
   "cell_type": "code",
   "execution_count": 73,
   "id": "4c7abd7e",
   "metadata": {},
   "outputs": [
    {
     "name": "stdout",
     "output_type": "stream",
     "text": [
      "Hello\n"
     ]
    }
   ],
   "source": [
    "c = '''Hello'''\n",
    "print(c)\n",
    "#multi line strings"
   ]
  },
  {
   "cell_type": "code",
   "execution_count": 74,
   "id": "5738cd8d",
   "metadata": {},
   "outputs": [
    {
     "name": "stdout",
     "output_type": "stream",
     "text": [
      "Hello\n"
     ]
    }
   ],
   "source": [
    "c = \"\"\"Hello\"\"\"\n",
    "print(c)"
   ]
  },
  {
   "cell_type": "code",
   "execution_count": 75,
   "id": "17195a77",
   "metadata": {},
   "outputs": [
    {
     "data": {
      "text/plain": [
       "'Hello'"
      ]
     },
     "execution_count": 75,
     "metadata": {},
     "output_type": "execute_result"
    }
   ],
   "source": [
    "c = str(\"Hello\")\n",
    "c\n"
   ]
  },
  {
   "cell_type": "code",
   "execution_count": 76,
   "id": "8ce945c1",
   "metadata": {},
   "outputs": [
    {
     "name": "stdout",
     "output_type": "stream",
     "text": [
      "hello\n"
     ]
    }
   ],
   "source": [
    "#concept of Indexing\n",
    "c = \"hello\"\n",
    "print(c)"
   ]
  },
  {
   "cell_type": "code",
   "execution_count": 77,
   "id": "6211e373",
   "metadata": {},
   "outputs": [
    {
     "name": "stdout",
     "output_type": "stream",
     "text": [
      "h\n"
     ]
    }
   ],
   "source": [
    "print(c[0])"
   ]
  },
  {
   "cell_type": "code",
   "execution_count": 78,
   "id": "5bae9116",
   "metadata": {},
   "outputs": [
    {
     "name": "stdout",
     "output_type": "stream",
     "text": [
      "l\n"
     ]
    }
   ],
   "source": [
    "print(c[3])"
   ]
  },
  {
   "cell_type": "code",
   "execution_count": 79,
   "id": "150cbadc",
   "metadata": {},
   "outputs": [
    {
     "name": "stdout",
     "output_type": "stream",
     "text": [
      "o\n"
     ]
    }
   ],
   "source": [
    "# Types of Indexing in python\n",
    "# positive indexing left to right\n",
    "# Negative indexing right to left \n",
    "\n",
    "print(c[-1])\n"
   ]
  },
  {
   "cell_type": "code",
   "execution_count": 80,
   "id": "18f402f8",
   "metadata": {},
   "outputs": [
    {
     "name": "stdout",
     "output_type": "stream",
     "text": [
      "Hello World\n"
     ]
    }
   ],
   "source": [
    "# slicing\n",
    "c = \"Hello World\"\n",
    "print(c)"
   ]
  },
  {
   "cell_type": "code",
   "execution_count": 85,
   "id": "eda8002e",
   "metadata": {},
   "outputs": [
    {
     "name": "stdout",
     "output_type": "stream",
     "text": [
      "Hello\n"
     ]
    }
   ],
   "source": [
    "print(c[0:5]) #last wala se 1 kam"
   ]
  },
  {
   "cell_type": "code",
   "execution_count": 82,
   "id": "b674c04e",
   "metadata": {},
   "outputs": [
    {
     "name": "stdout",
     "output_type": "stream",
     "text": [
      "llo World\n"
     ]
    }
   ],
   "source": [
    "print(c[2:])"
   ]
  },
  {
   "cell_type": "code",
   "execution_count": 83,
   "id": "1f90beff",
   "metadata": {},
   "outputs": [
    {
     "name": "stdout",
     "output_type": "stream",
     "text": [
      "Hell\n"
     ]
    }
   ],
   "source": [
    "print(c[:4])"
   ]
  },
  {
   "cell_type": "code",
   "execution_count": 84,
   "id": "11c42fff",
   "metadata": {},
   "outputs": [
    {
     "name": "stdout",
     "output_type": "stream",
     "text": [
      "Hello World\n"
     ]
    }
   ],
   "source": [
    "print(c[:])"
   ]
  },
  {
   "cell_type": "code",
   "execution_count": 86,
   "id": "353f2ef2",
   "metadata": {},
   "outputs": [
    {
     "name": "stdout",
     "output_type": "stream",
     "text": [
      "Hello World\n"
     ]
    }
   ],
   "source": [
    "print(c)"
   ]
  },
  {
   "cell_type": "code",
   "execution_count": 87,
   "id": "b12c2c4a",
   "metadata": {},
   "outputs": [
    {
     "name": "stdout",
     "output_type": "stream",
     "text": [
      "lo\n"
     ]
    }
   ],
   "source": [
    "print(c[2:6:2])"
   ]
  },
  {
   "cell_type": "code",
   "execution_count": 88,
   "id": "731af656",
   "metadata": {},
   "outputs": [
    {
     "name": "stdout",
     "output_type": "stream",
     "text": [
      "HlW\n"
     ]
    }
   ],
   "source": [
    "print(c[0:8:3])"
   ]
  },
  {
   "cell_type": "code",
   "execution_count": 89,
   "id": "abc06f95",
   "metadata": {},
   "outputs": [
    {
     "name": "stdout",
     "output_type": "stream",
     "text": [
      "\n"
     ]
    }
   ],
   "source": [
    "print(c[0:6:-1])"
   ]
  },
  {
   "cell_type": "code",
   "execution_count": 90,
   "id": "9a11553b",
   "metadata": {},
   "outputs": [
    {
     "name": "stdout",
     "output_type": "stream",
     "text": [
      "Wr\n"
     ]
    }
   ],
   "source": [
    "print(c[-5:-1:2]) #last wala not included -d so worl now 2 step -wr"
   ]
  },
  {
   "cell_type": "code",
   "execution_count": 91,
   "id": "41048dbc",
   "metadata": {},
   "outputs": [
    {
     "name": "stdout",
     "output_type": "stream",
     "text": [
      "dlroW olleH\n"
     ]
    }
   ],
   "source": [
    "print(c[::-1])#to reverse the whole string"
   ]
  },
  {
   "cell_type": "code",
   "execution_count": 92,
   "id": "19393411",
   "metadata": {},
   "outputs": [
    {
     "name": "stdout",
     "output_type": "stream",
     "text": [
      "dlro\n"
     ]
    }
   ],
   "source": [
    "print(c[-1:-5:-1])"
   ]
  },
  {
   "cell_type": "code",
   "execution_count": 93,
   "id": "8e6daf9b",
   "metadata": {},
   "outputs": [
    {
     "name": "stdout",
     "output_type": "stream",
     "text": [
      "Hello\n"
     ]
    }
   ],
   "source": [
    "#Editing and Deleting in strings not happen\n",
    "c = \"Hello\"\n",
    "print(c)"
   ]
  },
  {
   "cell_type": "code",
   "execution_count": 1,
   "id": "a7156e4a",
   "metadata": {},
   "outputs": [
    {
     "ename": "NameError",
     "evalue": "name 'c' is not defined",
     "output_type": "error",
     "traceback": [
      "\u001b[1;31m---------------------------------------------------------------------------\u001b[0m",
      "\u001b[1;31mNameError\u001b[0m                                 Traceback (most recent call last)",
      "Cell \u001b[1;32mIn[1], line 1\u001b[0m\n\u001b[1;32m----> 1\u001b[0m \u001b[43mc\u001b[49m[\u001b[38;5;241m0\u001b[39m] \u001b[38;5;241m=\u001b[39m \u001b[38;5;124m'\u001b[39m\u001b[38;5;124mx\u001b[39m\u001b[38;5;124m'\u001b[39m\n",
      "\u001b[1;31mNameError\u001b[0m: name 'c' is not defined"
     ]
    }
   ],
   "source": [
    "c[0] = 'x'"
   ]
  },
  {
   "cell_type": "code",
   "execution_count": 2,
   "id": "23926e1a",
   "metadata": {},
   "outputs": [],
   "source": [
    "#strings are a immutable data tyep meaning cant be changed once string is created mutable means that can change"
   ]
  },
  {
   "cell_type": "code",
   "execution_count": 3,
   "id": "fda25172",
   "metadata": {},
   "outputs": [
    {
     "name": "stdout",
     "output_type": "stream",
     "text": [
      "world\n"
     ]
    }
   ],
   "source": [
    "c = \"world\"#we can assing new \n",
    "print(c)"
   ]
  },
  {
   "cell_type": "code",
   "execution_count": 4,
   "id": "01bcabdc",
   "metadata": {},
   "outputs": [
    {
     "data": {
      "text/plain": [
       "'world'"
      ]
     },
     "execution_count": 4,
     "metadata": {},
     "output_type": "execute_result"
    }
   ],
   "source": [
    "#Deletion\n",
    "c"
   ]
  },
  {
   "cell_type": "code",
   "execution_count": 5,
   "id": "06b7ac1d",
   "metadata": {},
   "outputs": [],
   "source": [
    "del c"
   ]
  },
  {
   "cell_type": "code",
   "execution_count": 6,
   "id": "4c65f15d",
   "metadata": {},
   "outputs": [
    {
     "ename": "SyntaxError",
     "evalue": "Missing parentheses in call to 'print'. Did you mean print(...)? (4198097486.py, line 1)",
     "output_type": "error",
     "traceback": [
      "\u001b[1;36m  Cell \u001b[1;32mIn[6], line 1\u001b[1;36m\u001b[0m\n\u001b[1;33m    print c\u001b[0m\n\u001b[1;37m    ^\u001b[0m\n\u001b[1;31mSyntaxError\u001b[0m\u001b[1;31m:\u001b[0m Missing parentheses in call to 'print'. Did you mean print(...)?\n"
     ]
    }
   ],
   "source": [
    "print c"
   ]
  },
  {
   "cell_type": "code",
   "execution_count": 7,
   "id": "81927bcd",
   "metadata": {},
   "outputs": [],
   "source": [
    "c = \"hello\""
   ]
  },
  {
   "cell_type": "code",
   "execution_count": 8,
   "id": "ad6f1e1b",
   "metadata": {},
   "outputs": [
    {
     "name": "stdout",
     "output_type": "stream",
     "text": [
      "hello\n"
     ]
    }
   ],
   "source": [
    "print(c)"
   ]
  },
  {
   "cell_type": "code",
   "execution_count": 9,
   "id": "09a88d1b",
   "metadata": {},
   "outputs": [
    {
     "ename": "TypeError",
     "evalue": "'str' object doesn't support item deletion",
     "output_type": "error",
     "traceback": [
      "\u001b[1;31m---------------------------------------------------------------------------\u001b[0m",
      "\u001b[1;31mTypeError\u001b[0m                                 Traceback (most recent call last)",
      "Cell \u001b[1;32mIn[9], line 1\u001b[0m\n\u001b[1;32m----> 1\u001b[0m \u001b[38;5;28;01mdel\u001b[39;00m \u001b[43mc\u001b[49m\u001b[43m[\u001b[49m\u001b[38;5;241;43m0\u001b[39;49m\u001b[43m]\u001b[49m \u001b[38;5;66;03m#cant be change because strings are ummutable\u001b[39;00m\n",
      "\u001b[1;31mTypeError\u001b[0m: 'str' object doesn't support item deletion"
     ]
    }
   ],
   "source": [
    "del c[0] #cant be change because strings are ummutable"
   ]
  },
  {
   "cell_type": "code",
   "execution_count": 10,
   "id": "ee451bd9",
   "metadata": {},
   "outputs": [
    {
     "ename": "TypeError",
     "evalue": "'str' object does not support item deletion",
     "output_type": "error",
     "traceback": [
      "\u001b[1;31m---------------------------------------------------------------------------\u001b[0m",
      "\u001b[1;31mTypeError\u001b[0m                                 Traceback (most recent call last)",
      "Cell \u001b[1;32mIn[10], line 1\u001b[0m\n\u001b[1;32m----> 1\u001b[0m \u001b[38;5;28;01mdel\u001b[39;00m \u001b[43mc\u001b[49m\u001b[43m[\u001b[49m\u001b[43m:\u001b[49m\u001b[38;5;241;43m3\u001b[39;49m\u001b[43m:\u001b[49m\u001b[38;5;241;43m2\u001b[39;49m\u001b[43m]\u001b[49m\n",
      "\u001b[1;31mTypeError\u001b[0m: 'str' object does not support item deletion"
     ]
    }
   ],
   "source": [
    "del c[:3:2]"
   ]
  },
  {
   "cell_type": "code",
   "execution_count": 11,
   "id": "338c2ab7",
   "metadata": {},
   "outputs": [],
   "source": [
    "#operation on string"
   ]
  },
  {
   "cell_type": "code",
   "execution_count": 12,
   "id": "8f9170f8",
   "metadata": {},
   "outputs": [
    {
     "data": {
      "text/plain": [
       "'hello-world'"
      ]
     },
     "execution_count": 12,
     "metadata": {},
     "output_type": "execute_result"
    }
   ],
   "source": [
    "#arithmetic operation only + and *\n",
    "\"hello\" + \"-\" + \"world\""
   ]
  },
  {
   "cell_type": "code",
   "execution_count": 13,
   "id": "a4cdafcb",
   "metadata": {},
   "outputs": [
    {
     "name": "stdout",
     "output_type": "stream",
     "text": [
      "**************************************************\n"
     ]
    }
   ],
   "source": [
    "print(\"*\"*50)"
   ]
  },
  {
   "cell_type": "code",
   "execution_count": 14,
   "id": "d3779f25",
   "metadata": {},
   "outputs": [
    {
     "name": "stdout",
     "output_type": "stream",
     "text": [
      "hellohellohellohello\n"
     ]
    }
   ],
   "source": [
    "print(\"hello\"*4)"
   ]
  },
  {
   "cell_type": "code",
   "execution_count": 15,
   "id": "eb20c7e3",
   "metadata": {},
   "outputs": [
    {
     "data": {
      "text/plain": [
       "False"
      ]
     },
     "execution_count": 15,
     "metadata": {},
     "output_type": "execute_result"
    }
   ],
   "source": [
    "\"hello\" == \"world\""
   ]
  },
  {
   "cell_type": "code",
   "execution_count": 16,
   "id": "90226d3e",
   "metadata": {},
   "outputs": [
    {
     "data": {
      "text/plain": [
       "True"
      ]
     },
     "execution_count": 16,
     "metadata": {},
     "output_type": "execute_result"
    }
   ],
   "source": [
    "\"hello\" != \"world\""
   ]
  },
  {
   "cell_type": "code",
   "execution_count": 18,
   "id": "6022a102",
   "metadata": {},
   "outputs": [
    {
     "data": {
      "text/plain": [
       "False"
      ]
     },
     "execution_count": 18,
     "metadata": {},
     "output_type": "execute_result"
    }
   ],
   "source": [
    "\"mumbai\" > \"pune\" \n",
    "#lexiographically comparation like in dictionary mumbai comes first than pune so pune is bigger"
   ]
  },
  {
   "cell_type": "code",
   "execution_count": 19,
   "id": "931ce597",
   "metadata": {},
   "outputs": [
    {
     "data": {
      "text/plain": [
       "True"
      ]
     },
     "execution_count": 19,
     "metadata": {},
     "output_type": "execute_result"
    }
   ],
   "source": [
    "\"Goa\" < \"Kolkata\""
   ]
  },
  {
   "cell_type": "code",
   "execution_count": 20,
   "id": "9c87df64",
   "metadata": {},
   "outputs": [
    {
     "data": {
      "text/plain": [
       "False"
      ]
     },
     "execution_count": 20,
     "metadata": {},
     "output_type": "execute_result"
    }
   ],
   "source": [
    "\"kol\" < \"Kol\" #capital letter comes first than small"
   ]
  },
  {
   "cell_type": "code",
   "execution_count": 21,
   "id": "421a6ea6",
   "metadata": {},
   "outputs": [
    {
     "data": {
      "text/plain": [
       "'world'"
      ]
     },
     "execution_count": 21,
     "metadata": {},
     "output_type": "execute_result"
    }
   ],
   "source": [
    "\"hello\" and \"world\""
   ]
  },
  {
   "cell_type": "code",
   "execution_count": 23,
   "id": "4a401903",
   "metadata": {},
   "outputs": [],
   "source": [
    "#in python\n",
    "#  \"\" -> False #empty is false\n",
    "#  \"wedghl\" -> True #non-empty is true"
   ]
  },
  {
   "cell_type": "code",
   "execution_count": 24,
   "id": "76126c8b",
   "metadata": {},
   "outputs": [
    {
     "data": {
      "text/plain": [
       "''"
      ]
     },
     "execution_count": 24,
     "metadata": {},
     "output_type": "execute_result"
    }
   ],
   "source": [
    "\"\" and \"hello\""
   ]
  },
  {
   "cell_type": "code",
   "execution_count": 25,
   "id": "a59ad06e",
   "metadata": {},
   "outputs": [
    {
     "data": {
      "text/plain": [
       "'world'"
      ]
     },
     "execution_count": 25,
     "metadata": {},
     "output_type": "execute_result"
    }
   ],
   "source": [
    "\"\" or \"world\""
   ]
  },
  {
   "cell_type": "code",
   "execution_count": 26,
   "id": "59972a14",
   "metadata": {},
   "outputs": [
    {
     "data": {
      "text/plain": [
       "'hello'"
      ]
     },
     "execution_count": 26,
     "metadata": {},
     "output_type": "execute_result"
    }
   ],
   "source": [
    "\"hello\" or \"world\"  # in or we need 1 so in 1 or 1 it takes the first one that is hello in this case"
   ]
  },
  {
   "cell_type": "code",
   "execution_count": 27,
   "id": "3679218e",
   "metadata": {},
   "outputs": [
    {
     "data": {
      "text/plain": [
       "'world'"
      ]
     },
     "execution_count": 27,
     "metadata": {},
     "output_type": "execute_result"
    }
   ],
   "source": [
    "\"hello\" and \"world\" # in and we need both to be 1 so in 1 and 1 it takes the latter 1 becuse it confirms that both are true so in this case world"
   ]
  },
  {
   "cell_type": "code",
   "execution_count": 28,
   "id": "3013cb8b",
   "metadata": {},
   "outputs": [
    {
     "data": {
      "text/plain": [
       "False"
      ]
     },
     "execution_count": 28,
     "metadata": {},
     "output_type": "execute_result"
    }
   ],
   "source": [
    "not \"hello\" #in this non empty ka ulta empty so true ka false"
   ]
  },
  {
   "cell_type": "code",
   "execution_count": 29,
   "id": "5c61e7aa",
   "metadata": {},
   "outputs": [
    {
     "data": {
      "text/plain": [
       "True"
      ]
     },
     "execution_count": 29,
     "metadata": {},
     "output_type": "execute_result"
    }
   ],
   "source": [
    "not \"\""
   ]
  },
  {
   "cell_type": "code",
   "execution_count": 30,
   "id": "192fb0b7",
   "metadata": {},
   "outputs": [
    {
     "name": "stdout",
     "output_type": "stream",
     "text": [
      "h\n",
      "e\n",
      "l\n",
      "l\n",
      "o\n",
      " \n",
      "w\n",
      "o\n",
      "r\n",
      "l\n",
      "d\n"
     ]
    }
   ],
   "source": [
    "c = \"hello world\"\n",
    "for i in c:\n",
    "    print(i)"
   ]
  },
  {
   "cell_type": "code",
   "execution_count": 31,
   "id": "166220ae",
   "metadata": {},
   "outputs": [
    {
     "name": "stdout",
     "output_type": "stream",
     "text": [
      "e\n",
      "l\n",
      " \n"
     ]
    }
   ],
   "source": [
    "c = \"hello world\"\n",
    "for i in c[1:7:2]:\n",
    "    print(i)"
   ]
  },
  {
   "cell_type": "code",
   "execution_count": 32,
   "id": "3b023438",
   "metadata": {},
   "outputs": [
    {
     "data": {
      "text/plain": [
       "True"
      ]
     },
     "execution_count": 32,
     "metadata": {},
     "output_type": "execute_result"
    }
   ],
   "source": [
    "\"h\"in c"
   ]
  },
  {
   "cell_type": "code",
   "execution_count": 33,
   "id": "89fff5c9",
   "metadata": {},
   "outputs": [
    {
     "data": {
      "text/plain": [
       "False"
      ]
     },
     "execution_count": 33,
     "metadata": {},
     "output_type": "execute_result"
    }
   ],
   "source": [
    "\"H\" in c"
   ]
  },
  {
   "cell_type": "code",
   "execution_count": 34,
   "id": "eea07cb1",
   "metadata": {},
   "outputs": [
    {
     "data": {
      "text/plain": [
       "False"
      ]
     },
     "execution_count": 34,
     "metadata": {},
     "output_type": "execute_result"
    }
   ],
   "source": [
    "\"world\" not in c"
   ]
  },
  {
   "cell_type": "code",
   "execution_count": 45,
   "id": "8f725a17",
   "metadata": {},
   "outputs": [
    {
     "data": {
      "text/plain": [
       "True"
      ]
     },
     "execution_count": 45,
     "metadata": {},
     "output_type": "execute_result"
    }
   ],
   "source": [
    "c = \"hello-world\"\n",
    "\"hello\" in c"
   ]
  },
  {
   "cell_type": "code",
   "execution_count": 44,
   "id": "cdd542c6",
   "metadata": {},
   "outputs": [],
   "source": [
    "#common funtion"
   ]
  },
  {
   "cell_type": "code",
   "execution_count": 49,
   "id": "fd73259e",
   "metadata": {},
   "outputs": [
    {
     "data": {
      "text/plain": [
       "7"
      ]
     },
     "execution_count": 49,
     "metadata": {},
     "output_type": "execute_result"
    }
   ],
   "source": [
    "c = \"kolkata\"\n",
    "len(c)"
   ]
  },
  {
   "cell_type": "code",
   "execution_count": 50,
   "id": "bd6d8223",
   "metadata": {},
   "outputs": [
    {
     "data": {
      "text/plain": [
       "'t'"
      ]
     },
     "execution_count": 50,
     "metadata": {},
     "output_type": "execute_result"
    }
   ],
   "source": [
    "max(c)"
   ]
  },
  {
   "cell_type": "code",
   "execution_count": 51,
   "id": "d0b8de1b",
   "metadata": {},
   "outputs": [
    {
     "data": {
      "text/plain": [
       "'a'"
      ]
     },
     "execution_count": 51,
     "metadata": {},
     "output_type": "execute_result"
    }
   ],
   "source": [
    "min(c)"
   ]
  },
  {
   "cell_type": "code",
   "execution_count": 52,
   "id": "86f0532e",
   "metadata": {},
   "outputs": [
    {
     "data": {
      "text/plain": [
       "['t', 'o', 'l', 'k', 'k', 'a', 'a']"
      ]
     },
     "execution_count": 52,
     "metadata": {},
     "output_type": "execute_result"
    }
   ],
   "source": [
    "sorted(c,reverse=True)"
   ]
  },
  {
   "cell_type": "code",
   "execution_count": 53,
   "id": "0c84495d",
   "metadata": {},
   "outputs": [
    {
     "data": {
      "text/plain": [
       "'It is raining today'"
      ]
     },
     "execution_count": 53,
     "metadata": {},
     "output_type": "execute_result"
    }
   ],
   "source": [
    "#capitalize/title/upper/lower/swapcase\n",
    "\n",
    "\"it is raining today\".capitalize()"
   ]
  },
  {
   "cell_type": "code",
   "execution_count": 54,
   "id": "0b23188c",
   "metadata": {},
   "outputs": [
    {
     "data": {
      "text/plain": [
       "'It Is Raining Today'"
      ]
     },
     "execution_count": 54,
     "metadata": {},
     "output_type": "execute_result"
    }
   ],
   "source": [
    "\"it is raining today\".title()"
   ]
  },
  {
   "cell_type": "code",
   "execution_count": 55,
   "id": "850a3843",
   "metadata": {},
   "outputs": [
    {
     "data": {
      "text/plain": [
       "'kolkata'"
      ]
     },
     "execution_count": 55,
     "metadata": {},
     "output_type": "execute_result"
    }
   ],
   "source": [
    "c.upper().lower()"
   ]
  },
  {
   "cell_type": "code",
   "execution_count": 56,
   "id": "2bcf622a",
   "metadata": {},
   "outputs": [
    {
     "data": {
      "text/plain": [
       "'KOlkata'"
      ]
     },
     "execution_count": 56,
     "metadata": {},
     "output_type": "execute_result"
    }
   ],
   "source": [
    "\"koLKATA\".swapcase()"
   ]
  },
  {
   "cell_type": "code",
   "execution_count": 57,
   "id": "0d3d9adb",
   "metadata": {},
   "outputs": [],
   "source": [
    "#2 count"
   ]
  },
  {
   "cell_type": "code",
   "execution_count": 58,
   "id": "0ae62d62",
   "metadata": {},
   "outputs": [
    {
     "data": {
      "text/plain": [
       "4"
      ]
     },
     "execution_count": 58,
     "metadata": {},
     "output_type": "execute_result"
    }
   ],
   "source": [
    "\"it is raining\".count(\"i\")"
   ]
  },
  {
   "cell_type": "code",
   "execution_count": 59,
   "id": "0c4b8819",
   "metadata": {},
   "outputs": [
    {
     "data": {
      "text/plain": [
       "1"
      ]
     },
     "execution_count": 59,
     "metadata": {},
     "output_type": "execute_result"
    }
   ],
   "source": [
    "\"it is raining\".count(\"ing\")"
   ]
  },
  {
   "cell_type": "code",
   "execution_count": 62,
   "id": "6eff36a8",
   "metadata": {},
   "outputs": [
    {
     "data": {
      "text/plain": [
       "12"
      ]
     },
     "execution_count": 62,
     "metadata": {},
     "output_type": "execute_result"
    }
   ],
   "source": [
    "#3 Find/index\n",
    "\"it is raining\".find(\"g\") #tells the posiition"
   ]
  },
  {
   "cell_type": "code",
   "execution_count": 65,
   "id": "3a895157",
   "metadata": {},
   "outputs": [
    {
     "data": {
      "text/plain": [
       "-1"
      ]
     },
     "execution_count": 65,
     "metadata": {},
     "output_type": "execute_result"
    }
   ],
   "source": [
    "\"it is raining\".find(\"x\")"
   ]
  },
  {
   "cell_type": "code",
   "execution_count": 64,
   "id": "37386ddc",
   "metadata": {},
   "outputs": [
    {
     "ename": "ValueError",
     "evalue": "substring not found",
     "output_type": "error",
     "traceback": [
      "\u001b[1;31m---------------------------------------------------------------------------\u001b[0m",
      "\u001b[1;31mValueError\u001b[0m                                Traceback (most recent call last)",
      "Cell \u001b[1;32mIn[64], line 1\u001b[0m\n\u001b[1;32m----> 1\u001b[0m \u001b[38;5;124;43m\"\u001b[39;49m\u001b[38;5;124;43mit is raining\u001b[39;49m\u001b[38;5;124;43m\"\u001b[39;49m\u001b[38;5;241;43m.\u001b[39;49m\u001b[43mindex\u001b[49m\u001b[43m(\u001b[49m\u001b[38;5;124;43m\"\u001b[39;49m\u001b[38;5;124;43mx\u001b[39;49m\u001b[38;5;124;43m\"\u001b[39;49m\u001b[43m)\u001b[49m \u001b[38;5;66;03m#it throughs erroe if the letter is not present but find doesnt through error insted shows -1\u001b[39;00m\n",
      "\u001b[1;31mValueError\u001b[0m: substring not found"
     ]
    }
   ],
   "source": [
    "\"it is raining\".index(\"x\") #it throughs erroe if the letter is not present but find doesnt through error insted shows -1"
   ]
  },
  {
   "cell_type": "code",
   "execution_count": 66,
   "id": "e1ffe61f",
   "metadata": {},
   "outputs": [
    {
     "data": {
      "text/plain": [
       "6"
      ]
     },
     "execution_count": 66,
     "metadata": {},
     "output_type": "execute_result"
    }
   ],
   "source": [
    "\"it is raining\".index(\"r\")"
   ]
  },
  {
   "cell_type": "code",
   "execution_count": 67,
   "id": "3f4b53ac",
   "metadata": {},
   "outputs": [],
   "source": [
    "#endswith/startswith"
   ]
  },
  {
   "cell_type": "code",
   "execution_count": 68,
   "id": "c3a279bc",
   "metadata": {},
   "outputs": [
    {
     "data": {
      "text/plain": [
       "False"
      ]
     },
     "execution_count": 68,
     "metadata": {},
     "output_type": "execute_result"
    }
   ],
   "source": [
    "\"it is raining\".endswith(\"ingef\")"
   ]
  },
  {
   "cell_type": "code",
   "execution_count": 69,
   "id": "2670a723",
   "metadata": {},
   "outputs": [
    {
     "data": {
      "text/plain": [
       "True"
      ]
     },
     "execution_count": 69,
     "metadata": {},
     "output_type": "execute_result"
    }
   ],
   "source": [
    " \"it is raining\".startswith(\"it\")"
   ]
  },
  {
   "cell_type": "code",
   "execution_count": 70,
   "id": "3e55dcd0",
   "metadata": {},
   "outputs": [],
   "source": [
    "  #format"
   ]
  },
  {
   "cell_type": "code",
   "execution_count": 71,
   "id": "7728ed7f",
   "metadata": {},
   "outputs": [
    {
     "data": {
      "text/plain": [
       "'Hello my name is Nitish and I am 30'"
      ]
     },
     "execution_count": 71,
     "metadata": {},
     "output_type": "execute_result"
    }
   ],
   "source": [
    "\"Hello my name is {} and I am {}\".format(\"Nitish\",30)\n",
    "#you can use it to fill the detail later like in a login page"
   ]
  },
  {
   "cell_type": "code",
   "execution_count": 72,
   "id": "5ad6ba3c",
   "metadata": {},
   "outputs": [
    {
     "data": {
      "text/plain": [
       "'Hello my name is30 and I am Nitish'"
      ]
     },
     "execution_count": 72,
     "metadata": {},
     "output_type": "execute_result"
    }
   ],
   "source": [
    "\"Hello my name is {1} and I am {0}\".format(\"Nitish\",30)"
   ]
  },
  {
   "cell_type": "code",
   "execution_count": 73,
   "id": "103e40e9",
   "metadata": {},
   "outputs": [
    {
     "data": {
      "text/plain": [
       "'Hello my name is 30 and I am Nitish'"
      ]
     },
     "execution_count": 73,
     "metadata": {},
     "output_type": "execute_result"
    }
   ],
   "source": [
    "\"Hello my name is {age} and I am {name}\".format(name = \"Nitish\",age = 30)"
   ]
  },
  {
   "cell_type": "code",
   "execution_count": 74,
   "id": "e3aea22a",
   "metadata": {},
   "outputs": [
    {
     "data": {
      "text/plain": [
       "'Hello my name is 30 and I am 70'"
      ]
     },
     "execution_count": 74,
     "metadata": {},
     "output_type": "execute_result"
    }
   ],
   "source": [
    "\"Hello my name is {age} and I am {weight}\".format(name = \"Nitish\", age = 30, weight = 70)"
   ]
  },
  {
   "cell_type": "code",
   "execution_count": 75,
   "id": "89bab0ec",
   "metadata": {},
   "outputs": [],
   "source": [
    "#isalnum/ isalphal/ isdecimal/ isdigit/ isidentifier "
   ]
  },
  {
   "cell_type": "code",
   "execution_count": 76,
   "id": "e6b2bd10",
   "metadata": {},
   "outputs": [
    {
     "data": {
      "text/plain": [
       "True"
      ]
     },
     "execution_count": 76,
     "metadata": {},
     "output_type": "execute_result"
    }
   ],
   "source": [
    "\"FLAT20\".isalnum() #check for alphanumeric"
   ]
  },
  {
   "cell_type": "code",
   "execution_count": 80,
   "id": "44f582f7",
   "metadata": {},
   "outputs": [
    {
     "data": {
      "text/plain": [
       "False"
      ]
     },
     "execution_count": 80,
     "metadata": {},
     "output_type": "execute_result"
    }
   ],
   "source": [
    "\"flat20&\".isalnum()"
   ]
  },
  {
   "cell_type": "code",
   "execution_count": 81,
   "id": "96a3ffcb",
   "metadata": {},
   "outputs": [
    {
     "data": {
      "text/plain": [
       "True"
      ]
     },
     "execution_count": 81,
     "metadata": {},
     "output_type": "execute_result"
    }
   ],
   "source": [
    "\"FLAT\".isalpha() #check for alphabat only\n"
   ]
  },
  {
   "cell_type": "code",
   "execution_count": 83,
   "id": "cb9d7f7f",
   "metadata": {},
   "outputs": [
    {
     "data": {
      "text/plain": [
       "False"
      ]
     },
     "execution_count": 83,
     "metadata": {},
     "output_type": "execute_result"
    }
   ],
   "source": [
    "\"FLAT20\".isalpha()"
   ]
  },
  {
   "cell_type": "code",
   "execution_count": 84,
   "id": "44454fea",
   "metadata": {},
   "outputs": [
    {
     "data": {
      "text/plain": [
       "False"
      ]
     },
     "execution_count": 84,
     "metadata": {},
     "output_type": "execute_result"
    }
   ],
   "source": [
    "\"30A\".isdigit()"
   ]
  },
  {
   "cell_type": "code",
   "execution_count": 85,
   "id": "1a13e1f7",
   "metadata": {},
   "outputs": [
    {
     "data": {
      "text/plain": [
       "True"
      ]
     },
     "execution_count": 85,
     "metadata": {},
     "output_type": "execute_result"
    }
   ],
   "source": [
    "\"hello_world\".isidentifier()"
   ]
  },
  {
   "cell_type": "code",
   "execution_count": 88,
   "id": "668c787e",
   "metadata": {},
   "outputs": [
    {
     "data": {
      "text/plain": [
       "False"
      ]
     },
     "execution_count": 88,
     "metadata": {},
     "output_type": "execute_result"
    }
   ],
   "source": [
    "\"hello world\".isidentifier()"
   ]
  },
  {
   "cell_type": "code",
   "execution_count": 89,
   "id": "8714292b",
   "metadata": {},
   "outputs": [],
   "source": [
    "#split"
   ]
  },
  {
   "cell_type": "code",
   "execution_count": 90,
   "id": "13c450b6",
   "metadata": {},
   "outputs": [
    {
     "data": {
      "text/plain": [
       "['who', 'is', 'the', 'pm', 'of', 'India']"
      ]
     },
     "execution_count": 90,
     "metadata": {},
     "output_type": "execute_result"
    }
   ],
   "source": [
    "\"who is the pm of India\".split() #breaks all the words and converts it into word list"
   ]
  },
  {
   "cell_type": "code",
   "execution_count": 91,
   "id": "57b6c786",
   "metadata": {},
   "outputs": [
    {
     "data": {
      "text/plain": [
       "['who ', 's the pm of ', 'nd', 'a']"
      ]
     },
     "execution_count": 91,
     "metadata": {},
     "output_type": "execute_result"
    }
   ],
   "source": [
    "\"who is the pm of india\".split(\"i\")"
   ]
  },
  {
   "cell_type": "code",
   "execution_count": 92,
   "id": "c58c4564",
   "metadata": {},
   "outputs": [],
   "source": [
    "#Join"
   ]
  },
  {
   "cell_type": "code",
   "execution_count": 93,
   "id": "498e46f5",
   "metadata": {},
   "outputs": [
    {
     "data": {
      "text/plain": [
       "'who is the pm of india'"
      ]
     },
     "execution_count": 93,
     "metadata": {},
     "output_type": "execute_result"
    }
   ],
   "source": [
    "\" \".join(['who', 'is', 'the', 'pm', 'of', 'india'])"
   ]
  },
  {
   "cell_type": "code",
   "execution_count": 94,
   "id": "44c24af4",
   "metadata": {},
   "outputs": [
    {
     "data": {
      "text/plain": [
       "'who/is/the/pm/of/india'"
      ]
     },
     "execution_count": 94,
     "metadata": {},
     "output_type": "execute_result"
    }
   ],
   "source": [
    "\"/\".join(['who', 'is', 'the', 'pm', 'of', 'india'])"
   ]
  },
  {
   "cell_type": "code",
   "execution_count": 95,
   "id": "1dfced8b",
   "metadata": {},
   "outputs": [
    {
     "data": {
      "text/plain": [
       "'Hi my name is Amit'"
      ]
     },
     "execution_count": 95,
     "metadata": {},
     "output_type": "execute_result"
    }
   ],
   "source": [
    "\"Hi my name is Nitish\".replace(\"Nitish\",\"Amit\")"
   ]
  },
  {
   "cell_type": "code",
   "execution_count": 96,
   "id": "496da32f",
   "metadata": {},
   "outputs": [
    {
     "data": {
      "text/plain": [
       "'nitish'"
      ]
     },
     "execution_count": 96,
     "metadata": {},
     "output_type": "execute_result"
    }
   ],
   "source": [
    "#strip\n",
    "name = \"            nitish          \"\n",
    "name.strip()"
   ]
  },
  {
   "cell_type": "code",
   "execution_count": 1,
   "id": "7462ced7",
   "metadata": {},
   "outputs": [],
   "source": [
    "#List\n",
    "#1. what is a list\n",
    "#2. list v Array\n",
    "#3. creat\n",
    "#4. Access\n",
    "#5. Add\n",
    "#6. Delete\n",
    "#7. operations\n",
    "#8. Functions"
   ]
  },
  {
   "cell_type": "code",
   "execution_count": 2,
   "id": "39da967f",
   "metadata": {},
   "outputs": [],
   "source": [
    "#1. Array homogenous , list hetrogenous(different data type)\n",
    "#2. Array - continues memory allocation\n",
    "#3. Arrays are much faster\n",
    "#4. list are more programer friendly\n"
   ]
  },
  {
   "cell_type": "code",
   "execution_count": 6,
   "id": "37570a46",
   "metadata": {},
   "outputs": [
    {
     "data": {
      "text/plain": [
       "[1, 2, 3, 4.5]"
      ]
     },
     "execution_count": 6,
     "metadata": {},
     "output_type": "execute_result"
    }
   ],
   "source": [
    "L = [1,2,3,4.5]\n",
    "L"
   ]
  },
  {
   "cell_type": "code",
   "execution_count": 8,
   "id": "5ceffc9c",
   "metadata": {},
   "outputs": [
    {
     "data": {
      "text/plain": [
       "['hello', 4, 5.5, True, 11]"
      ]
     },
     "execution_count": 8,
     "metadata": {},
     "output_type": "execute_result"
    }
   ],
   "source": [
    "L2 = [\"hello\",4,5.5,True,5+6]\n",
    "L2"
   ]
  },
  {
   "cell_type": "code",
   "execution_count": 10,
   "id": "d328ae5e",
   "metadata": {},
   "outputs": [
    {
     "data": {
      "text/plain": [
       "[1, 2, 3, [4, 5]]"
      ]
     },
     "execution_count": 10,
     "metadata": {},
     "output_type": "execute_result"
    }
   ],
   "source": [
    "#multi-dim lists\n",
    "\n",
    "#2D\n",
    "L3 = [1,2,3,[4,5]]\n",
    "L3"
   ]
  },
  {
   "cell_type": "code",
   "execution_count": 11,
   "id": "d45d1905",
   "metadata": {},
   "outputs": [
    {
     "data": {
      "text/plain": [
       "[[[1, 2], [3, 4]], [[5, 6], [7, 8]]]"
      ]
     },
     "execution_count": 11,
     "metadata": {},
     "output_type": "execute_result"
    }
   ],
   "source": [
    " #3D\n",
    "L4 = [[[1,2],[3,4]],[[5,6],[7,8]]]\n",
    "L4"
   ]
  },
  {
   "cell_type": "code",
   "execution_count": 14,
   "id": "c0f9b987",
   "metadata": {},
   "outputs": [
    {
     "data": {
      "text/plain": [
       "['H', 'a', 'l', 'd', 'a']"
      ]
     },
     "execution_count": 14,
     "metadata": {},
     "output_type": "execute_result"
    }
   ],
   "source": [
    "L5 = list(\"Halda\")\n",
    "L5"
   ]
  },
  {
   "cell_type": "code",
   "execution_count": 15,
   "id": "b8e8e896",
   "metadata": {},
   "outputs": [
    {
     "data": {
      "text/plain": [
       "()"
      ]
     },
     "execution_count": 15,
     "metadata": {},
     "output_type": "execute_result"
    }
   ],
   "source": [
    "#create\n",
    "T1 = ()\n",
    "T1"
   ]
  },
  {
   "cell_type": "code",
   "execution_count": 16,
   "id": "d289fab4",
   "metadata": {},
   "outputs": [
    {
     "data": {
      "text/plain": [
       "(1, 2, 3, 4, 5)"
      ]
     },
     "execution_count": 16,
     "metadata": {},
     "output_type": "execute_result"
    }
   ],
   "source": [
    "T2 = (1,2,3,4,5)\n",
    "T2"
   ]
  },
  {
   "cell_type": "code",
   "execution_count": 17,
   "id": "8592b01e",
   "metadata": {},
   "outputs": [
    {
     "data": {
      "text/plain": [
       "('Hello', 4, 5, 6)"
      ]
     },
     "execution_count": 17,
     "metadata": {},
     "output_type": "execute_result"
    }
   ],
   "source": [
    "T3 = (\"Hello\",4,5,6)\n",
    "T3"
   ]
  },
  {
   "cell_type": "code",
   "execution_count": 18,
   "id": "127a23c7",
   "metadata": {},
   "outputs": [
    {
     "data": {
      "text/plain": [
       "(1, 2, 3, (4, 5))"
      ]
     },
     "execution_count": 18,
     "metadata": {},
     "output_type": "execute_result"
    }
   ],
   "source": [
    "T4 = (1,2,3,(4,5))\n",
    "T4"
   ]
  },
  {
   "cell_type": "code",
   "execution_count": 19,
   "id": "05880690",
   "metadata": {},
   "outputs": [
    {
     "data": {
      "text/plain": [
       "1"
      ]
     },
     "execution_count": 19,
     "metadata": {},
     "output_type": "execute_result"
    }
   ],
   "source": [
    "T5 = (1)\n",
    "T5"
   ]
  },
  {
   "cell_type": "code",
   "execution_count": 20,
   "id": "cbffe377",
   "metadata": {},
   "outputs": [
    {
     "data": {
      "text/plain": [
       "int"
      ]
     },
     "execution_count": 20,
     "metadata": {},
     "output_type": "execute_result"
    }
   ],
   "source": [
    "type(T5)"
   ]
  },
  {
   "cell_type": "code",
   "execution_count": null,
   "id": "dcfd0327",
   "metadata": {},
   "outputs": [],
   "source": [
    "T"
   ]
  }
 ],
 "metadata": {
  "kernelspec": {
   "display_name": "Python 3 (ipykernel)",
   "language": "python",
   "name": "python3"
  },
  "language_info": {
   "codemirror_mode": {
    "name": "ipython",
    "version": 3
   },
   "file_extension": ".py",
   "mimetype": "text/x-python",
   "name": "python",
   "nbconvert_exporter": "python",
   "pygments_lexer": "ipython3",
   "version": "3.11.4"
  }
 },
 "nbformat": 4,
 "nbformat_minor": 5
}
