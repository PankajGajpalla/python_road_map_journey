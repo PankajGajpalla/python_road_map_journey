{
 "cells": [
  {
   "cell_type": "code",
   "execution_count": 1,
   "id": "e39901b3-510d-4c29-b81b-bc0ce3a3c23c",
   "metadata": {},
   "outputs": [
    {
     "name": "stdout",
     "output_type": "stream",
     "text": [
      "Hello, World\n"
     ]
    }
   ],
   "source": [
    "print(\"Hello, World\")"
   ]
  },
  {
   "cell_type": "code",
   "execution_count": 2,
   "id": "a01b4d40-842c-4f7e-b960-15066e1c768a",
   "metadata": {},
   "outputs": [
    {
     "name": "stdout",
     "output_type": "stream",
     "text": [
      "4\n"
     ]
    }
   ],
   "source": [
    "print(2+2)"
   ]
  },
  {
   "cell_type": "code",
   "execution_count": 3,
   "id": "17d9a549-7074-47ae-85a8-647422ef6254",
   "metadata": {},
   "outputs": [
    {
     "name": "stdout",
     "output_type": "stream",
     "text": [
      "1\n"
     ]
    }
   ],
   "source": [
    "import numpy as np\n",
    "arr = np.array([1,2,3,4])\n",
    "print(arr.ndim)"
   ]
  },
  {
   "cell_type": "code",
   "execution_count": null,
   "id": "a5efe171-8949-4192-b589-3694e56320a5",
   "metadata": {},
   "outputs": [
    {
     "data": {
      "text/plain": [
       "[1.2 3.4 5.6 7.8 9.9]\n"
      ]
     },
     "metadata": {},
     "output_type": "display_data"
    }
   ],
   "source": [
    "import numpy as np\n",
    "arr = np.array([1.2, 3.4, 5.6, 7.8, 9.9])\n",
    "new = arr.astype(int)\n",
    "print(arr)"
   ]
  },
  {
   "cell_type": "code",
   "execution_count": null,
   "id": "555b43a5",
   "metadata": {},
   "outputs": [
    {
     "data": {
      "text/plain": [
       "[1.2 3.4 5.6 7.8 9.9]\n"
      ]
     },
     "metadata": {},
     "output_type": "display_data"
    }
   ],
   "source": [
    "print(arr)\n",
    "\n"
   ]
  },
  {
   "cell_type": "code",
   "execution_count": null,
   "id": "28bb4b3c",
   "metadata": {},
   "outputs": [
    {
     "data": {
      "text/plain": [
       "[1 3 5 7 9]\n"
      ]
     },
     "metadata": {},
     "output_type": "display_data"
    }
   ],
   "source": [
    "print(new)"
   ]
  },
  {
   "cell_type": "code",
   "execution_count": null,
   "id": "fec1615d",
   "metadata": {},
   "outputs": [
    {
     "data": {
      "text/plain": [
       "float64\n"
      ]
     },
     "metadata": {},
     "output_type": "display_data"
    }
   ],
   "source": [
    "print(arr.dtype)\n"
   ]
  },
  {
   "cell_type": "code",
   "execution_count": null,
   "id": "7fbddfa2",
   "metadata": {},
   "outputs": [
    {
     "data": {
      "text/plain": [
       "int32\n"
      ]
     },
     "metadata": {},
     "output_type": "display_data"
    }
   ],
   "source": [
    "print(new.dtype)"
   ]
  },
  {
   "cell_type": "code",
   "execution_count": null,
   "id": "4952887a",
   "metadata": {},
   "outputs": [],
   "source": [
    "import numpy as np\n",
    "arr = np.array([1,2,3,4,5])"
   ]
  },
  {
   "cell_type": "code",
   "execution_count": null,
   "id": "89a99d58",
   "metadata": {},
   "outputs": [
    {
     "data": {
      "text/plain": [
       "[1 2 3 4 5]\n"
      ]
     },
     "metadata": {},
     "output_type": "display_data"
    }
   ],
   "source": [
    "x = arr.view()\n",
    "print(arr)"
   ]
  },
  {
   "cell_type": "code",
   "execution_count": null,
   "id": "0a2dbcae",
   "metadata": {},
   "outputs": [
    {
     "data": {
      "text/plain": [
       "[1 2 3 4 5]\n"
      ]
     },
     "metadata": {},
     "output_type": "display_data"
    }
   ],
   "source": [
    "print(x)"
   ]
  },
  {
   "cell_type": "code",
   "execution_count": null,
   "id": "46dd3a22",
   "metadata": {},
   "outputs": [
    {
     "data": {
      "text/plain": [
       "[34  2  3  4  5]\n"
      ]
     },
     "metadata": {},
     "output_type": "display_data"
    }
   ],
   "source": [
    "#now lets make changes to original arrray\n",
    "arr[0] = 34\n",
    "print(arr)"
   ]
  },
  {
   "cell_type": "code",
   "execution_count": null,
   "id": "027dfef5",
   "metadata": {},
   "outputs": [
    {
     "data": {
      "text/plain": [
       "[34  2  3  4  5]\n"
      ]
     },
     "metadata": {},
     "output_type": "display_data"
    }
   ],
   "source": [
    "print(x)\n",
    "# so we can see that how x is affected by changes in orignal array"
   ]
  },
  {
   "cell_type": "code",
   "execution_count": null,
   "id": "51bc6d30",
   "metadata": {},
   "outputs": [
    {
     "data": {
      "text/plain": [
       "[ 34   2 234   4   5]\n",
       "[ 34   2 234   4   5]\n",
       "[34  2  3  4  5]\n"
      ]
     },
     "metadata": {},
     "output_type": "display_data"
    }
   ],
   "source": [
    "#lets see copy\n",
    "y = arr.copy()\n",
    "arr[2] = 234\n",
    "print(arr)\n",
    "print(x)\n",
    "print(y) #no changes in copy"
   ]
  },
  {
   "cell_type": "code",
   "execution_count": null,
   "id": "12777bc0",
   "metadata": {},
   "outputs": [
    {
     "data": {
      "text/plain": [
       "[1 2 3 4 5 6]\n",
       "None\n"
      ]
     },
     "metadata": {},
     "output_type": "display_data"
    }
   ],
   "source": [
    "arr = np.array([1,2,3,4,5,6])\n",
    "x = arr.view()\n",
    "y = arr.copy()\n",
    "\n",
    "print(x.base)\n",
    "print(y.base)"
   ]
  },
  {
   "cell_type": "code",
   "execution_count": null,
   "id": "4e793163",
   "metadata": {},
   "outputs": [
    {
     "data": {
      "text/plain": [
       "()\n"
      ]
     },
     "metadata": {},
     "output_type": "display_data"
    }
   ],
   "source": [
    "arr0 = np.array(12)\n",
    "print(arr0.shape)"
   ]
  },
  {
   "cell_type": "code",
   "execution_count": null,
   "id": "210b78dc",
   "metadata": {},
   "outputs": [
    {
     "data": {
      "text/plain": [
       "(7,)\n"
      ]
     },
     "metadata": {},
     "output_type": "display_data"
    }
   ],
   "source": [
    "arr1 = np.array([1,2,3,4,5,6,7])\n",
    "print(arr1.shape)"
   ]
  },
  {
   "cell_type": "code",
   "execution_count": null,
   "id": "5bd8ac44",
   "metadata": {},
   "outputs": [
    {
     "data": {
      "text/plain": [
       "[[1 2 3 4]\n",
       " [5 6 7 8]]\n",
       "(2, 4)\n"
      ]
     },
     "metadata": {},
     "output_type": "display_data"
    }
   ],
   "source": [
    "arr2 = np.array([[1,2,3,4],[5,6,7,8]])\n",
    "print(arr2)\n",
    "print(arr2.shape)"
   ]
  },
  {
   "cell_type": "code",
   "execution_count": null,
   "id": "119cfa3e",
   "metadata": {},
   "outputs": [
    {
     "data": {
      "text/plain": [
       "[[[1 2 3]\n",
       "  [4 5 6]]\n",
       "\n",
       " [[2 4 5]\n",
       "  [6 8 9]]]\n",
       "(2, 2, 3)\n"
      ]
     },
     "metadata": {},
     "output_type": "display_data"
    }
   ],
   "source": [
    "arr3 = np.array([[[1,2,3],[4,5,6]],[[2,4,5],[6,8,9]]])\n",
    "print(arr3)\n",
    "print(arr3.shape)"
   ]
  },
  {
   "cell_type": "code",
   "execution_count": null,
   "id": "980a2566",
   "metadata": {},
   "outputs": [
    {
     "data": {
      "text/plain": [
       "[1 2 3 4 5 6 7 8 9]\n"
      ]
     },
     "metadata": {},
     "output_type": "display_data"
    }
   ],
   "source": [
    "# reshape\n",
    "arr = np.array([1,2,3,4,5,6,7,8,9])\n",
    "#covert the 1d array with 12 element into a 2d array\n",
    "\n",
    "newarr = arr.reshape(3,3)\n",
    "print(arr)"
   ]
  },
  {
   "cell_type": "code",
   "execution_count": null,
   "id": "99878275",
   "metadata": {},
   "outputs": [
    {
     "data": {
      "text/plain": [
       "[[1 2 3]\n",
       " [4 5 6]\n",
       " [7 8 9]]\n"
      ]
     },
     "metadata": {},
     "output_type": "display_data"
    }
   ],
   "source": [
    "print(newarr)"
   ]
  },
  {
   "cell_type": "code",
   "execution_count": null,
   "id": "61eed8a2",
   "metadata": {},
   "outputs": [
    {
     "data": {
      "text/plain": [
       "[[1]\n",
       " [2]\n",
       " [3]\n",
       " [4]\n",
       " [5]\n",
       " [6]\n",
       " [7]\n",
       " [8]\n",
       " [9]]\n"
      ]
     },
     "metadata": {},
     "output_type": "display_data"
    }
   ],
   "source": [
    "newarr = arr.reshape(9,1)\n",
    "print(newarr)"
   ]
  },
  {
   "cell_type": "code",
   "execution_count": null,
   "id": "b39860ab",
   "metadata": {},
   "outputs": [
    {
     "data": {
      "text/plain": [
       "[[[1 2]\n",
       "  [3 4]\n",
       "  [5 6]]\n",
       "\n",
       " [[7 8]\n",
       "  [9 1]\n",
       "  [2 3]]]\n"
      ]
     },
     "metadata": {},
     "output_type": "display_data"
    }
   ],
   "source": [
    "# reshape  from 1d to 3d\n",
    "arr = np.array([1,2,3,4,5,6,7,8,9,1,2,3])\n",
    "newarr = arr.reshape(2,3,2)\n",
    "print(newarr)"
   ]
  },
  {
   "cell_type": "code",
   "execution_count": null,
   "id": "18693f4c",
   "metadata": {},
   "outputs": [
    {
     "data": {
      "text/plain": [
       "[[1 2]\n",
       " [3 4]\n",
       " [5 6]\n",
       " [7 8]]\n"
      ]
     },
     "metadata": {},
     "output_type": "display_data"
    }
   ],
   "source": [
    "# note: product of parameters = no. of elements in the array\n",
    "# we can't reshape into any shape\n",
    "\n",
    "# example\n",
    "arr = np.array([1,2,3,4,5,6,7,8]) #8 elements\n",
    "\n",
    "arrnew = arr.reshape(4,2)\n",
    "print(arrnew)"
   ]
  },
  {
   "cell_type": "code",
   "execution_count": null,
   "id": "5b45a6d2",
   "metadata": {},
   "outputs": [
    {
     "data": {
      "text/plain": [
       "[[1 2 3 4]\n",
       " [5 6 7 8]]\n"
      ]
     },
     "metadata": {},
     "output_type": "display_data"
    }
   ],
   "source": [
    "arrnew = arr.reshape(2,4)\n",
    "print(arrnew)"
   ]
  },
  {
   "cell_type": "code",
   "execution_count": null,
   "id": "a970976a",
   "metadata": {},
   "outputs": [
    {
     "data": {
      "text/plain": [
       "Traceback (most recent call last):\n",
       "  File \"c:\\Users\\hp.1\\.vscode\\extensions\\ms-python.python-2024.18.0-win32-x64\\python_files\\python_server.py\", line 130, in exec_user_input\n",
       "    retval = callable_(user_input, user_globals)\n",
       "             ^^^^^^^^^^^^^^^^^^^^^^^^^^^^^^^^^^^\n",
       "  File \"<string>\", line 1, in <module>\n",
       "ValueError: cannot reshape array of size 8 into shape (4,3)\n",
       "\n"
      ]
     },
     "metadata": {},
     "output_type": "display_data"
    }
   ],
   "source": [
    "# arrnew = arr.reshape(4,3)\n",
    "# print(arrnew) not possible"
   ]
  },
  {
   "cell_type": "code",
   "execution_count": null,
   "id": "ada8d697",
   "metadata": {},
   "outputs": [
    {
     "data": {
      "text/plain": [
       "Traceback (most recent call last):\n",
       "  File \"c:\\Users\\hp.1\\.vscode\\extensions\\ms-python.python-2024.18.0-win32-x64\\python_files\\python_server.py\", line 130, in exec_user_input\n",
       "    retval = callable_(user_input, user_globals)\n",
       "             ^^^^^^^^^^^^^^^^^^^^^^^^^^^^^^^^^^^\n",
       "  File \"<string>\", line 1\n",
       "    print(arr)\n",
       "IndentationError: unexpected indent\n",
       "\n"
      ]
     },
     "metadata": {},
     "output_type": "display_data"
    }
   ],
   "source": [
    " print(arr)"
   ]
  },
  {
   "cell_type": "code",
   "execution_count": null,
   "id": "cb92d145",
   "metadata": {},
   "outputs": [
    {
     "data": {
      "text/plain": [
       "[1 2 3 4 5 6 7 8]\n"
      ]
     },
     "metadata": {},
     "output_type": "display_data"
    }
   ],
   "source": [
    "print(arr)"
   ]
  },
  {
   "cell_type": "code",
   "execution_count": null,
   "id": "50f3b606",
   "metadata": {},
   "outputs": [
    {
     "data": {
      "text/plain": [
       "[[[1 2]\n",
       "  [3 4]]\n",
       "\n",
       " [[5 6]\n",
       "  [7 8]]]\n"
      ]
     },
     "metadata": {},
     "output_type": "display_data"
    }
   ],
   "source": [
    "newarr = arr.reshape(2,2,2)\n",
    "print(newarr)"
   ]
  },
  {
   "cell_type": "code",
   "execution_count": null,
   "id": "554c77b1",
   "metadata": {},
   "outputs": [
    {
     "data": {
      "text/plain": [
       "Traceback (most recent call last):\n",
       "  File \"c:\\Users\\hp.1\\.vscode\\extensions\\ms-python.python-2024.18.0-win32-x64\\python_files\\python_server.py\", line 130, in exec_user_input\n",
       "    retval = callable_(user_input, user_globals)\n",
       "             ^^^^^^^^^^^^^^^^^^^^^^^^^^^^^^^^^^^\n",
       "  File \"<string>\", line 1, in <module>\n",
       "ValueError: cannot reshape array of size 8 into shape (2,2,1)\n",
       "\n"
      ]
     },
     "metadata": {},
     "output_type": "display_data"
    }
   ],
   "source": [
    "newarr = arr.reshape(2,2,1)\n",
    "print(newarr)"
   ]
  },
  {
   "cell_type": "code",
   "execution_count": null,
   "id": "8907d135",
   "metadata": {},
   "outputs": [
    {
     "data": {
      "text/plain": [
       "[[1 2]\n",
       " [3 4]\n",
       " [5 6]\n",
       " [7 8]]\n"
      ]
     },
     "metadata": {},
     "output_type": "display_data"
    }
   ],
   "source": [
    "newarr = arr.reshape(4,2)\n",
    "print(newarr)"
   ]
  },
  {
   "cell_type": "code",
   "execution_count": null,
   "id": "1c30419d",
   "metadata": {},
   "outputs": [
    {
     "data": {
      "text/plain": [
       "[[[1 2]\n",
       "  [3 4]]\n",
       "\n",
       " [[5 6]\n",
       "  [7 8]]]\n"
      ]
     },
     "metadata": {},
     "output_type": "display_data"
    }
   ],
   "source": [
    "newarr = arr.reshape(2,2,-1)\n",
    "print(newarr)"
   ]
  },
  {
   "cell_type": "code",
   "execution_count": null,
   "id": "c1aa8c2c",
   "metadata": {},
   "outputs": [
    {
     "data": {
      "text/plain": [
       "(2, 2, 2)\n"
      ]
     },
     "metadata": {},
     "output_type": "display_data"
    }
   ],
   "source": [
    "print(newarr.shape)"
   ]
  },
  {
   "cell_type": "code",
   "execution_count": null,
   "id": "c9b8fbe9",
   "metadata": {},
   "outputs": [
    {
     "data": {
      "text/plain": [
       "[[[1 2]\n",
       "  [3 4]]\n",
       "\n",
       " [[5 6]\n",
       "  [7 8]]]\n"
      ]
     },
     "metadata": {},
     "output_type": "display_data"
    }
   ],
   "source": [
    "print(newarr)"
   ]
  },
  {
   "cell_type": "code",
   "execution_count": null,
   "id": "82f17e42",
   "metadata": {},
   "outputs": [
    {
     "data": {
      "text/plain": [
       "[1 2 3 4 5 6 7 8]\n"
      ]
     },
     "metadata": {},
     "output_type": "display_data"
    }
   ],
   "source": [
    "print(newarr.reshape(-1))"
   ]
  },
  {
   "cell_type": "code",
   "execution_count": null,
   "id": "6f77b230",
   "metadata": {},
   "outputs": [
    {
     "data": {
      "text/plain": [
       "[[[1 2]\n",
       "  [3 4]]\n",
       "\n",
       " [[5 6]\n",
       "  [7 8]]]\n"
      ]
     },
     "metadata": {},
     "output_type": "display_data"
    }
   ],
   "source": [
    "print(newarr)\n"
   ]
  },
  {
   "cell_type": "code",
   "execution_count": null,
   "id": "c7747f7a",
   "metadata": {},
   "outputs": [],
   "source": [
    "arr = np.array([1,2,3,4,5,6,7,8])"
   ]
  },
  {
   "cell_type": "code",
   "execution_count": null,
   "id": "05b69546",
   "metadata": {},
   "outputs": [
    {
     "data": {
      "text/plain": [
       "[1 2 3 4 5 6 7 8]\n"
      ]
     },
     "metadata": {},
     "output_type": "display_data"
    }
   ],
   "source": [
    "print(arr)"
   ]
  },
  {
   "cell_type": "code",
   "execution_count": null,
   "id": "99aa2088",
   "metadata": {},
   "outputs": [
    {
     "data": {
      "text/plain": [
       "[[1 2 3 4]\n",
       " [5 6 7 8]]\n"
      ]
     },
     "metadata": {},
     "output_type": "display_data"
    }
   ],
   "source": [
    "newarr = arr.reshape(2,4)\n",
    "print(newarr)"
   ]
  },
  {
   "cell_type": "code",
   "execution_count": null,
   "id": "49027f8b",
   "metadata": {},
   "outputs": [
    {
     "data": {
      "text/plain": [
       "[[1 5]\n",
       " [2 6]\n",
       " [3 7]\n",
       " [4 8]]\n"
      ]
     },
     "metadata": {},
     "output_type": "display_data"
    }
   ],
   "source": [
    "#transpose of array\n",
    "np.transpose(newarr)"
   ]
  },
  {
   "cell_type": "code",
   "execution_count": null,
   "id": "f118a890",
   "metadata": {},
   "outputs": [
    {
     "data": {
      "text/plain": [
       "[[1 2 3 4]\n",
       " [5 6 7 8]]\n"
      ]
     },
     "metadata": {},
     "output_type": "display_data"
    }
   ],
   "source": [
    "print(newarr)"
   ]
  },
  {
   "cell_type": "code",
   "execution_count": null,
   "id": "f226ca4d",
   "metadata": {},
   "outputs": [
    {
     "data": {
      "text/plain": [
       "[1 2 3 4 5 6 7 8]\n"
      ]
     },
     "metadata": {},
     "output_type": "display_data"
    }
   ],
   "source": [
    "print(newarr.reshape(-1))"
   ]
  },
  {
   "cell_type": "code",
   "execution_count": null,
   "id": "6a61456f",
   "metadata": {},
   "outputs": [
    {
     "data": {
      "text/plain": [
       "[[1 2 3 4]\n",
       " [5 6 7 8]]\n"
      ]
     },
     "metadata": {},
     "output_type": "display_data"
    }
   ],
   "source": [
    "print(newarr)"
   ]
  },
  {
   "cell_type": "code",
   "execution_count": null,
   "id": "6eaef1fa",
   "metadata": {},
   "outputs": [
    {
     "data": {
      "text/plain": [
       "[1 5 2 6 3 7 4 8]\n"
      ]
     },
     "metadata": {},
     "output_type": "display_data"
    }
   ],
   "source": [
    "print((np.transpose(newarr)).reshape(-1))"
   ]
  },
  {
   "cell_type": "code",
   "execution_count": null,
   "id": "a506becf",
   "metadata": {},
   "outputs": [
    {
     "data": {
      "text/plain": [
       "[[1 2 3 4]\n",
       " [5 6 7 8]]\n"
      ]
     },
     "metadata": {},
     "output_type": "display_data"
    }
   ],
   "source": [
    "print(newarr)\n"
   ]
  },
  {
   "cell_type": "code",
   "execution_count": null,
   "id": "7bf04077",
   "metadata": {},
   "outputs": [
    {
     "data": {
      "text/plain": [
       "after using the flat function: \n",
       "6\n"
      ]
     },
     "metadata": {},
     "output_type": "display_data"
    }
   ],
   "source": [
    "print('after using the flat function: '); print(newarr.flat[5])\n"
   ]
  },
  {
   "cell_type": "code",
   "execution_count": null,
   "id": "e03cb20e",
   "metadata": {},
   "outputs": [],
   "source": [
    "# so you can see above that after the array is flat at index 5 the value is 6"
   ]
  },
  {
   "cell_type": "code",
   "execution_count": null,
   "id": "1a11a0e8",
   "metadata": {},
   "outputs": [
    {
     "data": {
      "text/plain": [
       "[1 2 3 4 5 6 7 8]\n"
      ]
     },
     "metadata": {},
     "output_type": "display_data"
    }
   ],
   "source": [
    "newarr.flatten()"
   ]
  },
  {
   "cell_type": "code",
   "execution_count": null,
   "id": "a615c27f",
   "metadata": {},
   "outputs": [
    {
     "data": {
      "text/plain": [
       "[[1 2 3 4]\n",
       " [5 6 7 8]]\n"
      ]
     },
     "metadata": {},
     "output_type": "display_data"
    }
   ],
   "source": [
    "print(newarr)"
   ]
  },
  {
   "cell_type": "code",
   "execution_count": null,
   "id": "259a03c4",
   "metadata": {},
   "outputs": [
    {
     "data": {
      "text/plain": [
       "[1 2 3 4 5 6 7 8]\n"
      ]
     },
     "metadata": {},
     "output_type": "display_data"
    }
   ],
   "source": [
    "arr1 = np.array([1,2,3,4])\n",
    "arr2 = np.array([5,6,7,8])\n",
    "print(np.concatenate((arr1,arr2)))"
   ]
  },
  {
   "cell_type": "code",
   "execution_count": null,
   "id": "ecd87beb",
   "metadata": {},
   "outputs": [
    {
     "data": {
      "text/plain": [
       "[[1 2 3]\n",
       " [3 4 5]\n",
       " [0 9 8]\n",
       " [7 6 5]]\n"
      ]
     },
     "metadata": {},
     "output_type": "display_data"
    }
   ],
   "source": [
    "arr2d1 = np.array([[1,2,3],[3,4,5]])\n",
    "arr2d2 = np.array([[0,9,8],[7,6,5]])\n",
    "print(np.concatenate((arr2d1,arr2d2)))"
   ]
  },
  {
   "cell_type": "code",
   "execution_count": null,
   "id": "33c22da5",
   "metadata": {},
   "outputs": [
    {
     "data": {
      "text/plain": [
       "[1 2 3 4 5 6 7 8]\n",
       "after concatention axis = 0\n",
       "[[1 2 3]\n",
       " [3 4 5]\n",
       " [0 9 8]\n",
       " [7 6 5]]\n",
       "after concatention axis = 1\n",
       "[[1 2 3 0 9 8]\n",
       " [3 4 5 7 6 5]]\n"
      ]
     },
     "metadata": {},
     "output_type": "display_data"
    }
   ],
   "source": [
    "# by deffault the concatenation in along axis 0\n",
    "print(np.concatenate((arr1,arr2)))\n",
    "# now concatenat along axis 1\n",
    "# print(np.concatenate((arr1, arr2), axis = 1)) gives error cause axis 1 is not available for 1d array \n",
    "print('after concatention axis = 0')\n",
    "print(np.concatenate((arr2d1, arr2d2), axis=0))\n",
    "print('after concatention axis = 1')\n",
    "print(np.concatenate((arr2d1, arr2d2), axis=1))"
   ]
  },
  {
   "cell_type": "code",
   "execution_count": null,
   "id": "93c66b7a",
   "metadata": {},
   "outputs": [
    {
     "data": {
      "text/plain": [
       "['almond' 'banana' 'chocolate']\n"
      ]
     },
     "metadata": {},
     "output_type": "display_data"
    }
   ],
   "source": [
    "# using the sort function of numy\n",
    "arr = np.array(['banana', 'almond', 'chocolate'])\n",
    "print(np.sort(arr))"
   ]
  },
  {
   "cell_type": "code",
   "execution_count": null,
   "id": "b6e22f58",
   "metadata": {},
   "outputs": [
    {
     "data": {
      "text/plain": [
       "[False  True  True]\n"
      ]
     },
     "metadata": {},
     "output_type": "display_data"
    }
   ],
   "source": [
    "# now lets sort a boolean array\n",
    "arrb = np.array([True, False, True])\n",
    "print(np.sort(arrb))"
   ]
  },
  {
   "cell_type": "code",
   "execution_count": null,
   "id": "a366ed2b",
   "metadata": {},
   "outputs": [
    {
     "data": {
      "text/plain": [
       "[[1 2 5 9]\n",
       " [0 4 6 9]]\n"
      ]
     },
     "metadata": {},
     "output_type": "display_data"
    }
   ],
   "source": [
    "arr2 = np.array([[9,2,5,1],[6,4,9,0]])\n",
    "print(np.sort(arr2))"
   ]
  },
  {
   "cell_type": "code",
   "execution_count": null,
   "id": "067c272d",
   "metadata": {},
   "outputs": [
    {
     "data": {
      "text/plain": [
       "[9 2 5 1]\n",
       "[6 4 9 0]\n"
      ]
     },
     "metadata": {},
     "output_type": "display_data"
    }
   ],
   "source": [
    "#iteration in array\n",
    "for i in arr2:\n",
    "    print(i)"
   ]
  },
  {
   "cell_type": "code",
   "execution_count": null,
   "id": "59f067ca",
   "metadata": {},
   "outputs": [
    {
     "data": {
      "text/plain": [
       "9\n",
       "2\n",
       "5\n",
       "1\n",
       "6\n",
       "4\n",
       "9\n",
       "0\n"
      ]
     },
     "metadata": {},
     "output_type": "display_data"
    }
   ],
   "source": [
    "for i in arr2:\n",
    "    for j in i:\n",
    "        print(j)"
   ]
  },
  {
   "cell_type": "code",
   "execution_count": null,
   "id": "7766a773",
   "metadata": {},
   "outputs": [
    {
     "data": {
      "text/plain": [
       "[[9 2 5 1]\n",
       " [6 4 9 0]]\n"
      ]
     },
     "metadata": {},
     "output_type": "display_data"
    }
   ],
   "source": [
    "#iterate all the scalars / iterate down to scalars in a 2d array \n",
    "# using nditer() function\n",
    "\n",
    "print(arr2)"
   ]
  },
  {
   "cell_type": "code",
   "execution_count": null,
   "id": "6b116229",
   "metadata": {},
   "outputs": [
    {
     "data": {
      "text/plain": [
       "banana\n",
       "almond\n",
       "chocolate\n"
      ]
     },
     "metadata": {},
     "output_type": "display_data"
    }
   ],
   "source": [
    "for x in np.nditer(arr):\n",
    "    print(x)"
   ]
  },
  {
   "cell_type": "code",
   "execution_count": null,
   "id": "d722e9a0",
   "metadata": {},
   "outputs": [
    {
     "data": {
      "text/plain": [
       "9\n",
       "2\n",
       "5\n",
       "1\n",
       "6\n",
       "4\n",
       "9\n",
       "0\n"
      ]
     },
     "metadata": {},
     "output_type": "display_data"
    }
   ],
   "source": [
    "for x in np.nditer(arr2):\n",
    "    print(x)"
   ]
  },
  {
   "cell_type": "code",
   "execution_count": null,
   "id": "5e4ef7aa",
   "metadata": {},
   "outputs": [
    {
     "data": {
      "text/plain": [
       "1\n",
       "2\n",
       "3\n",
       "4\n",
       "5\n",
       "6\n",
       "7\n",
       "8\n",
       "9\n",
       "10\n",
       "11\n",
       "12\n"
      ]
     },
     "metadata": {},
     "output_type": "display_data"
    }
   ],
   "source": [
    "arr3 = np.array([[[1,2,3],[4,5,6]],[[7,8,9],[10,11,12]]])\n",
    "for x in np.nditer(arr3):\n",
    "    print(x)"
   ]
  },
  {
   "cell_type": "code",
   "execution_count": null,
   "id": "f10112a3",
   "metadata": {},
   "outputs": [
    {
     "data": {
      "text/plain": [
       "[[9 2 5 1]\n",
       " [6 4 9 0]]\n",
       " \n",
       "9\n",
       "5\n",
       "6\n",
       "9\n"
      ]
     },
     "metadata": {},
     "output_type": "display_data"
    }
   ],
   "source": [
    "#iterating with different step size\n",
    "print(arr2)\n",
    "print(\" \")\n",
    "for x in np.nditer(arr2[:, ::2]):\n",
    "    print(x)"
   ]
  },
  {
   "cell_type": "code",
   "execution_count": null,
   "id": "cfd8eaea",
   "metadata": {},
   "outputs": [
    {
     "data": {
      "text/plain": [
       "['banana' 'almond' 'chocolate']\n"
      ]
     },
     "metadata": {},
     "output_type": "display_data"
    }
   ],
   "source": [
    "#use of where method for searching\n",
    "print(arr)"
   ]
  },
  {
   "cell_type": "code",
   "execution_count": null,
   "id": "9d76e712",
   "metadata": {},
   "outputs": [
    {
     "data": {
      "text/plain": [
       "(array([2], dtype=int64),)\n"
      ]
     },
     "metadata": {},
     "output_type": "display_data"
    }
   ],
   "source": [
    "arr = np.array([1,2,3,4,5,6,7,8,9])\n",
    "print(np.where(arr == 3))"
   ]
  },
  {
   "cell_type": "code",
   "execution_count": null,
   "id": "e94ec0f1",
   "metadata": {},
   "outputs": [
    {
     "data": {
      "text/plain": [
       "(array([], dtype=int64),)\n"
      ]
     },
     "metadata": {},
     "output_type": "display_data"
    }
   ],
   "source": [
    "print(np.where(arr == 10))"
   ]
  },
  {
   "cell_type": "code",
   "execution_count": null,
   "id": "7f70a38a",
   "metadata": {},
   "outputs": [
    {
     "data": {
      "text/plain": [
       "(array([0, 2, 4, 6, 8], dtype=int64),)\n"
      ]
     },
     "metadata": {},
     "output_type": "display_data"
    }
   ],
   "source": [
    "print(np.where(arr%2 != 0)) #indexes it prints"
   ]
  },
  {
   "cell_type": "code",
   "execution_count": null,
   "id": "b122683e",
   "metadata": {},
   "outputs": [
    {
     "data": {
      "text/plain": [
       "[1 2 3 4 5 6 7 8 9]\n"
      ]
     },
     "metadata": {},
     "output_type": "display_data"
    }
   ],
   "source": [
    "print(arr)"
   ]
  },
  {
   "cell_type": "code",
   "execution_count": null,
   "id": "e92c8241",
   "metadata": {},
   "outputs": [
    {
     "data": {
      "text/plain": [
       "6\n"
      ]
     },
     "metadata": {},
     "output_type": "display_data"
    }
   ],
   "source": [
    "#using searchsorted method\n",
    "x = np.searchsorted(arr,7)\n",
    "print(x)"
   ]
  },
  {
   "cell_type": "code",
   "execution_count": null,
   "id": "69b01b98",
   "metadata": {},
   "outputs": [
    {
     "data": {
      "text/plain": [
       "9\n"
      ]
     },
     "metadata": {},
     "output_type": "display_data"
    }
   ],
   "source": [
    "x = np.searchsorted(arr,12)\n",
    "print(x)"
   ]
  },
  {
   "cell_type": "code",
   "execution_count": null,
   "id": "f89d31d5",
   "metadata": {},
   "outputs": [
    {
     "data": {
      "text/plain": [
       "9\n"
      ]
     },
     "metadata": {},
     "output_type": "display_data"
    }
   ],
   "source": [
    "x = np.searchsorted(arr, 130)\n",
    "print(x) \n"
   ]
  },
  {
   "cell_type": "code",
   "execution_count": null,
   "id": "1f42f94b",
   "metadata": {},
   "outputs": [
    {
     "data": {
      "text/plain": [
       "2\n"
      ]
     },
     "metadata": {},
     "output_type": "display_data"
    }
   ],
   "source": [
    "#lets search from the right side\n",
    "arr = np.array([3,4,5,6])\n",
    "x = np.searchsorted(arr, 4, side='right')\n",
    "print(x)"
   ]
  },
  {
   "cell_type": "code",
   "execution_count": null,
   "id": "52230e3e",
   "metadata": {},
   "outputs": [
    {
     "data": {
      "text/plain": [
       "[3 4 5 6]\n",
       "[1 2]\n"
      ]
     },
     "metadata": {},
     "output_type": "display_data"
    }
   ],
   "source": [
    "# lets search for multiple values at once\n",
    "print(arr)\n",
    "x = np.searchsorted(arr,[4,5])\n",
    "print(x) #it returns the array of index"
   ]
  },
  {
   "cell_type": "code",
   "execution_count": null,
   "id": "08e8188a",
   "metadata": {},
   "outputs": [
    {
     "data": {
      "text/plain": [
       "[0 1 1 2 2 3 3 5 5 6 7 8 9]\n"
      ]
     },
     "metadata": {},
     "output_type": "display_data"
    }
   ],
   "source": [
    "# question for array [1,3,6,2,5,8,5,3,0,7,2,9,1] search the location of 2 using searchsoretd() method\n",
    "# solution\n",
    "# array is not sorted\n",
    "arr = np.array([1,3,6,2,5,8,5,3,0,7,2,9,1])\n",
    "x = np.sort(arr)\n",
    "print(x)"
   ]
  },
  {
   "cell_type": "code",
   "execution_count": null,
   "id": "ca76d5e2",
   "metadata": {},
   "outputs": [],
   "source": [
    "y = np.searchsorted(x, 2)"
   ]
  },
  {
   "cell_type": "code",
   "execution_count": null,
   "id": "08318a16",
   "metadata": {},
   "outputs": [
    {
     "data": {
      "text/plain": [
       "3\n"
      ]
     },
     "metadata": {},
     "output_type": "display_data"
    }
   ],
   "source": [
    "print(y)"
   ]
  },
  {
   "cell_type": "code",
   "execution_count": null,
   "id": "c085486d",
   "metadata": {},
   "outputs": [
    {
     "data": {
      "text/plain": [
       "[411  21]\n"
      ]
     },
     "metadata": {},
     "output_type": "display_data"
    }
   ],
   "source": [
    "#filter: used to extract values from a sequence under certain condition\n",
    "\n",
    "arrb = [True, False, True, False]\n",
    "arr = np.array([411, 34, 21, 34])  \n",
    "new = arr[arrb]\n",
    "print(new) \n",
    "# it returns 411 and 21 becuase the value in the array corresponding to their indexes in boolean array were true"
   ]
  },
  {
   "cell_type": "code",
   "execution_count": null,
   "id": "7fbb1c51",
   "metadata": {},
   "outputs": [],
   "source": [
    "#another example of creating a filter\n",
    "seq = [1, 2, 3, 4, 5, 6, 7, 8, 9, 10]\n",
    "x = list(filter(lambda num: num%2 == 0, seq))"
   ]
  },
  {
   "cell_type": "code",
   "execution_count": null,
   "id": "71d820d1",
   "metadata": {},
   "outputs": [
    {
     "data": {
      "text/plain": [
       "[2, 4, 6, 8, 10]\n"
      ]
     },
     "metadata": {},
     "output_type": "display_data"
    }
   ],
   "source": [
    "print(x)"
   ]
  },
  {
   "cell_type": "code",
   "execution_count": null,
   "id": "5c518e1c",
   "metadata": {},
   "outputs": [
    {
     "data": {
      "text/plain": [
       "[1, 3, 5, 7, 9]\n"
      ]
     },
     "metadata": {},
     "output_type": "display_data"
    }
   ],
   "source": [
    "y = list(filter(lambda num: num%2 !=0, seq)), print(y)"
   ]
  },
  {
   "cell_type": "code",
   "execution_count": null,
   "id": "3a624645",
   "metadata": {},
   "outputs": [
    {
     "data": {
      "text/plain": [
       "[1 2 3 4]\n"
      ]
     },
     "metadata": {},
     "output_type": "display_data"
    }
   ],
   "source": [
    "#create a filter\n",
    "arr = np.array(seq)\n",
    "filter = arr<5\n",
    "newarr = arr[filter]\n",
    "print(newarr)"
   ]
  },
  {
   "cell_type": "code",
   "execution_count": null,
   "id": "61e25e4d",
   "metadata": {},
   "outputs": [
    {
     "data": {
      "text/plain": [
       "[ 6  7  8  9 10]\n"
      ]
     },
     "metadata": {},
     "output_type": "display_data"
    }
   ],
   "source": [
    "filter = arr>5\n",
    "newarr = arr[filter]\n",
    "print(newarr)\n"
   ]
  },
  {
   "cell_type": "code",
   "execution_count": null,
   "id": "b0ac40c8",
   "metadata": {},
   "outputs": [
    {
     "data": {
      "text/plain": [
       "[False False False False False  True  True  True  True  True]\n"
      ]
     },
     "metadata": {},
     "output_type": "display_data"
    }
   ],
   "source": [
    "# lets understand what is actually happening at backend\n",
    "# we didnt use a boolean index list directly but we still have a boolean insdex list\n",
    "# lets see how \n",
    "# when we wrote filter = arr>3 it kinda creates a boolean index list\n",
    "print(filter)"
   ]
  },
  {
   "cell_type": "code",
   "execution_count": null,
   "id": "0cc6faec",
   "metadata": {},
   "outputs": [
    {
     "data": {
      "text/plain": [
       "[ 1  2  3  4  5  6  7  8  9 10]\n"
      ]
     },
     "metadata": {},
     "output_type": "display_data"
    }
   ],
   "source": [
    "print(arr)"
   ]
  },
  {
   "cell_type": "code",
   "execution_count": null,
   "id": "093ac718",
   "metadata": {},
   "outputs": [
    {
     "data": {
      "text/plain": [
       "[ 1  2  3  4  5  6  7  8  9 10]\n",
       "[False  True False  True False  True False  True False  True]\n",
       "[ 2  4  6  8 10]\n"
      ]
     },
     "metadata": {},
     "output_type": "display_data"
    }
   ],
   "source": [
    "filter = arr%2==0\n",
    "newarr = arr[filter]\n",
    "print(arr)\n",
    "print(filter)\n",
    "print(newarr)"
   ]
  },
  {
   "cell_type": "code",
   "execution_count": null,
   "id": "6e6d89f6",
   "metadata": {},
   "outputs": [
    {
     "data": {
      "text/plain": [
       "[ 1  2  3  4  5  6  7  8  9 10]\n"
      ]
     },
     "metadata": {},
     "output_type": "display_data"
    }
   ],
   "source": [
    "print(arr)"
   ]
  },
  {
   "cell_type": "code",
   "execution_count": null,
   "id": "97af5cbd",
   "metadata": {},
   "outputs": [
    {
     "data": {
      "text/plain": [
       "[False  True False  True False  True False  True False  True]\n",
       " \n",
       "[ 2  4  6  8 10]\n"
      ]
     },
     "metadata": {},
     "output_type": "display_data"
    }
   ],
   "source": [
    "#creating a filter\n",
    "filterr = []\n",
    "for ele in arr:\n",
    "    if ele%2 == 0:\n",
    "        filterr.append(True)\n",
    "    else:\n",
    "        filterr.append(False)\n",
    "\n",
    "print(filter)\n",
    "print(\" \")\n",
    "print(arr[filterr])\n",
    "\n",
    "\n"
   ]
  },
  {
   "cell_type": "code",
   "execution_count": null,
   "id": "e9cdac90",
   "metadata": {},
   "outputs": [],
   "source": [
    "# mean: the averagevalue\n",
    "# median: the middle value \n",
    "# mode: the most common value  \n"
   ]
  },
  {
   "cell_type": "code",
   "execution_count": null,
   "id": "cf675436",
   "metadata": {},
   "outputs": [
    {
     "data": {
      "text/plain": [
       "7.85\n"
      ]
     },
     "metadata": {},
     "output_type": "display_data"
    }
   ],
   "source": [
    "arr = np.array([1,2,3,8,3,9,3,77,9,5,7,2,8,9,3,2,3,2,1,0])\n",
    "print(np.mean(arr))"
   ]
  },
  {
   "cell_type": "code",
   "execution_count": null,
   "id": "b82e8d93",
   "metadata": {},
   "outputs": [
    {
     "data": {
      "text/plain": [
       "[ 0  1  1  2  2  2  2  3  3  3  3  3  5  7  8  8  9  9  9 77]\n"
      ]
     },
     "metadata": {},
     "output_type": "display_data"
    }
   ],
   "source": [
    "print(np.sort(arr))"
   ]
  },
  {
   "cell_type": "code",
   "execution_count": null,
   "id": "64d4182a",
   "metadata": {},
   "outputs": [
    {
     "data": {
      "text/plain": [
       "3.0\n"
      ]
     },
     "metadata": {},
     "output_type": "display_data"
    }
   ],
   "source": [
    "print(np.median(arr))"
   ]
  },
  {
   "cell_type": "code",
   "execution_count": null,
   "id": "4f568ab2",
   "metadata": {},
   "outputs": [
    {
     "data": {
      "text/plain": [
       "Traceback (most recent call last):\n",
       "  File \"c:\\Users\\hp.1\\.vscode\\extensions\\ms-python.python-2024.18.0-win32-x64\\python_files\\python_server.py\", line 130, in exec_user_input\n",
       "    retval = callable_(user_input, user_globals)\n",
       "             ^^^^^^^^^^^^^^^^^^^^^^^^^^^^^^^^^^^\n",
       "  File \"<string>\", line 1, in <module>\n",
       "  File \"C:\\Users\\hp.1\\AppData\\Roaming\\Python\\Python312\\site-packages\\numpy\\__init__.py\", line 347, in __getattr__\n",
       "    raise AttributeError(\"module {!r} has no attribute \"\n",
       "AttributeError: module 'numpy' has no attribute 'mode'. Did you mean: 'mod'?\n",
       "\n"
      ]
     },
     "metadata": {},
     "output_type": "display_data"
    }
   ],
   "source": [
    "print(np.mode(arr))\n",
    "#note: gives an error cause numpy doesnt have any inbuilt method to calculate mode"
   ]
  },
  {
   "cell_type": "code",
   "execution_count": null,
   "id": "fd645c9a",
   "metadata": {},
   "outputs": [],
   "source": [
    "# i got an error because mode is not an attribute of numpy its an attribute of scipy(scientfic..) "
   ]
  },
  {
   "cell_type": "code",
   "execution_count": null,
   "id": "c1ea3757",
   "metadata": {},
   "outputs": [],
   "source": [
    "from scipy import stats\n"
   ]
  },
  {
   "cell_type": "code",
   "execution_count": null,
   "id": "1eadfdac",
   "metadata": {},
   "outputs": [
    {
     "data": {
      "text/plain": [
       "[ 1  2  3  8  3  9  3 77  9  5  7  2  8  9  3  2  3  2  1  0]\n"
      ]
     },
     "metadata": {},
     "output_type": "display_data"
    }
   ],
   "source": [
    "print(arr)"
   ]
  },
  {
   "cell_type": "code",
   "execution_count": null,
   "id": "a6d13328",
   "metadata": {},
   "outputs": [
    {
     "data": {
      "text/plain": [
       "[ 0  1  1  2  2  2  2  3  3  3  3  3  5  7  8  8  9  9  9 77]\n",
       "ModeResult(mode=3, count=5)\n"
      ]
     },
     "metadata": {},
     "output_type": "display_data"
    }
   ],
   "source": [
    "print(np.sort(arr))\n",
    "print(stats.mode(arr))"
   ]
  },
  {
   "cell_type": "code",
   "execution_count": null,
   "id": "3ca3f49b",
   "metadata": {},
   "outputs": [
    {
     "data": {
      "text/plain": [
       "16.131568429635106\n"
      ]
     },
     "metadata": {},
     "output_type": "display_data"
    }
   ],
   "source": [
    "# standard deviation\n",
    "print(np.std(arr))"
   ]
  },
  {
   "cell_type": "code",
   "execution_count": null,
   "id": "e12d0c6a",
   "metadata": {},
   "outputs": [],
   "source": [
    "#numpy arange() is one of the array creation routines based on numerical ranges.\n",
    "# it creates an instance of ndarray with evenly spaced values and returns the regerence to  it \n",
    "\n",
    "# in simple words it returns a list of integers between the start and stop values passes including the start value but excluding the stop vlue"
   ]
  },
  {
   "cell_type": "code",
   "execution_count": null,
   "id": "9859727f",
   "metadata": {},
   "outputs": [
    {
     "data": {
      "text/plain": [
       "[ 0  1  2  3  4  5  6  7  8  9 10]\n"
      ]
     },
     "metadata": {},
     "output_type": "display_data"
    }
   ],
   "source": [
    "array = np.arange(0,11)\n",
    "print(array)"
   ]
  },
  {
   "cell_type": "code",
   "execution_count": null,
   "id": "19b2982c",
   "metadata": {},
   "outputs": [
    {
     "data": {
      "text/plain": [
       "[ 0  2  4  6  8 10]\n"
      ]
     },
     "metadata": {},
     "output_type": "display_data"
    }
   ],
   "source": [
    "# this returns us numbers from 0-10\n",
    "# note that 11 is not included\n",
    "\n",
    "# we can also specify the step size in arange method \n",
    "array = np.arange(0,11,2)\n",
    "print(array)"
   ]
  },
  {
   "cell_type": "code",
   "execution_count": null,
   "id": "ff54f52e",
   "metadata": {},
   "outputs": [
    {
     "data": {
      "text/plain": [
       "[0.         0.55555556 1.11111111 1.66666667 2.22222222 2.77777778\n",
       " 3.33333333 3.88888889 4.44444444 5.        ]\n"
      ]
     },
     "metadata": {},
     "output_type": "display_data"
    }
   ],
   "source": [
    "#linspace method: it returns evenly spaced points or elements between teh start and stop values\n",
    "\n",
    "# syntax = np.linspace(start, stop, no. of elements/ points required)\n",
    "# difference between linspace and arange is that linspace doesnot necessarily returns integer values\n",
    "\n",
    "array = np.linspace(0, 5, 10)\n",
    "print(array)"
   ]
  },
  {
   "cell_type": "code",
   "execution_count": null,
   "id": "73b70e65",
   "metadata": {},
   "outputs": [
    {
     "data": {
      "text/plain": [
       "[0.         0.01010101 0.02020202 0.03030303 0.04040404 0.05050505\n",
       " 0.06060606 0.07070707 0.08080808 0.09090909 0.1010101  0.11111111\n",
       " 0.12121212 0.13131313 0.14141414 0.15151515 0.16161616 0.17171717\n",
       " 0.18181818 0.19191919 0.2020202  0.21212121 0.22222222 0.23232323\n",
       " 0.24242424 0.25252525 0.26262626 0.27272727 0.28282828 0.29292929\n",
       " 0.3030303  0.31313131 0.32323232 0.33333333 0.34343434 0.35353535\n",
       " 0.36363636 0.37373737 0.38383838 0.39393939 0.4040404  0.41414141\n",
       " 0.42424242 0.43434343 0.44444444 0.45454545 0.46464646 0.47474747\n",
       " 0.48484848 0.49494949 0.50505051 0.51515152 0.52525253 0.53535354\n",
       " 0.54545455 0.55555556 0.56565657 0.57575758 0.58585859 0.5959596\n",
       " 0.60606061 0.61616162 0.62626263 0.63636364 0.64646465 0.65656566\n",
       " 0.66666667 0.67676768 0.68686869 0.6969697  0.70707071 0.71717172\n",
       " 0.72727273 0.73737374 0.74747475 0.75757576 0.76767677 0.77777778\n",
       " 0.78787879 0.7979798  0.80808081 0.81818182 0.82828283 0.83838384\n",
       " 0.84848485 0.85858586 0.86868687 0.87878788 0.88888889 0.8989899\n",
       " 0.90909091 0.91919192 0.92929293 0.93939394 0.94949495 0.95959596\n",
       " 0.96969697 0.97979798 0.98989899 1.        ]\n"
      ]
     },
     "metadata": {},
     "output_type": "display_data"
    }
   ],
   "source": [
    "array = np.linspace(0, 1, 100)\n",
    "print(array)"
   ]
  },
  {
   "cell_type": "code",
   "execution_count": null,
   "id": "a3a5fce6",
   "metadata": {},
   "outputs": [
    {
     "data": {
      "text/plain": [
       "[0. 0. 0. 0. 0.]\n"
      ]
     },
     "metadata": {},
     "output_type": "display_data"
    }
   ],
   "source": [
    "#creating a 1d array of all zeros \n",
    "# syntax arrayname = np.zeros(no.of elements)\n",
    "array = np.zeros(5)\n",
    "print(array)"
   ]
  },
  {
   "cell_type": "code",
   "execution_count": null,
   "id": "3ac9a028",
   "metadata": {},
   "outputs": [
    {
     "data": {
      "text/plain": [
       "[[0. 0. 0. 0.]\n",
       " [0. 0. 0. 0.]\n",
       " [0. 0. 0. 0.]]\n"
      ]
     },
     "metadata": {},
     "output_type": "display_data"
    }
   ],
   "source": [
    "# createing a 2d array of all zeros \n",
    "array = np.zeros((3,4))\n",
    "print(array)"
   ]
  },
  {
   "cell_type": "code",
   "execution_count": null,
   "id": "789e3689",
   "metadata": {},
   "outputs": [
    {
     "data": {
      "text/plain": [
       "[1. 1. 1. 1. 1.]\n"
      ]
     },
     "metadata": {},
     "output_type": "display_data"
    }
   ],
   "source": [
    "# create a 1d array of all ones 1\n",
    "array = np.ones(5)\n",
    "print(array)"
   ]
  },
  {
   "cell_type": "code",
   "execution_count": null,
   "id": "d6894300",
   "metadata": {},
   "outputs": [
    {
     "data": {
      "text/plain": [
       "[[1. 1. 1. 1.]\n",
       " [1. 1. 1. 1.]]\n"
      ]
     },
     "metadata": {},
     "output_type": "display_data"
    }
   ],
   "source": [
    "array = np.ones((2,4))\n",
    "print(array)"
   ]
  },
  {
   "cell_type": "code",
   "execution_count": null,
   "id": "dc84b504",
   "metadata": {},
   "outputs": [
    {
     "data": {
      "text/plain": [
       "[[1. 0. 0. 0. 0.]\n",
       " [0. 1. 0. 0. 0.]\n",
       " [0. 0. 1. 0. 0.]\n",
       " [0. 0. 0. 1. 0.]\n",
       " [0. 0. 0. 0. 1.]]\n"
      ]
     },
     "metadata": {},
     "output_type": "display_data"
    }
   ],
   "source": [
    "# we can use the eye() method to create a identity matrix \n",
    "# syntax = np.eye(order)\n",
    "np.eye(5)\n"
   ]
  },
  {
   "cell_type": "code",
   "execution_count": null,
   "id": "9f803b06",
   "metadata": {},
   "outputs": [
    {
     "data": {
      "text/plain": [
       "[ 1  2  3  8  3  9  3 77  9  5  7  2  8  9  3  2  3  2  1  0]\n"
      ]
     },
     "metadata": {},
     "output_type": "display_data"
    }
   ],
   "source": [
    "print(arr)"
   ]
  },
  {
   "cell_type": "code",
   "execution_count": null,
   "id": "c6f7a3e9",
   "metadata": {},
   "outputs": [
    {
     "data": {
      "text/plain": [
       "0.7797773861221918\n",
       "0.19758677497768928\n"
      ]
     },
     "metadata": {},
     "output_type": "display_data"
    }
   ],
   "source": [
    "# random: \n",
    "# y = random.rand()\n",
    "# print(y) eror so do this below\n",
    "x = np.random.rand()\n",
    "print(x)\n"
   ]
  },
  {
   "cell_type": "code",
   "execution_count": null,
   "id": "16cf7614",
   "metadata": {},
   "outputs": [
    {
     "data": {
      "text/plain": [
       "0.032343172773531936\n"
      ]
     },
     "metadata": {},
     "output_type": "display_data"
    }
   ],
   "source": [
    "from numpy import random\n",
    "x = random.rand()\n",
    "print(x)"
   ]
  },
  {
   "cell_type": "code",
   "execution_count": null,
   "id": "20066ce2",
   "metadata": {},
   "outputs": [
    {
     "data": {
      "text/plain": [
       "[0.33936225 0.61476104 0.2280418  0.78911436 0.13604886]\n"
      ]
     },
     "metadata": {},
     "output_type": "display_data"
    }
   ],
   "source": [
    "x = np.random.rand(5)\n",
    "print(x)"
   ]
  },
  {
   "cell_type": "code",
   "execution_count": null,
   "id": "e497023a",
   "metadata": {},
   "outputs": [
    {
     "data": {
      "text/plain": [
       "[[0.08827023 0.89273057 0.87718571 0.59086392 0.30937138]\n",
       " [0.57413156 0.99133543 0.9679644  0.8251985  0.85760864]\n",
       " [0.1893438  0.69381563 0.6569857  0.97731268 0.77804985]\n",
       " [0.89222797 0.24797422 0.38048396 0.25804802 0.94395115]\n",
       " [0.71763701 0.6115849  0.3716574  0.78538625 0.34834425]]\n"
      ]
     },
     "metadata": {},
     "output_type": "display_data"
    }
   ],
   "source": [
    "x = np.random.rand(5,5)\n",
    "print(x)"
   ]
  },
  {
   "cell_type": "code",
   "execution_count": null,
   "id": "8777a22c",
   "metadata": {},
   "outputs": [],
   "source": [
    "#  randn() function creates an array of specified shape and fills its with values as per standard normal distribution\n",
    "#  note that it fills the array with random floats sampled from a univariate noraml(gaussian) distribution of mean 0 and variance 1\n",
    "# note that normal distribution is a distribution which is continuous in nature and has a pdf or probability density function\n",
    "# if we provide no argument then a single float randomly sampled from the distribution is reurned"
   ]
  },
  {
   "cell_type": "code",
   "execution_count": null,
   "id": "7676826a",
   "metadata": {},
   "outputs": [
    {
     "data": {
      "text/plain": [
       "-0.31659960503693674\n"
      ]
     },
     "metadata": {},
     "output_type": "display_data"
    }
   ],
   "source": [
    "# no argument \n",
    "x = np.random.randn()\n",
    "print(x)"
   ]
  },
  {
   "cell_type": "code",
   "execution_count": null,
   "id": "fb361ad7",
   "metadata": {},
   "outputs": [
    {
     "data": {
      "text/plain": [
       "[-0.38040637 -1.56585666 -0.47120861  1.90476454]\n"
      ]
     },
     "metadata": {},
     "output_type": "display_data"
    }
   ],
   "source": [
    "#1d array\n",
    "x = np.random.randn(4)\n",
    "print(x)"
   ]
  },
  {
   "cell_type": "code",
   "execution_count": null,
   "id": "3f6229fc",
   "metadata": {},
   "outputs": [
    {
     "data": {
      "text/plain": [
       "[[ 0.05536027 -1.05990784  0.76571343]\n",
       " [ 0.81076346  0.00409277 -2.20026753]\n",
       " [ 2.2599751  -1.05681678  0.18554323]\n",
       " [-1.21936353 -0.74784399  0.07370162]]\n"
      ]
     },
     "metadata": {},
     "output_type": "display_data"
    }
   ],
   "source": [
    "x = np.random.randn(4,3)\n",
    "print(x)"
   ]
  },
  {
   "cell_type": "code",
   "execution_count": null,
   "id": "2be7cdb1",
   "metadata": {},
   "outputs": [
    {
     "data": {
      "text/plain": [
       "[[[-0.76362774  0.07551165 -0.19873012  1.08274634]\n",
       "  [ 1.90006077  0.06426384 -0.79792477 -2.47303496]\n",
       "  [-0.50233801  0.67339565  2.71454896 -0.34623837]]\n",
       "\n",
       " [[ 2.29702063 -1.51601976  1.47286239 -0.35327807]\n",
       "  [ 0.1650526  -0.80161699 -1.70565874 -0.0207621 ]\n",
       "  [-0.08856492 -0.99432844 -0.7162025   0.14136512]]\n",
       "\n",
       " [[-1.12501705 -0.36282695  1.68319189 -0.3846706 ]\n",
       "  [-0.78736686 -0.17505841 -0.15566035 -0.64115843]\n",
       "  [ 0.08588405  0.41933417  0.84606833  0.98258866]]\n",
       "\n",
       " [[ 2.37325827  0.9759559   2.40430518  1.66570271]\n",
       "  [-1.16991212  0.29903255  0.27785     0.66971288]\n",
       "  [-1.66238532 -0.66623322  0.22058503  0.26127367]]]\n"
      ]
     },
     "metadata": {},
     "output_type": "display_data"
    }
   ],
   "source": [
    "x = np.random.randn(4,3,4)\n",
    "print(x)"
   ]
  },
  {
   "cell_type": "code",
   "execution_count": null,
   "id": "a708efda",
   "metadata": {},
   "outputs": [
    {
     "data": {
      "text/plain": [
       "6\n"
      ]
     },
     "metadata": {},
     "output_type": "display_data"
    }
   ],
   "source": [
    "# randint() is an inbuilt function of the random module of numpy \n",
    "# the module gives access to various useful functions and one of them able to generate random numbers, whihc is randint() \n",
    "\n",
    "# syntax np.random.randint(start, stop)\n",
    "x = np.random.randint(1,9)\n",
    "print(x)"
   ]
  },
  {
   "cell_type": "code",
   "execution_count": null,
   "id": "bb8134d2",
   "metadata": {},
   "outputs": [
    {
     "data": {
      "text/plain": [
       "-3\n"
      ]
     },
     "metadata": {},
     "output_type": "display_data"
    }
   ],
   "source": [
    "x = np.random.randint(-10, -1)\n",
    "print(x)"
   ]
  },
  {
   "cell_type": "code",
   "execution_count": null,
   "id": "5223a7e9",
   "metadata": {},
   "outputs": [
    {
     "data": {
      "text/plain": [
       "1\n"
      ]
     },
     "metadata": {},
     "output_type": "display_data"
    }
   ],
   "source": [
    "x = np.random.randint(1.22, 2.111)\n",
    "print(x)"
   ]
  },
  {
   "cell_type": "code",
   "execution_count": null,
   "id": "677857a0",
   "metadata": {},
   "outputs": [
    {
     "data": {
      "text/plain": [
       "Traceback (most recent call last):\n",
       "  File \"c:\\Users\\hp.1\\.vscode\\extensions\\ms-python.python-2024.18.0-win32-x64\\python_files\\python_server.py\", line 130, in exec_user_input\n",
       "    retval = callable_(user_input, user_globals)\n",
       "             ^^^^^^^^^^^^^^^^^^^^^^^^^^^^^^^^^^^\n",
       "  File \"<string>\", line 1, in <module>\n",
       "  File \"numpy\\\\random\\\\mtrand.pyx\", line 780, in numpy.random.mtrand.RandomState.randint\n",
       "  File \"numpy\\\\random\\\\_bounded_integers.pyx\", line 2863, in numpy.random._bounded_integers._rand_int32\n",
       "ValueError: invalid literal for int() with base 10: 'a'\n",
       "\n"
      ]
     },
     "metadata": {},
     "output_type": "display_data"
    }
   ],
   "source": [
    "x = np.random.randint('a', 'z')\n",
    "print(x)"
   ]
  },
  {
   "cell_type": "code",
   "execution_count": null,
   "id": "50ce9c2d",
   "metadata": {},
   "outputs": [
    {
     "data": {
      "text/plain": [
       "[[4 4 5]\n",
       " [5 3 3]]\n"
      ]
     },
     "metadata": {},
     "output_type": "display_data"
    }
   ],
   "source": [
    "#question create a 2*3 numpy array that contains 6 random numbers between 2 and 6\n",
    "\n",
    "arr = np.random.randint(2,6,(2,3))\n",
    "print(arr)"
   ]
  },
  {
   "cell_type": "code",
   "execution_count": null,
   "id": "7977bf7a",
   "metadata": {},
   "outputs": [
    {
     "data": {
      "text/plain": [
       "[   32   215   501   514   619   734   755   959  1018  1084  1115  1135\n",
       "  1150  1151  1273  1431  1506  1592  1637  1910  1972  2087  2144  2573\n",
       "  2675  2685  3003  3031  3158  3189  3253  3283  3292  3353  3382  3417\n",
       "  3420  3444  3454  3485  3562  3615  3647  3717  3752  3802  3954  3992\n",
       "  4038  4330  4339  4382  4589  4591  4689  4881  5057  5220  5269  5345\n",
       "  5371  5381  5894  5946  6222  6287  6385  6563  6584  6768  6799  6837\n",
       "  6879  6890  6900  7163  7231  7279  7689  7763  7801  7816  7829  8055\n",
       "  8205  8297  8548  8753  8796  8822  8827  8992  9057  9215  9405  9464\n",
       "  9503  9636  9641  9866  9905 10181 10232 10264 10532 10575 10660 10773\n",
       " 10870 10879 10915 11138 11240 11357 11440 11495 11526 11589 11638 11682\n",
       " 12027 12072 12197 12335 12356 12363 12368 12408 12481 12506 12702 12710\n",
       " 12792 12794 13049 13116 13143 13259 13369 13446 13452 13544 13576 13620\n",
       " 13794 13873 13929 14076 14180 14304 14331 14483 14567 14657 14704 14743\n",
       " 14809 14908 15145 15207 15290 15355 15407 15476 15485 15595 15741 15804\n",
       " 15818 15825 16200 16499 16515 16609 16743 16826 16830 16857 16859 16892\n",
       " 17096 17293 17478 17500 17557 17796 17806 17822 17851 18030 18220 18257\n",
       " 18285 18574 18704 18735 18799 18879 18882 18959 18962 19015 19025 19108\n",
       " 19111 19124 19396 19431 19478 19480 19501 19548 19930 20075 20571 20611\n",
       " 20865 20908 21071 21157 21175 21187 21215 21228 21291 21296 21332 21478\n",
       " 21526 21530 21989 22017 22088 22495 22629 22672 22822 23079 23226 23255\n",
       " 23453 23662 23736 23785 24009 24010 24050 24279 24428 24699 24845 24868\n",
       " 24959 25181 25195 25350 25458 25500 25513 25536 25539 25825 25922 26295\n",
       " 26404 26441 26510 26525 26613 26945 27117 27435 27570 27628 27677 27775\n",
       " 27864 28135 28280 28642 28712 28786 28821 29198 29331 29340 29476 29479\n",
       " 29591 29652 29894 29932 30028 30074 30102 30294 30418 30540 30540 30556\n",
       " 30561 30686 30775 30972 31025 31063 31175 31227 31347 31491 31504 31574\n",
       " 31639 31683 31797 32023 32047 32050 32052 32369 32421 32439 32502 32676\n",
       " 32785 32884 32972 33000 33019 33062 33089 33105 33234 33365 33676 33713\n",
       " 33799 33833 33910 34139 34204 34331 34343 34358 34461 34667 34711 34755\n",
       " 34865 34959 35164 35188 35198 35219 35380 35392 35474 35486 35542 35638\n",
       " 35710 36064 36066 36116 36315 36390 36712 36803 37062 37297 37577 37809\n",
       " 38100 38225 38270 38579 38585 38701 38728 38739 38745 38763 38837 38841\n",
       " 38865 38960 39362 39362 39588 39696 39733 39924 40218 40325 40442 40468\n",
       " 40550 40609 40692 40698 40709 40716 40743 40833 40864 40991 41200 41200\n",
       " 41270 41326 41506 41512 41692 41705 41709 41743 41789 41872 41971 42021\n",
       " 42066 42130 42213 42326 42388 42402 42583 42732 42812 43025 43130 43405\n",
       " 43419 43504 43579 43592 43624 43716 43721 43783 43912 43953 44055 44255\n",
       " 44305 44309 44513 44768 44875 44880 44883 44950 45035 45063 45156 45174\n",
       " 45191 45352 45352 45454 45494 45495 45653 46100 46128 46159 46231 46478\n",
       " 46658 46751 46824 47014 47037 47192 47389 47447 47680 47719 47763 47938\n",
       " 48146 48362 48369 48415 48467 48469 48523 48569 48583 48723 48778 48798\n",
       " 48850 49006 49150 49222 49412 49490 49678 49787 49854 49887 50118 50162\n",
       " 50207 50271 50303 50357 50444 50480 50660 50812 50985 51015 51052 51236\n",
       " 51396 51442 51518 51761 52034 52093 52178 52257 52279 52281 52598 52629\n",
       " 52745 53103 53312 53472 53543 53572 53612 53653 53876 53955 54045 54183\n",
       " 54193 54262 54501 54586 54803 54849 54889 55031 55459 55472 55606 55611\n",
       " 55641 56001 56097 56372 56488 56491 56588 56681 56711 56973 57045 57115\n",
       " 57128 57137 57244 57356 57357 57816 57961 58051 58192 58216 58280 58520\n",
       " 58831 58913 59255 59263 59493 59552 59691 59836 59989 60068 60076 60085\n",
       " 60106 60109 60113 60275 60279 60367 60506 60623 60641 60691 60713 60729\n",
       " 60979 61051 61066 61137 61212 61257 61325 61338 61467 61580 61736 61968\n",
       " 61977 62078 62185 62269 62328 62489 62602 62606 62620 62875 62977 63050\n",
       " 63051 63105 63153 63163 63168 63192 63206 63217 63347 63369 63478 63494\n",
       " 63646 63713 63843 63941 63946 64133 64271 64321 64337 64347 64363 64375\n",
       " 64379 64467 64689 64792 64800 64914 65068 65092 65131 65253 65309 65323\n",
       " 65457 65573 65786 65881 65958 66005 66030 66060 66575 66678 66743 66832\n",
       " 66838 66958 67030 67297 67331 67345 67375 67567 67602 67612 67666 67675\n",
       " 67708 67711 68164 68174 68260 68376 68401 68419 68505 68716 68754 68757\n",
       " 68766 68788 68871 68928 69051 69097 69167 69295 69313 69320 69326 69338\n",
       " 69482 69583 69885 69908 70097 70193 70201 70230 70446 70665 70747 70994\n",
       " 71121 71241 71410 71562 71604 71664 71702 71702 71785 71949 72047 72143\n",
       " 72190 72243 72427 72438 72496 72533 72589 72614 72639 72680 72976 72997\n",
       " 73015 73267 73381 73409 73422 73474 73522 73548 73572 73875 73996 74075\n",
       " 74151 74175 74188 74379 74417 74782 74828 75102 75258 75283 75288 75290\n",
       " 75447 75633 75875 76031 76118 76132 76178 76319 76417 76528 76750 76863\n",
       " 77027 77283 77410 77443 77481 77885 78163 78381 78433 78444 78538 78653\n",
       " 78813 78993 79028 79264 79362 79556 79584 79601 79690 79742 79898 79946\n",
       " 79980 80092 80152 80323 80444 80612 80650 80824 81037 81095 81136 81153\n",
       " 81185 81494 81608 81651 81955 82044 82139 82191 82204 82324 82342 82411\n",
       " 82531 82558 82701 82711 82960 83009 83016 83063 83201 83309 83329 83422\n",
       " 83572 84071 84196 84225 84295 84364 84447 84832 84833 84847 84927 84952\n",
       " 85017 85022 85080 85286 85383 85526 85585 85631 85641 85682 85769 85805\n",
       " 85806 86043 86159 86165 86195 86341 86390 86405 86919 87001 87041 87470\n",
       " 87543 87569 87614 87641 87797 87841 87952 87967 87976 87990 88241 88400\n",
       " 88526 88674 88754 88770 88799 88819 88903 88911 88943 89025 89045 89051\n",
       " 89164 89348 89372 89530 89627 89895 90006 90060 90116 90218 90222 90316\n",
       " 90494 90528 90779 90900 91017 91026 91044 91102 91605 91754 91779 91944\n",
       " 92018 92018 92289 92438 92488 92741 92785 92935 92942 92984 93070 93189\n",
       " 93341 93419 93594 93711 93733 93834 93868 93874 93952 94104 94306 94340\n",
       " 94367 94373 94426 94601 94651 94694 94802 94970 95119 95187 95287 95351\n",
       " 95476 95763 95775 95776 95801 95814 95850 95996 96100 96285 96359 96373\n",
       " 96996 97263 97356 97380 97521 97744 97785 97809 97893 98091 98358 98380\n",
       " 98387 98524 98704 98826 98912 98979 99138 99194 99208 99208 99416 99437\n",
       " 99547 99556 99644 99840]\n"
      ]
     },
     "metadata": {},
     "output_type": "display_data"
    }
   ],
   "source": [
    "# use numpy random number function to generate atleast 1000 numbers between the range of 1 to 100000. after generating, perform the following operations \n",
    "\n",
    "arr = np.random.randint(1,100000, size = 1000)\n",
    "#part1 sorte the array\n",
    "arrnew = np.sort(arr)\n",
    "print(arrnew)"
   ]
  },
  {
   "cell_type": "code",
   "execution_count": null,
   "id": "c07444dc",
   "metadata": {},
   "outputs": [
    {
     "data": {
      "text/plain": [
       "32\n"
      ]
     },
     "metadata": {},
     "output_type": "display_data"
    }
   ],
   "source": [
    "# part2 determine the maximum and minmum element\n",
    "minele = np.min(arr)\n",
    "maxele = np.max(arr)\n",
    "print(minele)"
   ]
  },
  {
   "cell_type": "code",
   "execution_count": null,
   "id": "698333aa",
   "metadata": {},
   "outputs": [
    {
     "data": {
      "text/plain": [
       "99840\n"
      ]
     },
     "metadata": {},
     "output_type": "display_data"
    }
   ],
   "source": [
    "print(maxele)"
   ]
  },
  {
   "cell_type": "code",
   "execution_count": null,
   "id": "652c5cbc",
   "metadata": {},
   "outputs": [
    {
     "data": {
      "text/plain": [
       "49763.347\n"
      ]
     },
     "metadata": {},
     "output_type": "display_data"
    }
   ],
   "source": [
    "# determine the averate or the mean\n",
    "arrmean = np.mean(arr)\n",
    "print(arrmean)"
   ]
  },
  {
   "cell_type": "code",
   "execution_count": null,
   "id": "5ede5b4d",
   "metadata": {},
   "outputs": [
    {
     "data": {
      "text/plain": [
       "49820.5\n"
      ]
     },
     "metadata": {},
     "output_type": "display_data"
    }
   ],
   "source": [
    "np.median(arr)"
   ]
  },
  {
   "cell_type": "code",
   "execution_count": null,
   "id": "2e4c1013",
   "metadata": {},
   "outputs": [
    {
     "data": {
      "text/plain": [
       "ModeResult(mode=30540, count=2)\n"
      ]
     },
     "metadata": {},
     "output_type": "display_data"
    }
   ],
   "source": [
    "# from scipy import stats\n",
    "stats.mode(arr)"
   ]
  },
  {
   "cell_type": "code",
   "execution_count": null,
   "id": "4f13cb92",
   "metadata": {},
   "outputs": [
    {
     "data": {
      "text/plain": [
       "28796.656708072744\n"
      ]
     },
     "metadata": {},
     "output_type": "display_data"
    }
   ],
   "source": [
    "np.std(arr)"
   ]
  },
  {
   "cell_type": "code",
   "execution_count": null,
   "id": "793cb45c",
   "metadata": {},
   "outputs": [],
   "source": [
    "# a random permutation refers to an arrangement of elements.\n",
    "# for example [4,3,2,1] is a random permutation of [1,2,3,4]\n",
    "#a lot of other permutations are possible as well but we get only i\n",
    "#random permutaton by using methods of numpy random modul\n",
    "# numpy random module has 2 methods to find out reandom permutation\n"
   ]
  },
  {
   "cell_type": "code",
   "execution_count": null,
   "id": "10599db2",
   "metadata": {},
   "outputs": [
    {
     "data": {
      "text/plain": [
       "[4 2 5 1 3]\n"
      ]
     },
     "metadata": {},
     "output_type": "display_data"
    }
   ],
   "source": [
    "# method 1: shuffle() method\n",
    "arr = np.array([1,2,3,4,5])\n",
    "np.random.shuffle(arr)\n",
    "# the shuffle method makes changes to the original array \n",
    "print(arr)"
   ]
  },
  {
   "cell_type": "code",
   "execution_count": null,
   "id": "0298416a",
   "metadata": {},
   "outputs": [
    {
     "data": {
      "text/plain": [
       "[5 4 3 2 1]\n"
      ]
     },
     "metadata": {},
     "output_type": "display_data"
    }
   ],
   "source": [
    "arr = np.array([1,2,3,4,5])\n",
    "print(np.random.permutation(arr))"
   ]
  },
  {
   "cell_type": "code",
   "execution_count": null,
   "id": "03fb06d0",
   "metadata": {},
   "outputs": [
    {
     "data": {
      "text/plain": [
       "[1 2 3 4 5]\n"
      ]
     },
     "metadata": {},
     "output_type": "display_data"
    }
   ],
   "source": [
    "print(arr) \n"
   ]
  },
  {
   "cell_type": "code",
   "execution_count": null,
   "id": "11970eac",
   "metadata": {},
   "outputs": [],
   "source": [
    "# as you can see the permutation method does not change the orignal array "
   ]
  },
  {
   "cell_type": "code",
   "execution_count": null,
   "id": "f95c51f9",
   "metadata": {},
   "outputs": [
    {
     "data": {
      "text/plain": [
       "[2 6 2 8 8 9 3 1 2 1]\n"
      ]
     },
     "metadata": {},
     "output_type": "display_data"
    }
   ],
   "source": [
    "arrn = np.random.randint(1, 10, size = 10)\n",
    "print(arrn)"
   ]
  },
  {
   "cell_type": "code",
   "execution_count": null,
   "id": "d2a55f63",
   "metadata": {},
   "outputs": [
    {
     "data": {
      "text/plain": [
       "[1 1 2 2 2 3 6 8 8 9]\n"
      ]
     },
     "metadata": {},
     "output_type": "display_data"
    }
   ],
   "source": [
    "x = np.sort(arrn)\n",
    "print(x) \n"
   ]
  },
  {
   "cell_type": "code",
   "execution_count": 5,
   "id": "6fa32dc2",
   "metadata": {},
   "outputs": [
    {
     "ename": "NameError",
     "evalue": "name 'x' is not defined",
     "output_type": "error",
     "traceback": [
      "\u001b[1;31m---------------------------------------------------------------------------\u001b[0m",
      "\u001b[1;31mNameError\u001b[0m                                 Traceback (most recent call last)",
      "Cell \u001b[1;32mIn[5], line 1\u001b[0m\n\u001b[1;32m----> 1\u001b[0m \u001b[38;5;28mprint\u001b[39m(np\u001b[38;5;241m.\u001b[39mrandom\u001b[38;5;241m.\u001b[39mpermutation(\u001b[43mx\u001b[49m))\n",
      "\u001b[1;31mNameError\u001b[0m: name 'x' is not defined"
     ]
    }
   ],
   "source": [
    "print(np.random.permutation(x))"
   ]
  },
  {
   "cell_type": "code",
   "execution_count": 6,
   "id": "13398a2f",
   "metadata": {},
   "outputs": [],
   "source": [
    "#generate a random normal distribution of size 3*3 with mean 1 and standard deviation 2"
   ]
  },
  {
   "cell_type": "code",
   "execution_count": 7,
   "id": "49c9ce54",
   "metadata": {},
   "outputs": [
    {
     "name": "stdout",
     "output_type": "stream",
     "text": [
      "[1 2 3 4 5]\n"
     ]
    }
   ],
   "source": [
    "import numpy as np\n",
    "arr = np.array([1,2,3,4,5])\n",
    "print(arr)"
   ]
  },
  {
   "cell_type": "code",
   "execution_count": 12,
   "id": "52ce4852",
   "metadata": {},
   "outputs": [
    {
     "name": "stdout",
     "output_type": "stream",
     "text": [
      "[4 8 4 1 2 9 9 9 1 4]\n"
     ]
    }
   ],
   "source": [
    "arrn = np.random.randint(1, 10, size = 10)\n",
    "print(arrn)"
   ]
  },
  {
   "cell_type": "code",
   "execution_count": 1,
   "id": "d3f2895b",
   "metadata": {},
   "outputs": [
    {
     "name": "stdout",
     "output_type": "stream",
     "text": [
      "[[ 2.48441993 -3.132748   -1.45830913]\n",
      " [ 1.60947098  0.19417913  1.25335328]]\n"
     ]
    }
   ],
   "source": [
    "from numpy import random\n",
    "x = random.normal(loc =1, scale = 2, size = (2,3))\n",
    "print(x)\n"
   ]
  },
  {
   "cell_type": "code",
   "execution_count": 2,
   "id": "bbe5e699",
   "metadata": {},
   "outputs": [],
   "source": [
    "import matplotlib.pyplot as plt"
   ]
  },
  {
   "cell_type": "code",
   "execution_count": 3,
   "id": "894d9809",
   "metadata": {},
   "outputs": [],
   "source": [
    "import seaborn as sns"
   ]
  },
  {
   "cell_type": "code",
   "execution_count": 4,
   "id": "66357fe7",
   "metadata": {},
   "outputs": [
    {
     "name": "stderr",
     "output_type": "stream",
     "text": [
      "C:\\Users\\hp.1\\AppData\\Local\\Temp\\ipykernel_5392\\2035011182.py:1: UserWarning: \n",
      "\n",
      "`distplot` is a deprecated function and will be removed in seaborn v0.14.0.\n",
      "\n",
      "Please adapt your code to use either `displot` (a figure-level function with\n",
      "similar flexibility) or `kdeplot` (an axes-level function for kernel density plots).\n",
      "\n",
      "For a guide to updating your code to use the new functions, please see\n",
      "https://gist.github.com/mwaskom/de44147ed2974457ad6372750bbe5751\n",
      "\n",
      "  sns.distplot(random.normal(size=1000), hist = False)\n"
     ]
    },
    {
     "data": {
      "text/plain": [
       "<Axes: ylabel='Density'>"
      ]
     },
     "execution_count": 4,
     "metadata": {},
     "output_type": "execute_result"
    },
    {
     "data": {
      "image/png": "[encoded data removed]",
      "text/plain": [
       "<Figure size 640x480 with 1 Axes>"
      ]
     },
     "metadata": {},
     "output_type": "display_data"
    }
   ],
   "source": [
    "sns.distplot(random.normal(size=1000), hist = False)"
   ]
  },
  {
   "cell_type": "code",
   "execution_count": null,
   "id": "47570b5e",
   "metadata": {},
   "outputs": [],
   "source": [
    "# here we have 3 important parameters\n",
    "# n - number of trials, p - probability of trial and size"
   ]
  },
  {
   "cell_type": "code",
   "execution_count": 5,
   "id": "9a339b17",
   "metadata": {},
   "outputs": [],
   "source": [
    "# given 12 trials for a coin toss generate 10 data points\n",
    "\n",
    "# after analysing the problem, we can say thta here:\n",
    "# n=12, p=0.5, size=10"
   ]
  },
  {
   "cell_type": "code",
   "execution_count": 6,
   "id": "83293b61",
   "metadata": {},
   "outputs": [
    {
     "name": "stdout",
     "output_type": "stream",
     "text": [
      "[5 4 5 4 4 5 2 5 6 4]\n"
     ]
    }
   ],
   "source": [
    "from numpy import random\n",
    "x = random.binomial(n=10, p=0.5, size=10)\n",
    "print(x)"
   ]
  },
  {
   "cell_type": "code",
   "execution_count": 7,
   "id": "b44d8ec0",
   "metadata": {},
   "outputs": [],
   "source": [
    "# lets visualize the binomial distribution now\n",
    "# let n = 10, p =0.5, size =10000"
   ]
  },
  {
   "cell_type": "code",
   "execution_count": 11,
   "id": "5e1c149d",
   "metadata": {},
   "outputs": [
    {
     "ename": "AttributeError",
     "evalue": "Rectangle.set() got an unexpected keyword argument 'hist'",
     "output_type": "error",
     "traceback": [
      "\u001b[1;31m---------------------------------------------------------------------------\u001b[0m",
      "\u001b[1;31mAttributeError\u001b[0m                            Traceback (most recent call last)",
      "Cell \u001b[1;32mIn[11], line 5\u001b[0m\n\u001b[0;32m      2\u001b[0m \u001b[38;5;28;01mimport\u001b[39;00m \u001b[38;5;21;01mmatplotlib\u001b[39;00m\u001b[38;5;21;01m.\u001b[39;00m\u001b[38;5;21;01mpyplot\u001b[39;00m \u001b[38;5;28;01mas\u001b[39;00m \u001b[38;5;21;01mplt\u001b[39;00m\n\u001b[0;32m      3\u001b[0m \u001b[38;5;28;01mimport\u001b[39;00m \u001b[38;5;21;01mseaborn\u001b[39;00m \u001b[38;5;28;01mas\u001b[39;00m \u001b[38;5;21;01msns\u001b[39;00m\n\u001b[1;32m----> 5\u001b[0m \u001b[43msns\u001b[49m\u001b[38;5;241;43m.\u001b[39;49m\u001b[43mdisplot\u001b[49m\u001b[43m(\u001b[49m\u001b[43mrandom\u001b[49m\u001b[38;5;241;43m.\u001b[39;49m\u001b[43mbinomial\u001b[49m\u001b[43m(\u001b[49m\u001b[43mn\u001b[49m\u001b[38;5;241;43m=\u001b[39;49m\u001b[38;5;241;43m10\u001b[39;49m\u001b[43m,\u001b[49m\u001b[43m \u001b[49m\u001b[43mp\u001b[49m\u001b[38;5;241;43m=\u001b[39;49m\u001b[38;5;241;43m0.5\u001b[39;49m\u001b[43m,\u001b[49m\u001b[43m \u001b[49m\u001b[43msize\u001b[49m\u001b[43m \u001b[49m\u001b[38;5;241;43m=\u001b[39;49m\u001b[43m \u001b[49m\u001b[38;5;241;43m10000\u001b[39;49m\u001b[43m)\u001b[49m\u001b[43m,\u001b[49m\u001b[43m \u001b[49m\u001b[43mhist\u001b[49m\u001b[43m \u001b[49m\u001b[38;5;241;43m=\u001b[39;49m\u001b[43m \u001b[49m\u001b[38;5;28;43;01mTrue\u001b[39;49;00m\u001b[43m,\u001b[49m\u001b[43m \u001b[49m\u001b[43mkde\u001b[49m\u001b[43m \u001b[49m\u001b[38;5;241;43m=\u001b[39;49m\u001b[43m \u001b[49m\u001b[38;5;28;43;01mFalse\u001b[39;49;00m\u001b[43m)\u001b[49m\n",
      "File \u001b[1;32m~\\AppData\\Roaming\\Python\\Python312\\site-packages\\seaborn\\distributions.py:2193\u001b[0m, in \u001b[0;36mdisplot\u001b[1;34m(data, x, y, hue, row, col, weights, kind, rug, rug_kws, log_scale, legend, palette, hue_order, hue_norm, color, col_wrap, row_order, col_order, height, aspect, facet_kws, **kwargs)\u001b[0m\n\u001b[0;32m   2190\u001b[0m \u001b[38;5;28;01mif\u001b[39;00m p\u001b[38;5;241m.\u001b[39munivariate:\n\u001b[0;32m   2192\u001b[0m     _assign_default_kwargs(hist_kws, p\u001b[38;5;241m.\u001b[39mplot_univariate_histogram, histplot)\n\u001b[1;32m-> 2193\u001b[0m     \u001b[43mp\u001b[49m\u001b[38;5;241;43m.\u001b[39;49m\u001b[43mplot_univariate_histogram\u001b[49m\u001b[43m(\u001b[49m\u001b[38;5;241;43m*\u001b[39;49m\u001b[38;5;241;43m*\u001b[39;49m\u001b[43mhist_kws\u001b[49m\u001b[43m)\u001b[49m\n\u001b[0;32m   2195\u001b[0m \u001b[38;5;28;01melse\u001b[39;00m:\n\u001b[0;32m   2197\u001b[0m     _assign_default_kwargs(hist_kws, p\u001b[38;5;241m.\u001b[39mplot_bivariate_histogram, histplot)\n",
      "File \u001b[1;32m~\\AppData\\Roaming\\Python\\Python312\\site-packages\\seaborn\\distributions.py:571\u001b[0m, in \u001b[0;36m_DistributionPlotter.plot_univariate_histogram\u001b[1;34m(self, multiple, element, fill, common_norm, common_bins, shrink, kde, kde_kws, color, legend, line_kws, estimate_kws, **plot_kws)\u001b[0m\n\u001b[0;32m    566\u001b[0m \u001b[38;5;28;01mif\u001b[39;00m element \u001b[38;5;241m==\u001b[39m \u001b[38;5;124m\"\u001b[39m\u001b[38;5;124mbars\u001b[39m\u001b[38;5;124m\"\u001b[39m:\n\u001b[0;32m    567\u001b[0m \n\u001b[0;32m    568\u001b[0m     \u001b[38;5;66;03m# Use matplotlib bar plotting\u001b[39;00m\n\u001b[0;32m    570\u001b[0m     plot_func \u001b[38;5;241m=\u001b[39m ax\u001b[38;5;241m.\u001b[39mbar \u001b[38;5;28;01mif\u001b[39;00m \u001b[38;5;28mself\u001b[39m\u001b[38;5;241m.\u001b[39mdata_variable \u001b[38;5;241m==\u001b[39m \u001b[38;5;124m\"\u001b[39m\u001b[38;5;124mx\u001b[39m\u001b[38;5;124m\"\u001b[39m \u001b[38;5;28;01melse\u001b[39;00m ax\u001b[38;5;241m.\u001b[39mbarh\n\u001b[1;32m--> 571\u001b[0m     artists \u001b[38;5;241m=\u001b[39m \u001b[43mplot_func\u001b[49m\u001b[43m(\u001b[49m\n\u001b[0;32m    572\u001b[0m \u001b[43m        \u001b[49m\u001b[43mhist\u001b[49m\u001b[43m[\u001b[49m\u001b[38;5;124;43m\"\u001b[39;49m\u001b[38;5;124;43medges\u001b[39;49m\u001b[38;5;124;43m\"\u001b[39;49m\u001b[43m]\u001b[49m\u001b[43m,\u001b[49m\n\u001b[0;32m    573\u001b[0m \u001b[43m        \u001b[49m\u001b[43mhist\u001b[49m\u001b[43m[\u001b[49m\u001b[38;5;124;43m\"\u001b[39;49m\u001b[38;5;124;43mheights\u001b[39;49m\u001b[38;5;124;43m\"\u001b[39;49m\u001b[43m]\u001b[49m\u001b[43m \u001b[49m\u001b[38;5;241;43m-\u001b[39;49m\u001b[43m \u001b[49m\u001b[43mbottom\u001b[49m\u001b[43m,\u001b[49m\n\u001b[0;32m    574\u001b[0m \u001b[43m        \u001b[49m\u001b[43mhist\u001b[49m\u001b[43m[\u001b[49m\u001b[38;5;124;43m\"\u001b[39;49m\u001b[38;5;124;43mwidths\u001b[39;49m\u001b[38;5;124;43m\"\u001b[39;49m\u001b[43m]\u001b[49m\u001b[43m,\u001b[49m\n\u001b[0;32m    575\u001b[0m \u001b[43m        \u001b[49m\u001b[43mbottom\u001b[49m\u001b[43m,\u001b[49m\n\u001b[0;32m    576\u001b[0m \u001b[43m        \u001b[49m\u001b[43malign\u001b[49m\u001b[38;5;241;43m=\u001b[39;49m\u001b[38;5;124;43m\"\u001b[39;49m\u001b[38;5;124;43medge\u001b[39;49m\u001b[38;5;124;43m\"\u001b[39;49m\u001b[43m,\u001b[49m\n\u001b[0;32m    577\u001b[0m \u001b[43m        \u001b[49m\u001b[38;5;241;43m*\u001b[39;49m\u001b[38;5;241;43m*\u001b[39;49m\u001b[43martist_kws\u001b[49m\u001b[43m,\u001b[49m\n\u001b[0;32m    578\u001b[0m \u001b[43m    \u001b[49m\u001b[43m)\u001b[49m\n\u001b[0;32m    580\u001b[0m     \u001b[38;5;28;01mfor\u001b[39;00m bar \u001b[38;5;129;01min\u001b[39;00m artists:\n\u001b[0;32m    581\u001b[0m         \u001b[38;5;28;01mif\u001b[39;00m \u001b[38;5;28mself\u001b[39m\u001b[38;5;241m.\u001b[39mdata_variable \u001b[38;5;241m==\u001b[39m \u001b[38;5;124m\"\u001b[39m\u001b[38;5;124mx\u001b[39m\u001b[38;5;124m\"\u001b[39m:\n",
      "File \u001b[1;32m~\\AppData\\Roaming\\Python\\Python312\\site-packages\\matplotlib\\__init__.py:1478\u001b[0m, in \u001b[0;36m_preprocess_data.<locals>.inner\u001b[1;34m(ax, data, *args, **kwargs)\u001b[0m\n\u001b[0;32m   1475\u001b[0m \u001b[38;5;129m@functools\u001b[39m\u001b[38;5;241m.\u001b[39mwraps(func)\n\u001b[0;32m   1476\u001b[0m \u001b[38;5;28;01mdef\u001b[39;00m \u001b[38;5;21minner\u001b[39m(ax, \u001b[38;5;241m*\u001b[39margs, data\u001b[38;5;241m=\u001b[39m\u001b[38;5;28;01mNone\u001b[39;00m, \u001b[38;5;241m*\u001b[39m\u001b[38;5;241m*\u001b[39mkwargs):\n\u001b[0;32m   1477\u001b[0m     \u001b[38;5;28;01mif\u001b[39;00m data \u001b[38;5;129;01mis\u001b[39;00m \u001b[38;5;28;01mNone\u001b[39;00m:\n\u001b[1;32m-> 1478\u001b[0m         \u001b[38;5;28;01mreturn\u001b[39;00m \u001b[43mfunc\u001b[49m\u001b[43m(\u001b[49m\u001b[43max\u001b[49m\u001b[43m,\u001b[49m\u001b[43m \u001b[49m\u001b[38;5;241;43m*\u001b[39;49m\u001b[38;5;28;43mmap\u001b[39;49m\u001b[43m(\u001b[49m\u001b[43msanitize_sequence\u001b[49m\u001b[43m,\u001b[49m\u001b[43m \u001b[49m\u001b[43margs\u001b[49m\u001b[43m)\u001b[49m\u001b[43m,\u001b[49m\u001b[43m \u001b[49m\u001b[38;5;241;43m*\u001b[39;49m\u001b[38;5;241;43m*\u001b[39;49m\u001b[43mkwargs\u001b[49m\u001b[43m)\u001b[49m\n\u001b[0;32m   1480\u001b[0m     bound \u001b[38;5;241m=\u001b[39m new_sig\u001b[38;5;241m.\u001b[39mbind(ax, \u001b[38;5;241m*\u001b[39margs, \u001b[38;5;241m*\u001b[39m\u001b[38;5;241m*\u001b[39mkwargs)\n\u001b[0;32m   1481\u001b[0m     auto_label \u001b[38;5;241m=\u001b[39m (bound\u001b[38;5;241m.\u001b[39marguments\u001b[38;5;241m.\u001b[39mget(label_namer)\n\u001b[0;32m   1482\u001b[0m                   \u001b[38;5;129;01mor\u001b[39;00m bound\u001b[38;5;241m.\u001b[39mkwargs\u001b[38;5;241m.\u001b[39mget(label_namer))\n",
      "File \u001b[1;32m~\\AppData\\Roaming\\Python\\Python312\\site-packages\\matplotlib\\axes\\_axes.py:2528\u001b[0m, in \u001b[0;36mAxes.bar\u001b[1;34m(self, x, height, width, bottom, align, **kwargs)\u001b[0m\n\u001b[0;32m   2519\u001b[0m \u001b[38;5;28;01mfor\u001b[39;00m l, b, w, h, c, e, lw, htch, lbl \u001b[38;5;129;01min\u001b[39;00m args:\n\u001b[0;32m   2520\u001b[0m     r \u001b[38;5;241m=\u001b[39m mpatches\u001b[38;5;241m.\u001b[39mRectangle(\n\u001b[0;32m   2521\u001b[0m         xy\u001b[38;5;241m=\u001b[39m(l, b), width\u001b[38;5;241m=\u001b[39mw, height\u001b[38;5;241m=\u001b[39mh,\n\u001b[0;32m   2522\u001b[0m         facecolor\u001b[38;5;241m=\u001b[39mc,\n\u001b[1;32m   (...)\u001b[0m\n\u001b[0;32m   2526\u001b[0m         hatch\u001b[38;5;241m=\u001b[39mhtch,\n\u001b[0;32m   2527\u001b[0m         )\n\u001b[1;32m-> 2528\u001b[0m     \u001b[43mr\u001b[49m\u001b[38;5;241;43m.\u001b[39;49m\u001b[43m_internal_update\u001b[49m\u001b[43m(\u001b[49m\u001b[43mkwargs\u001b[49m\u001b[43m)\u001b[49m\n\u001b[0;32m   2529\u001b[0m     r\u001b[38;5;241m.\u001b[39mget_path()\u001b[38;5;241m.\u001b[39m_interpolation_steps \u001b[38;5;241m=\u001b[39m \u001b[38;5;241m100\u001b[39m\n\u001b[0;32m   2530\u001b[0m     \u001b[38;5;28;01mif\u001b[39;00m orientation \u001b[38;5;241m==\u001b[39m \u001b[38;5;124m'\u001b[39m\u001b[38;5;124mvertical\u001b[39m\u001b[38;5;124m'\u001b[39m:\n",
      "File \u001b[1;32m~\\AppData\\Roaming\\Python\\Python312\\site-packages\\matplotlib\\artist.py:1219\u001b[0m, in \u001b[0;36mArtist._internal_update\u001b[1;34m(self, kwargs)\u001b[0m\n\u001b[0;32m   1212\u001b[0m \u001b[38;5;28;01mdef\u001b[39;00m \u001b[38;5;21m_internal_update\u001b[39m(\u001b[38;5;28mself\u001b[39m, kwargs):\n\u001b[0;32m   1213\u001b[0m \u001b[38;5;250m    \u001b[39m\u001b[38;5;124;03m\"\"\"\u001b[39;00m\n\u001b[0;32m   1214\u001b[0m \u001b[38;5;124;03m    Update artist properties without prenormalizing them, but generating\u001b[39;00m\n\u001b[0;32m   1215\u001b[0m \u001b[38;5;124;03m    errors as if calling `set`.\u001b[39;00m\n\u001b[0;32m   1216\u001b[0m \n\u001b[0;32m   1217\u001b[0m \u001b[38;5;124;03m    The lack of prenormalization is to maintain backcompatibility.\u001b[39;00m\n\u001b[0;32m   1218\u001b[0m \u001b[38;5;124;03m    \"\"\"\u001b[39;00m\n\u001b[1;32m-> 1219\u001b[0m     \u001b[38;5;28;01mreturn\u001b[39;00m \u001b[38;5;28;43mself\u001b[39;49m\u001b[38;5;241;43m.\u001b[39;49m\u001b[43m_update_props\u001b[49m\u001b[43m(\u001b[49m\n\u001b[0;32m   1220\u001b[0m \u001b[43m        \u001b[49m\u001b[43mkwargs\u001b[49m\u001b[43m,\u001b[49m\u001b[43m \u001b[49m\u001b[38;5;124;43m\"\u001b[39;49m\u001b[38;5;132;43;01m{cls.__name__}\u001b[39;49;00m\u001b[38;5;124;43m.set() got an unexpected keyword argument \u001b[39;49m\u001b[38;5;124;43m\"\u001b[39;49m\n\u001b[0;32m   1221\u001b[0m \u001b[43m        \u001b[49m\u001b[38;5;124;43m\"\u001b[39;49m\u001b[38;5;132;43;01m{prop_name!r}\u001b[39;49;00m\u001b[38;5;124;43m\"\u001b[39;49m\u001b[43m)\u001b[49m\n",
      "File \u001b[1;32m~\\AppData\\Roaming\\Python\\Python312\\site-packages\\matplotlib\\artist.py:1193\u001b[0m, in \u001b[0;36mArtist._update_props\u001b[1;34m(self, props, errfmt)\u001b[0m\n\u001b[0;32m   1191\u001b[0m             func \u001b[38;5;241m=\u001b[39m \u001b[38;5;28mgetattr\u001b[39m(\u001b[38;5;28mself\u001b[39m, \u001b[38;5;124mf\u001b[39m\u001b[38;5;124m\"\u001b[39m\u001b[38;5;124mset_\u001b[39m\u001b[38;5;132;01m{\u001b[39;00mk\u001b[38;5;132;01m}\u001b[39;00m\u001b[38;5;124m\"\u001b[39m, \u001b[38;5;28;01mNone\u001b[39;00m)\n\u001b[0;32m   1192\u001b[0m             \u001b[38;5;28;01mif\u001b[39;00m \u001b[38;5;129;01mnot\u001b[39;00m \u001b[38;5;28mcallable\u001b[39m(func):\n\u001b[1;32m-> 1193\u001b[0m                 \u001b[38;5;28;01mraise\u001b[39;00m \u001b[38;5;167;01mAttributeError\u001b[39;00m(\n\u001b[0;32m   1194\u001b[0m                     errfmt\u001b[38;5;241m.\u001b[39mformat(\u001b[38;5;28mcls\u001b[39m\u001b[38;5;241m=\u001b[39m\u001b[38;5;28mtype\u001b[39m(\u001b[38;5;28mself\u001b[39m), prop_name\u001b[38;5;241m=\u001b[39mk))\n\u001b[0;32m   1195\u001b[0m             ret\u001b[38;5;241m.\u001b[39mappend(func(v))\n\u001b[0;32m   1196\u001b[0m \u001b[38;5;28;01mif\u001b[39;00m ret:\n",
      "\u001b[1;31mAttributeError\u001b[0m: Rectangle.set() got an unexpected keyword argument 'hist'"
     ]
    },
    {
     "data": {
      "image/png": "[encoded data removed]",
      "text/plain": [
       "<Figure size 500x500 with 1 Axes>"
      ]
     },
     "metadata": {},
     "output_type": "display_data"
    }
   ],
   "source": [
    "from numpy import random\n",
    "import matplotlib.pyplot as plt\n",
    "import seaborn as sns\n",
    "\n",
    "sns.displot(random.binomial(n=10, p=0.5, size = 10000), hist = True, kde = False)"
   ]
  },
  {
   "cell_type": "code",
   "execution_count": null,
   "id": "7583d094",
   "metadata": {},
   "outputs": [],
   "source": [
    "# 3 important parameter here are:\n",
    "# a - lower bound (default 0)\n",
    "# b - upper bound defauld 1\n",
    "# size - the shape of the returned array"
   ]
  },
  {
   "cell_type": "code",
   "execution_count": 12,
   "id": "e2a850ff",
   "metadata": {},
   "outputs": [
    {
     "name": "stdout",
     "output_type": "stream",
     "text": [
      "[[0.66663915 0.75112621 0.90522106]\n",
      " [0.22006507 0.2171101  0.62576329]\n",
      " [0.66574178 0.83322261 0.54964964]]\n"
     ]
    }
   ],
   "source": [
    "from numpy import random\n",
    "x = random.uniform(size = (3,3))\n",
    "print(x)"
   ]
  },
  {
   "cell_type": "code",
   "execution_count": 13,
   "id": "2b0f55f2",
   "metadata": {},
   "outputs": [
    {
     "ename": "AttributeError",
     "evalue": "Rectangle.set() got an unexpected keyword argument 'hist'",
     "output_type": "error",
     "traceback": [
      "\u001b[1;31m---------------------------------------------------------------------------\u001b[0m",
      "\u001b[1;31mAttributeError\u001b[0m                            Traceback (most recent call last)",
      "Cell \u001b[1;32mIn[13], line 3\u001b[0m\n\u001b[0;32m      1\u001b[0m \u001b[38;5;28;01mimport\u001b[39;00m \u001b[38;5;21;01mmatplotlib\u001b[39;00m\u001b[38;5;21;01m.\u001b[39;00m\u001b[38;5;21;01mpyplot\u001b[39;00m \u001b[38;5;28;01mas\u001b[39;00m \u001b[38;5;21;01mplt\u001b[39;00m\n\u001b[0;32m      2\u001b[0m \u001b[38;5;28;01mimport\u001b[39;00m \u001b[38;5;21;01mseaborn\u001b[39;00m \u001b[38;5;28;01mas\u001b[39;00m \u001b[38;5;21;01msns\u001b[39;00m\n\u001b[1;32m----> 3\u001b[0m \u001b[43msns\u001b[49m\u001b[38;5;241;43m.\u001b[39;49m\u001b[43mdisplot\u001b[49m\u001b[43m(\u001b[49m\u001b[43mrandom\u001b[49m\u001b[38;5;241;43m.\u001b[39;49m\u001b[43muniform\u001b[49m\u001b[43m(\u001b[49m\u001b[43msize\u001b[49m\u001b[38;5;241;43m=\u001b[39;49m\u001b[38;5;241;43m1000\u001b[39;49m\u001b[43m)\u001b[49m\u001b[43m,\u001b[49m\u001b[43m \u001b[49m\u001b[43mhist\u001b[49m\u001b[38;5;241;43m=\u001b[39;49m\u001b[38;5;28;43;01mFalse\u001b[39;49;00m\u001b[43m)\u001b[49m\n",
      "File \u001b[1;32m~\\AppData\\Roaming\\Python\\Python312\\site-packages\\seaborn\\distributions.py:2193\u001b[0m, in \u001b[0;36mdisplot\u001b[1;34m(data, x, y, hue, row, col, weights, kind, rug, rug_kws, log_scale, legend, palette, hue_order, hue_norm, color, col_wrap, row_order, col_order, height, aspect, facet_kws, **kwargs)\u001b[0m\n\u001b[0;32m   2190\u001b[0m \u001b[38;5;28;01mif\u001b[39;00m p\u001b[38;5;241m.\u001b[39munivariate:\n\u001b[0;32m   2192\u001b[0m     _assign_default_kwargs(hist_kws, p\u001b[38;5;241m.\u001b[39mplot_univariate_histogram, histplot)\n\u001b[1;32m-> 2193\u001b[0m     \u001b[43mp\u001b[49m\u001b[38;5;241;43m.\u001b[39;49m\u001b[43mplot_univariate_histogram\u001b[49m\u001b[43m(\u001b[49m\u001b[38;5;241;43m*\u001b[39;49m\u001b[38;5;241;43m*\u001b[39;49m\u001b[43mhist_kws\u001b[49m\u001b[43m)\u001b[49m\n\u001b[0;32m   2195\u001b[0m \u001b[38;5;28;01melse\u001b[39;00m:\n\u001b[0;32m   2197\u001b[0m     _assign_default_kwargs(hist_kws, p\u001b[38;5;241m.\u001b[39mplot_bivariate_histogram, histplot)\n",
      "File \u001b[1;32m~\\AppData\\Roaming\\Python\\Python312\\site-packages\\seaborn\\distributions.py:571\u001b[0m, in \u001b[0;36m_DistributionPlotter.plot_univariate_histogram\u001b[1;34m(self, multiple, element, fill, common_norm, common_bins, shrink, kde, kde_kws, color, legend, line_kws, estimate_kws, **plot_kws)\u001b[0m\n\u001b[0;32m    566\u001b[0m \u001b[38;5;28;01mif\u001b[39;00m element \u001b[38;5;241m==\u001b[39m \u001b[38;5;124m\"\u001b[39m\u001b[38;5;124mbars\u001b[39m\u001b[38;5;124m\"\u001b[39m:\n\u001b[0;32m    567\u001b[0m \n\u001b[0;32m    568\u001b[0m     \u001b[38;5;66;03m# Use matplotlib bar plotting\u001b[39;00m\n\u001b[0;32m    570\u001b[0m     plot_func \u001b[38;5;241m=\u001b[39m ax\u001b[38;5;241m.\u001b[39mbar \u001b[38;5;28;01mif\u001b[39;00m \u001b[38;5;28mself\u001b[39m\u001b[38;5;241m.\u001b[39mdata_variable \u001b[38;5;241m==\u001b[39m \u001b[38;5;124m\"\u001b[39m\u001b[38;5;124mx\u001b[39m\u001b[38;5;124m\"\u001b[39m \u001b[38;5;28;01melse\u001b[39;00m ax\u001b[38;5;241m.\u001b[39mbarh\n\u001b[1;32m--> 571\u001b[0m     artists \u001b[38;5;241m=\u001b[39m \u001b[43mplot_func\u001b[49m\u001b[43m(\u001b[49m\n\u001b[0;32m    572\u001b[0m \u001b[43m        \u001b[49m\u001b[43mhist\u001b[49m\u001b[43m[\u001b[49m\u001b[38;5;124;43m\"\u001b[39;49m\u001b[38;5;124;43medges\u001b[39;49m\u001b[38;5;124;43m\"\u001b[39;49m\u001b[43m]\u001b[49m\u001b[43m,\u001b[49m\n\u001b[0;32m    573\u001b[0m \u001b[43m        \u001b[49m\u001b[43mhist\u001b[49m\u001b[43m[\u001b[49m\u001b[38;5;124;43m\"\u001b[39;49m\u001b[38;5;124;43mheights\u001b[39;49m\u001b[38;5;124;43m\"\u001b[39;49m\u001b[43m]\u001b[49m\u001b[43m \u001b[49m\u001b[38;5;241;43m-\u001b[39;49m\u001b[43m \u001b[49m\u001b[43mbottom\u001b[49m\u001b[43m,\u001b[49m\n\u001b[0;32m    574\u001b[0m \u001b[43m        \u001b[49m\u001b[43mhist\u001b[49m\u001b[43m[\u001b[49m\u001b[38;5;124;43m\"\u001b[39;49m\u001b[38;5;124;43mwidths\u001b[39;49m\u001b[38;5;124;43m\"\u001b[39;49m\u001b[43m]\u001b[49m\u001b[43m,\u001b[49m\n\u001b[0;32m    575\u001b[0m \u001b[43m        \u001b[49m\u001b[43mbottom\u001b[49m\u001b[43m,\u001b[49m\n\u001b[0;32m    576\u001b[0m \u001b[43m        \u001b[49m\u001b[43malign\u001b[49m\u001b[38;5;241;43m=\u001b[39;49m\u001b[38;5;124;43m\"\u001b[39;49m\u001b[38;5;124;43medge\u001b[39;49m\u001b[38;5;124;43m\"\u001b[39;49m\u001b[43m,\u001b[49m\n\u001b[0;32m    577\u001b[0m \u001b[43m        \u001b[49m\u001b[38;5;241;43m*\u001b[39;49m\u001b[38;5;241;43m*\u001b[39;49m\u001b[43martist_kws\u001b[49m\u001b[43m,\u001b[49m\n\u001b[0;32m    578\u001b[0m \u001b[43m    \u001b[49m\u001b[43m)\u001b[49m\n\u001b[0;32m    580\u001b[0m     \u001b[38;5;28;01mfor\u001b[39;00m bar \u001b[38;5;129;01min\u001b[39;00m artists:\n\u001b[0;32m    581\u001b[0m         \u001b[38;5;28;01mif\u001b[39;00m \u001b[38;5;28mself\u001b[39m\u001b[38;5;241m.\u001b[39mdata_variable \u001b[38;5;241m==\u001b[39m \u001b[38;5;124m\"\u001b[39m\u001b[38;5;124mx\u001b[39m\u001b[38;5;124m\"\u001b[39m:\n",
      "File \u001b[1;32m~\\AppData\\Roaming\\Python\\Python312\\site-packages\\matplotlib\\__init__.py:1478\u001b[0m, in \u001b[0;36m_preprocess_data.<locals>.inner\u001b[1;34m(ax, data, *args, **kwargs)\u001b[0m\n\u001b[0;32m   1475\u001b[0m \u001b[38;5;129m@functools\u001b[39m\u001b[38;5;241m.\u001b[39mwraps(func)\n\u001b[0;32m   1476\u001b[0m \u001b[38;5;28;01mdef\u001b[39;00m \u001b[38;5;21minner\u001b[39m(ax, \u001b[38;5;241m*\u001b[39margs, data\u001b[38;5;241m=\u001b[39m\u001b[38;5;28;01mNone\u001b[39;00m, \u001b[38;5;241m*\u001b[39m\u001b[38;5;241m*\u001b[39mkwargs):\n\u001b[0;32m   1477\u001b[0m     \u001b[38;5;28;01mif\u001b[39;00m data \u001b[38;5;129;01mis\u001b[39;00m \u001b[38;5;28;01mNone\u001b[39;00m:\n\u001b[1;32m-> 1478\u001b[0m         \u001b[38;5;28;01mreturn\u001b[39;00m \u001b[43mfunc\u001b[49m\u001b[43m(\u001b[49m\u001b[43max\u001b[49m\u001b[43m,\u001b[49m\u001b[43m \u001b[49m\u001b[38;5;241;43m*\u001b[39;49m\u001b[38;5;28;43mmap\u001b[39;49m\u001b[43m(\u001b[49m\u001b[43msanitize_sequence\u001b[49m\u001b[43m,\u001b[49m\u001b[43m \u001b[49m\u001b[43margs\u001b[49m\u001b[43m)\u001b[49m\u001b[43m,\u001b[49m\u001b[43m \u001b[49m\u001b[38;5;241;43m*\u001b[39;49m\u001b[38;5;241;43m*\u001b[39;49m\u001b[43mkwargs\u001b[49m\u001b[43m)\u001b[49m\n\u001b[0;32m   1480\u001b[0m     bound \u001b[38;5;241m=\u001b[39m new_sig\u001b[38;5;241m.\u001b[39mbind(ax, \u001b[38;5;241m*\u001b[39margs, \u001b[38;5;241m*\u001b[39m\u001b[38;5;241m*\u001b[39mkwargs)\n\u001b[0;32m   1481\u001b[0m     auto_label \u001b[38;5;241m=\u001b[39m (bound\u001b[38;5;241m.\u001b[39marguments\u001b[38;5;241m.\u001b[39mget(label_namer)\n\u001b[0;32m   1482\u001b[0m                   \u001b[38;5;129;01mor\u001b[39;00m bound\u001b[38;5;241m.\u001b[39mkwargs\u001b[38;5;241m.\u001b[39mget(label_namer))\n",
      "File \u001b[1;32m~\\AppData\\Roaming\\Python\\Python312\\site-packages\\matplotlib\\axes\\_axes.py:2528\u001b[0m, in \u001b[0;36mAxes.bar\u001b[1;34m(self, x, height, width, bottom, align, **kwargs)\u001b[0m\n\u001b[0;32m   2519\u001b[0m \u001b[38;5;28;01mfor\u001b[39;00m l, b, w, h, c, e, lw, htch, lbl \u001b[38;5;129;01min\u001b[39;00m args:\n\u001b[0;32m   2520\u001b[0m     r \u001b[38;5;241m=\u001b[39m mpatches\u001b[38;5;241m.\u001b[39mRectangle(\n\u001b[0;32m   2521\u001b[0m         xy\u001b[38;5;241m=\u001b[39m(l, b), width\u001b[38;5;241m=\u001b[39mw, height\u001b[38;5;241m=\u001b[39mh,\n\u001b[0;32m   2522\u001b[0m         facecolor\u001b[38;5;241m=\u001b[39mc,\n\u001b[1;32m   (...)\u001b[0m\n\u001b[0;32m   2526\u001b[0m         hatch\u001b[38;5;241m=\u001b[39mhtch,\n\u001b[0;32m   2527\u001b[0m         )\n\u001b[1;32m-> 2528\u001b[0m     \u001b[43mr\u001b[49m\u001b[38;5;241;43m.\u001b[39;49m\u001b[43m_internal_update\u001b[49m\u001b[43m(\u001b[49m\u001b[43mkwargs\u001b[49m\u001b[43m)\u001b[49m\n\u001b[0;32m   2529\u001b[0m     r\u001b[38;5;241m.\u001b[39mget_path()\u001b[38;5;241m.\u001b[39m_interpolation_steps \u001b[38;5;241m=\u001b[39m \u001b[38;5;241m100\u001b[39m\n\u001b[0;32m   2530\u001b[0m     \u001b[38;5;28;01mif\u001b[39;00m orientation \u001b[38;5;241m==\u001b[39m \u001b[38;5;124m'\u001b[39m\u001b[38;5;124mvertical\u001b[39m\u001b[38;5;124m'\u001b[39m:\n",
      "File \u001b[1;32m~\\AppData\\Roaming\\Python\\Python312\\site-packages\\matplotlib\\artist.py:1219\u001b[0m, in \u001b[0;36mArtist._internal_update\u001b[1;34m(self, kwargs)\u001b[0m\n\u001b[0;32m   1212\u001b[0m \u001b[38;5;28;01mdef\u001b[39;00m \u001b[38;5;21m_internal_update\u001b[39m(\u001b[38;5;28mself\u001b[39m, kwargs):\n\u001b[0;32m   1213\u001b[0m \u001b[38;5;250m    \u001b[39m\u001b[38;5;124;03m\"\"\"\u001b[39;00m\n\u001b[0;32m   1214\u001b[0m \u001b[38;5;124;03m    Update artist properties without prenormalizing them, but generating\u001b[39;00m\n\u001b[0;32m   1215\u001b[0m \u001b[38;5;124;03m    errors as if calling `set`.\u001b[39;00m\n\u001b[0;32m   1216\u001b[0m \n\u001b[0;32m   1217\u001b[0m \u001b[38;5;124;03m    The lack of prenormalization is to maintain backcompatibility.\u001b[39;00m\n\u001b[0;32m   1218\u001b[0m \u001b[38;5;124;03m    \"\"\"\u001b[39;00m\n\u001b[1;32m-> 1219\u001b[0m     \u001b[38;5;28;01mreturn\u001b[39;00m \u001b[38;5;28;43mself\u001b[39;49m\u001b[38;5;241;43m.\u001b[39;49m\u001b[43m_update_props\u001b[49m\u001b[43m(\u001b[49m\n\u001b[0;32m   1220\u001b[0m \u001b[43m        \u001b[49m\u001b[43mkwargs\u001b[49m\u001b[43m,\u001b[49m\u001b[43m \u001b[49m\u001b[38;5;124;43m\"\u001b[39;49m\u001b[38;5;132;43;01m{cls.__name__}\u001b[39;49;00m\u001b[38;5;124;43m.set() got an unexpected keyword argument \u001b[39;49m\u001b[38;5;124;43m\"\u001b[39;49m\n\u001b[0;32m   1221\u001b[0m \u001b[43m        \u001b[49m\u001b[38;5;124;43m\"\u001b[39;49m\u001b[38;5;132;43;01m{prop_name!r}\u001b[39;49;00m\u001b[38;5;124;43m\"\u001b[39;49m\u001b[43m)\u001b[49m\n",
      "File \u001b[1;32m~\\AppData\\Roaming\\Python\\Python312\\site-packages\\matplotlib\\artist.py:1193\u001b[0m, in \u001b[0;36mArtist._update_props\u001b[1;34m(self, props, errfmt)\u001b[0m\n\u001b[0;32m   1191\u001b[0m             func \u001b[38;5;241m=\u001b[39m \u001b[38;5;28mgetattr\u001b[39m(\u001b[38;5;28mself\u001b[39m, \u001b[38;5;124mf\u001b[39m\u001b[38;5;124m\"\u001b[39m\u001b[38;5;124mset_\u001b[39m\u001b[38;5;132;01m{\u001b[39;00mk\u001b[38;5;132;01m}\u001b[39;00m\u001b[38;5;124m\"\u001b[39m, \u001b[38;5;28;01mNone\u001b[39;00m)\n\u001b[0;32m   1192\u001b[0m             \u001b[38;5;28;01mif\u001b[39;00m \u001b[38;5;129;01mnot\u001b[39;00m \u001b[38;5;28mcallable\u001b[39m(func):\n\u001b[1;32m-> 1193\u001b[0m                 \u001b[38;5;28;01mraise\u001b[39;00m \u001b[38;5;167;01mAttributeError\u001b[39;00m(\n\u001b[0;32m   1194\u001b[0m                     errfmt\u001b[38;5;241m.\u001b[39mformat(\u001b[38;5;28mcls\u001b[39m\u001b[38;5;241m=\u001b[39m\u001b[38;5;28mtype\u001b[39m(\u001b[38;5;28mself\u001b[39m), prop_name\u001b[38;5;241m=\u001b[39mk))\n\u001b[0;32m   1195\u001b[0m             ret\u001b[38;5;241m.\u001b[39mappend(func(v))\n\u001b[0;32m   1196\u001b[0m \u001b[38;5;28;01mif\u001b[39;00m ret:\n",
      "\u001b[1;31mAttributeError\u001b[0m: Rectangle.set() got an unexpected keyword argument 'hist'"
     ]
    },
    {
     "data": {
      "image/png": "[encoded data removed]",
      "text/plain": [
       "<Figure size 500x500 with 1 Axes>"
      ]
     },
     "metadata": {},
     "output_type": "display_data"
    }
   ],
   "source": [
    "import matplotlib.pyplot as plt\n",
    "import seaborn as sns\n",
    "sns.displot(random.uniform(size=1000), hist=False)"
   ]
  },
  {
   "cell_type": "code",
   "execution_count": 16,
   "id": "c79db0a1",
   "metadata": {},
   "outputs": [
    {
     "name": "stdout",
     "output_type": "stream",
     "text": [
      "[4 5 2 2 4 0 3 2 4 3]\n"
     ]
    }
   ],
   "source": [
    "x = random.poisson(lam=3, size=10)\n",
    "print(x)"
   ]
  },
  {
   "cell_type": "code",
   "execution_count": null,
   "id": "01af9e83",
   "metadata": {},
   "outputs": [],
   "source": [
    "# poisson distribution is a discrete distribution \n",
    "# it has two parameter:\n",
    "# lam: rate or known number of occurances\n",
    "# size: the shape of the returned araray\n"
   ]
  },
  {
   "cell_type": "code",
   "execution_count": 15,
   "id": "51954509",
   "metadata": {},
   "outputs": [
    {
     "name": "stderr",
     "output_type": "stream",
     "text": [
      "C:\\Users\\hp.1\\AppData\\Local\\Temp\\ipykernel_5392\\4041281094.py:2: UserWarning: \n",
      "\n",
      "`distplot` is a deprecated function and will be removed in seaborn v0.14.0.\n",
      "\n",
      "Please adapt your code to use either `displot` (a figure-level function with\n",
      "similar flexibility) or `histplot` (an axes-level function for histograms).\n",
      "\n",
      "For a guide to updating your code to use the new functions, please see\n",
      "https://gist.github.com/mwaskom/de44147ed2974457ad6372750bbe5751\n",
      "\n",
      "  sns.distplot(random.poisson(lam=3, size=1000), kde = False)\n"
     ]
    },
    {
     "data": {
      "text/plain": [
       "<Axes: >"
      ]
     },
     "execution_count": 15,
     "metadata": {},
     "output_type": "execute_result"
    },
    {
     "data": {
      "image/png": "[encoded data removed]",
      "text/plain": [
       "<Figure size 640x480 with 1 Axes>"
      ]
     },
     "metadata": {},
     "output_type": "display_data"
    }
   ],
   "source": [
    "%matplotlib inline\n",
    "sns.distplot(random.poisson(lam=3, size=1000), kde = False)"
   ]
  },
  {
   "cell_type": "code",
   "execution_count": null,
   "id": "1a62283c",
   "metadata": {},
   "outputs": [],
   "source": [
    "# difference between normal and poisson distribution \n",
    "# normal distribution is continuous while poisson is discrete"
   ]
  },
  {
   "cell_type": "code",
   "execution_count": 17,
   "id": "864b7dcf",
   "metadata": {},
   "outputs": [
    {
     "name": "stderr",
     "output_type": "stream",
     "text": [
      "C:\\Users\\hp.1\\AppData\\Local\\Temp\\ipykernel_5392\\2983223451.py:1: UserWarning: \n",
      "\n",
      "`distplot` is a deprecated function and will be removed in seaborn v0.14.0.\n",
      "\n",
      "Please adapt your code to use either `displot` (a figure-level function with\n",
      "similar flexibility) or `kdeplot` (an axes-level function for kernel density plots).\n",
      "\n",
      "For a guide to updating your code to use the new functions, please see\n",
      "https://gist.github.com/mwaskom/de44147ed2974457ad6372750bbe5751\n",
      "\n",
      "  sns.distplot(random.normal(loc=50, scale=7, size=1000), hist = False, label = 'normal')\n",
      "C:\\Users\\hp.1\\AppData\\Local\\Temp\\ipykernel_5392\\2983223451.py:2: UserWarning: \n",
      "\n",
      "`distplot` is a deprecated function and will be removed in seaborn v0.14.0.\n",
      "\n",
      "Please adapt your code to use either `displot` (a figure-level function with\n",
      "similar flexibility) or `histplot` (an axes-level function for histograms).\n",
      "\n",
      "For a guide to updating your code to use the new functions, please see\n",
      "https://gist.github.com/mwaskom/de44147ed2974457ad6372750bbe5751\n",
      "\n",
      "  sns.distplot(random.poisson(lam=50, size=1000), label = 'poisson')\n"
     ]
    },
    {
     "data": {
      "text/plain": [
       "<Axes: ylabel='Density'>"
      ]
     },
     "execution_count": 17,
     "metadata": {},
     "output_type": "execute_result"
    },
    {
     "data": {
      "image/png": "[encoded data removed]",
      "text/plain": [
       "<Figure size 640x480 with 1 Axes>"
      ]
     },
     "metadata": {},
     "output_type": "display_data"
    }
   ],
   "source": [
    "sns.distplot(random.normal(loc=50, scale=7, size=1000), hist = False, label = 'normal')\n",
    "sns.distplot(random.poisson(lam=50, size=1000), label = 'poisson')"
   ]
  },
  {
   "cell_type": "code",
   "execution_count": 18,
   "id": "d828f4b1",
   "metadata": {},
   "outputs": [],
   "source": [
    "# exponential distribution is used to describe time till next event eg. failure or success \n",
    "\n",
    "# it has two parameters:\n",
    "# scale - inverse of rate (default: 1.0)\n",
    "# size - the shape of the returned array"
   ]
  },
  {
   "cell_type": "code",
   "execution_count": 19,
   "id": "d57dee67",
   "metadata": {},
   "outputs": [
    {
     "name": "stdout",
     "output_type": "stream",
     "text": [
      "[[0.18075884 0.6160468 ]\n",
      " [1.38684313 5.02642572]]\n"
     ]
    }
   ],
   "source": [
    "x = random.exponential(scale = 2.5, size = (2,2))\n",
    "print(x)"
   ]
  },
  {
   "cell_type": "code",
   "execution_count": 20,
   "id": "e3b2ae25",
   "metadata": {},
   "outputs": [
    {
     "name": "stderr",
     "output_type": "stream",
     "text": [
      "C:\\Users\\hp.1\\AppData\\Local\\Temp\\ipykernel_5392\\161687296.py:1: UserWarning: \n",
      "\n",
      "`distplot` is a deprecated function and will be removed in seaborn v0.14.0.\n",
      "\n",
      "Please adapt your code to use either `displot` (a figure-level function with\n",
      "similar flexibility) or `kdeplot` (an axes-level function for kernel density plots).\n",
      "\n",
      "For a guide to updating your code to use the new functions, please see\n",
      "https://gist.github.com/mwaskom/de44147ed2974457ad6372750bbe5751\n",
      "\n",
      "  sns.distplot(random.exponential(size=100), hist = False)\n"
     ]
    },
    {
     "data": {
      "text/plain": [
       "<Axes: ylabel='Density'>"
      ]
     },
     "execution_count": 20,
     "metadata": {},
     "output_type": "execute_result"
    },
    {
     "data": {
      "image/png": "[encoded data removed]",
      "text/plain": [
       "<Figure size 640x480 with 1 Axes>"
      ]
     },
     "metadata": {},
     "output_type": "display_data"
    }
   ],
   "source": [
    "sns.distplot(random.exponential(size=100), hist = False)"
   ]
  },
  {
   "cell_type": "code",
   "execution_count": 21,
   "id": "9abf76c7",
   "metadata": {},
   "outputs": [],
   "source": [
    "# relation between exponential and poisson \n",
    "# poisson distribution denotes number of occurances of an event in a time period wherea exponential deals wtih  the time between the events"
   ]
  },
  {
   "cell_type": "code",
   "execution_count": null,
   "id": "773b06b4",
   "metadata": {},
   "outputs": [],
   "source": [
    "# # logistic distribution is used to describe growth\n",
    "# # very very important distribution\n",
    "\n",
    "# used extensively in logisic regression, neural networks etc.\n",
    "\n",
    "\n",
    "#truncaion\n",
    "# fix \n",
    "# rounding \n",
    "# floor\n",
    "# ceil\n",
    "\n"
   ]
  }
 ],
 "metadata": {
  "kernelspec": {
   "display_name": "Python 3",
   "language": "python",
   "name": "python3"
  },
  "language_info": {
   "codemirror_mode": {
    "name": "ipython",
    "version": 3
   },
   "file_extension": ".py",
   "mimetype": "text/x-python",
   "name": "python",
   "nbconvert_exporter": "python",
   "pygments_lexer": "ipython3",
   "version": "3.12.1"
  }
 },
 "nbformat": 4,
 "nbformat_minor": 5
}
